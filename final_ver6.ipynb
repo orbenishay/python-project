{
  "nbformat": 4,
  "nbformat_minor": 0,
  "metadata": {
    "colab": {
      "name": "task1.ipynb",
      "provenance": [],
      "include_colab_link": true
    },
    "kernelspec": {
      "name": "python3",
      "display_name": "Python 3"
    }
  },
  "cells": [
    {
      "cell_type": "markdown",
      "metadata": {
        "id": "view-in-github",
        "colab_type": "text"
      },
      "source": [
        "<a href=\"https://colab.research.google.com/github/orbenishay/python-project/blob/master/final_ver6.ipynb\" target=\"_parent\"><img src=\"https://colab.research.google.com/assets/colab-badge.svg\" alt=\"Open In Colab\"/></a>"
      ]
    },
    {
      "cell_type": "markdown",
      "metadata": {
        "id": "B5kt_6XrAVEE",
        "colab_type": "text"
      },
      "source": [
        "## Backround\n",
        "\n",
        "\n",
        "---\n",
        "\n",
        "We all have typing mitsakes, as we type quickly and don't want to spend our time checking our text. This mini-project aims to help detecting them. The idea is to have a script that receives a text input and returns the mistakes found, as well as an insightful statistical evaluation for the user. This utility can also be used by children learning english before submitting their work, to verifiy that there are no spell mistakes.\n",
        "\n",
        "![](data:image/jpeg;base64,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)"
      ]
    },
    {
      "cell_type": "markdown",
      "metadata": {
        "id": "epxqfHj4kl0q",
        "colab_type": "text"
      },
      "source": [
        "# Project Outline\n",
        "\n",
        "---\n",
        "\n"
      ]
    },
    {
      "cell_type": "markdown",
      "metadata": {
        "id": "bfgFIWiJkssp",
        "colab_type": "text"
      },
      "source": [
        "\n",
        "\n",
        "*   Import modules and initiations\n",
        "*   Creating a class with proper attributes and methods\n",
        "*   Get user's preferences\n",
        "*   Implementing the interface\n",
        "*   Program execution and class instantiation\n",
        "\n",
        "\n",
        "\n",
        "\n",
        "\n"
      ]
    },
    {
      "cell_type": "markdown",
      "metadata": {
        "id": "C9_q2U52ASoN",
        "colab_type": "text"
      },
      "source": [
        "\n",
        "# Import sys/re modules; mount drive"
      ]
    },
    {
      "cell_type": "code",
      "metadata": {
        "id": "JB1hpHNgCifb",
        "colab_type": "code",
        "outputId": "b33466a9-6276-4b7b-d1d8-2d2fde838a3c",
        "colab": {
          "base_uri": "https://localhost:8080/",
          "height": 34
        }
      },
      "source": [
        "# imports and initializations\n",
        "import sys\n",
        "import re\n",
        "from google.colab import files, drive\n",
        "drive.mount('/content/drive')\n",
        "\n"
      ],
      "execution_count": 30,
      "outputs": [
        {
          "output_type": "stream",
          "text": [
            "Drive already mounted at /content/drive; to attempt to forcibly remount, call drive.mount(\"/content/drive\", force_remount=True).\n"
          ],
          "name": "stdout"
        }
      ]
    },
    {
      "cell_type": "markdown",
      "metadata": {
        "id": "t0a6Dw8d_6d0",
        "colab_type": "text"
      },
      "source": [
        "# Class initialization & Methods"
      ]
    },
    {
      "cell_type": "markdown",
      "metadata": {
        "id": "I3JEbd5Dm-LF",
        "colab_type": "text"
      },
      "source": [
        "Init fuctions "
      ]
    },
    {
      "cell_type": "code",
      "metadata": {
        "id": "v8eHVK7WyGn5",
        "colab_type": "code",
        "colab": {}
      },
      "source": [
        "# Intialize class:\n",
        "class SpellChecker:\n",
        "  def __init__(self, input_type=\"file\", typo_count=20, name_ignore=True, check_english_level=True):\n",
        "      self.input_type = input_type\n",
        "      self.typo_count = typo_count\n",
        "      self.name_ignore = name_ignore\n",
        "      self.check_english_level = check_english_level\n",
        "      self.english_level_str=\"\"\n",
        "      \n",
        "      print(f\"\\n \\\n",
        "      Your preferences are:\\n \\\n",
        "      Input is a {sp.input_type}.\\n \\\n",
        "      The speller stopes checking after {sp.typo_count} typos\\n \\\n",
        "      The speller{name_ignore_w} checking names \\n \\\n",
        "      The speller{english_level_w} evaluate the text's English level\")\n",
        "      \n",
        "  def load_text(self):\n",
        "    if self.input_type == 'text':\n",
        "      input2 = input(\"Please enter your text:\")\n",
        "      text1 = input2.split(\"/n\") #was by period\n",
        "      # print(text1)\n",
        "    else: # elif input_type.lower() == 'file':\n",
        "      uploaded = files.upload()\n",
        "      fname = list(uploaded.keys())[0]\n",
        "      with open(fname) as f1:\n",
        "        text1 = []\n",
        "        for line in f1:\n",
        "          text1.append(line)\n",
        "    return text1\n",
        "\n",
        " # English-level checker   \n",
        "\n",
        "  def english_level(self,number_word,number_difficoult_words):\n",
        "      if number_word>0:\n",
        "        precent_difficoult_words=number_difficoult_words/number_word\n",
        "        if precent_difficoult_words>0.1:\n",
        "          self.english_level_str=\"is excelent\"\n",
        "        elif precent_difficoult_words>0.01:\n",
        "          self.english_level_str=\"is fine\"\n",
        "        else:\n",
        "          self.english_level_str=\"can be better\"\n",
        "      else:\n",
        "        self.english_level_str=\"can not be evaluate\"\n",
        "\n",
        "# Parsing the text (data cleanning)\n",
        "\n",
        "  def parse_rows(self, text):\n",
        "    word_dict = {}\n",
        "    for row_num, sentence in enumerate(text):\n",
        "      words_list = sentence.split()\n",
        "      for word_num, word in enumerate(words_list):\n",
        "        dispo = True\n",
        "        match_word = re.search('^[a-z]+$', word)\n",
        "        match_cap = re.match('[A-Z]', word)\n",
        "        match_comma = re.search('^[a-z]+,$', word)\n",
        "        match_period = re.search('^[a-z]+,$', word)\n",
        "\n",
        "        if len(word)<=2:\n",
        "          dispo = False\n",
        "        elif self.name_ignore == True and word_num>0 and bool(match_cap)==True:\n",
        "            dispo = False\n",
        "        elif bool(match_comma)==True or bool(match_period)==True:\n",
        "          dispo = True\n",
        "        elif bool(match_word)==False:\n",
        "          dispo = False\n",
        "            \n",
        "        word_and_dispo = (word, dispo)\n",
        "        word_dict[(row_num, word_num)] = word_and_dispo\n",
        "\n",
        "    return word_dict  "
      ],
      "execution_count": 0,
      "outputs": []
    },
    {
      "cell_type": "code",
      "metadata": {
        "id": "wq_ziLUu3c2L",
        "colab_type": "code",
        "colab": {}
      },
      "source": [
        "#This function checkes if word is in dictionery \n",
        "def wordinenglish(word,dic):\n",
        "  #input: word - a string in English lowcase, dic - dictionery format {\"words\":[]}, \n",
        "  # return boolian if word in dic\n",
        "  if word in dic:\n",
        "    return True\n",
        "  else:\n",
        "    return False"
      ],
      "execution_count": 0,
      "outputs": []
    },
    {
      "cell_type": "code",
      "metadata": {
        "id": "xmZhjqnj2nes",
        "colab_type": "code",
        "colab": {}
      },
      "source": [
        "#Check Spelling- core function:\n",
        "def speller(allwordes,dic,dicall={}):\n",
        "  \n",
        "  # This function checks spelling \n",
        "  # inputs:\n",
        "  # allwords - words to be checked. format: {(<line>,<index>):[<word>,boolean]}\n",
        "  # dic - primary dictionary of frequent English words for efficient lookup. format: {<word>:[\"\"]}\n",
        "  # dicall - secondery dictionery, format {<word>:[\"\"]}, default value is empty and not be used\n",
        "  # outputs:\n",
        "  # mistakes - words checked and don't exist at either dictionaries. format {(<line>,<index>):[<word>]}\n",
        "  \n",
        "  \n",
        "  lincounter=0\n",
        "  wordcounter=0\n",
        "  mistakecounter1=0\n",
        "  mistakecounter2=0\n",
        "  mistakes = {}\n",
        "  \n",
        "  # lincounter, wordcounter, mistakecounter1, mistakecounter2, mistakes = 0,0,0,0,{}\n",
        "  \n",
        "  for (line,index) in allwordes.keys():\n",
        "    if mistakecounter2 >= int(typo_count):\n",
        "      break\n",
        "    word=allwordes[(line,index)]\n",
        "    if word[1]: # (if word[1]=True)\n",
        "        if not wordinenglish(word[0],dic):\n",
        "          mistakecounter1+=1\n",
        "        \n",
        "          if not wordinenglish(word[0],dicall):\n",
        "            mistakecounter2+=1\n",
        "            mistakes[(line,index)]=word[0] \n",
        "\n",
        "  return mistakes, mistakecounter1, mistakecounter2"
      ],
      "execution_count": 0,
      "outputs": []
    },
    {
      "cell_type": "markdown",
      "metadata": {
        "id": "LL-1pYMnmAs8",
        "colab_type": "text"
      },
      "source": [
        "# Get user preferences"
      ]
    },
    {
      "cell_type": "code",
      "metadata": {
        "id": "FxE6SKc6ClyV",
        "colab_type": "code",
        "colab": {}
      },
      "source": [
        "input_type=\"\"\n",
        "while  input_type.lower() not in ['t','f']:\n",
        "  input_type = input(\"Hello. To enter text please enter \\'t\\'. To upload a text file please enter \\'f\\': \")\n",
        "if input_type.lower() == 't':\n",
        "  input_type=\"text\"\n",
        "else:\n",
        "  input_type=\"file\"\n",
        "\n",
        "\n",
        "typo_count = \"0\"\n",
        "typo_count = input(\"please enter the amount of errors you would like to find in your text:\")\n",
        "while typo_count.isdigit() == False and typo_count !=0:\n",
        "  typo_count = input(\"please enter the amount of errors you would like to find in your text:\")\n",
        "\n",
        "name_input = \"\"\n",
        "name_ignore = True\n",
        "while name_input.lower() not in ['y', 'n']:\n",
        "  name_input = input(\"would you like to ignore names in your text? (Y/N)\").upper()\n",
        "  if name_input == 'Y':\n",
        "    name_ignore = True\n",
        "  elif name_input == 'N':\n",
        "    name_ignore = False\n",
        "check_english_level_input = \"\"\n",
        "check_english_level = True\n",
        "while check_english_level_input.lower() not in ['y', 'n']:\n",
        "  check_english_level_input = input(\"would you like to evaluate text English level? (Y/N)\").upper()\n",
        "  if check_english_level_input == 'Y':\n",
        "    check_english_level = True\n",
        "  elif check_english_level_input == 'N':\n",
        "    check_english_level = False\n",
        "\n",
        "sp = SpellChecker(input_type=input_type,typo_count=typo_count,name_ignore=name_ignore,check_english_level=check_english_level)\n",
        "\n",
        "if sp.check_english_level:\n",
        "  english_level_w=\" will\"\n",
        "else:\n",
        "  english_level_w=\" will not\"\n",
        "\n",
        "if sp.name_ignore:\n",
        "  name_ignore_w=\" will not\"\n",
        "else:\n",
        "  name_ignore_w=\" will\"\n"
      ],
      "execution_count": 0,
      "outputs": []
    },
    {
      "cell_type": "markdown",
      "metadata": {
        "id": "HrlPtntOp5CG",
        "colab_type": "text"
      },
      "source": [
        "Upload a file or text"
      ]
    },
    {
      "cell_type": "code",
      "metadata": {
        "id": "kkhx7TQEjwdE",
        "colab_type": "code",
        "outputId": "f1fea87c-5883-4339-ccdc-4ce284d7b7b7",
        "colab": {
          "resources": {
            "http://localhost:8080/nbextensions/google.colab/files.js": {
              "data": "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",
              "ok": true,
              "headers": [
                [
                  "content-type",
                  "application/javascript"
                ]
              ],
              "status": 200,
              "status_text": ""
            }
          },
          "base_uri": "https://localhost:8080/",
          "height": 74
        }
      },
      "source": [
        "text1 = sp.load_text()\n"
      ],
      "execution_count": 0,
      "outputs": [
        {
          "output_type": "display_data",
          "data": {
            "text/html": [
              "\n",
              "     <input type=\"file\" id=\"files-0746b7b6-1da5-4c81-aef7-8c53154a2bc7\" name=\"files[]\" multiple disabled />\n",
              "     <output id=\"result-0746b7b6-1da5-4c81-aef7-8c53154a2bc7\">\n",
              "      Upload widget is only available when the cell has been executed in the\n",
              "      current browser session. Please rerun this cell to enable.\n",
              "      </output>\n",
              "      <script src=\"/nbextensions/google.colab/files.js\"></script> "
            ],
            "text/plain": [
              "<IPython.core.display.HTML object>"
            ]
          },
          "metadata": {
            "tags": []
          }
        },
        {
          "output_type": "stream",
          "text": [
            "Saving Sample.txt to Sample (1).txt\n"
          ],
          "name": "stdout"
        }
      ]
    },
    {
      "cell_type": "markdown",
      "metadata": {
        "id": "62EURik8p8Lv",
        "colab_type": "text"
      },
      "source": [
        "Parsing the text"
      ]
    },
    {
      "cell_type": "code",
      "metadata": {
        "id": "0JGvMAhlikFN",
        "colab_type": "code",
        "outputId": "2986f617-e401-48fa-bdb3-f92243aeb6c4",
        "colab": {
          "base_uri": "https://localhost:8080/",
          "height": 71
        }
      },
      "source": [
        "parsed_text = sp.parse_rows(text1)\n",
        "print(parsed_text)\n",
        "print(text1)"
      ],
      "execution_count": 0,
      "outputs": [
        {
          "output_type": "stream",
          "text": [
            "{(0, 0): ('To', False), (0, 1): ('Sherlock', False), (0, 2): ('Holmes', False), (0, 3): ('she', True), (0, 4): ('is', False), (0, 5): ('alwayis', True), (0, 6): ('the', True), (0, 7): ('woman.', False), (0, 8): ('I', False), (0, 9): ('have', True), (0, 10): ('seldom', True), (0, 11): ('heard', True), (0, 12): ('him', True), (1, 0): ('mention', True), (1, 1): ('her', True), (1, 2): ('under', True), (1, 3): ('any', True), (1, 4): ('ohter', True), (1, 5): ('name.', False), (1, 6): ('In', False), (1, 7): ('his', True), (1, 8): ('eyes', True), (1, 9): ('she', True), (1, 10): ('eklipses', True), (1, 11): ('and', True), (2, 0): ('predominates', True), (2, 1): ('the', True), (2, 2): ('whole', True), (2, 3): ('of', False), (2, 4): ('her', True), (2, 5): ('sex.', False), (2, 6): ('It', False), (2, 7): ('was', True), (2, 8): ('not', True), (2, 9): ('that', True), (2, 10): ('he', False), (2, 11): ('felt', True), (2, 12): ('any', True), (3, 0): ('emotion', True), (3, 1): ('akin', True), (3, 2): ('to', False), (3, 3): ('love', True), (3, 4): ('for', True), (3, 5): ('Irene', False), (3, 6): ('Adler.', False), (3, 7): ('All', False), (3, 8): ('emosions,', False), (3, 9): ('and', True), (3, 10): ('that', True), (3, 11): ('one', True), (4, 0): ('particularly,', False), (4, 1): ('were', True), (4, 2): ('abhorrent', True), (4, 3): ('to', False), (4, 4): ('his', True), (4, 5): ('cold,', False), (4, 6): ('precise', True), (4, 7): ('but', True), (4, 8): ('admirably', True), (5, 0): ('balanced', True), (5, 1): ('mind.', False), (5, 2): ('He', False), (5, 3): ('was,', False), (5, 4): ('I', False), (5, 5): ('take', True), (5, 6): ('it,', False), (5, 7): ('the', True), (5, 8): ('most', True), (5, 9): ('perfect', True), (5, 10): ('reasoning', True), (5, 11): ('and', True), (6, 0): ('observing', True), (6, 1): ('machine', True), (6, 2): ('that', True), (6, 3): ('the', True), (6, 4): ('world', True), (6, 5): ('has', True), (6, 6): ('seen,', False), (6, 7): ('but', True), (6, 8): ('as', False), (6, 9): ('a', False), (6, 10): ('lover', True), (6, 11): ('he', False), (6, 12): ('would', True), (7, 0): ('have', True), (7, 1): ('placed', True), (7, 2): ('himself', True), (7, 3): ('in', False), (7, 4): ('a', False), (7, 5): ('false', True), (7, 6): ('position.', False), (7, 7): ('He', False), (7, 8): ('never', True), (7, 9): ('spoke', True), (7, 10): ('of', False), (7, 11): ('the', True), (7, 12): ('softer', True), (8, 0): ('passions,', False), (8, 1): ('save', True), (8, 2): ('with', True), (8, 3): ('a', False), (8, 4): ('gibe', True), (8, 5): ('and', True), (8, 6): ('a', False), (8, 7): ('sneer.', False), (8, 8): ('They', False), (8, 9): ('were', True), (8, 10): ('admirable', True), (8, 11): ('things', True), (9, 0): ('for', True), (9, 1): ('the', True), (9, 2): ('observer--excellent', False), (9, 3): ('for', True), (9, 4): ('drawing', True), (9, 5): ('the', True), (9, 6): ('veil', True), (9, 7): ('from', True), (9, 8): (\"men's\", False), (9, 9): ('motives', True), (10, 0): ('and', True), (10, 1): ('actions.', False), (10, 2): ('But', False), (10, 3): ('for', True), (10, 4): ('the', True), (10, 5): ('trained', True), (10, 6): ('reasoner', True), (10, 7): ('to', False), (10, 8): ('admit', True), (10, 9): ('such', True), (10, 10): ('intrusions', True), (11, 0): ('into', True), (11, 1): ('his', True), (11, 2): ('own', True), (11, 3): ('delicate', True), (11, 4): ('and', True), (11, 5): ('finely', True), (11, 6): ('adjusted', True), (11, 7): ('temperament', True), (11, 8): ('was', True), (11, 9): ('to', False), (12, 0): ('introduce', True), (12, 1): ('a', False), (12, 2): ('distracting', True), (12, 3): ('factor', True), (12, 4): ('which', True), (12, 5): ('might', True), (12, 6): ('throw', True), (12, 7): ('a', False), (12, 8): ('doubt', True), (12, 9): ('upon', True), (12, 10): ('all', True), (12, 11): ('his', True), (13, 0): ('mental', True), (13, 1): ('results.', False), (13, 2): ('Grit', False), (13, 3): ('in', False), (13, 4): ('a', False), (13, 5): ('sensitive', True), (13, 6): ('instrument,', False), (13, 7): ('or', False), (13, 8): ('a', False), (13, 9): ('crack', True), (13, 10): ('in', False), (13, 11): ('one', True), (13, 12): ('of', False), (14, 0): ('his', True), (14, 1): ('own', True), (14, 2): ('high-power', False), (14, 3): ('lenses,', False), (14, 4): ('would', True), (14, 5): ('not', True), (14, 6): ('be', False), (14, 7): ('more', True), (14, 8): ('disturbing', True), (14, 9): ('than', True), (14, 10): ('a', False), (14, 11): ('strong', True), (15, 0): ('emotion', True), (15, 1): ('in', False), (15, 2): ('a', False), (15, 3): ('nature', True), (15, 4): ('such', True), (15, 5): ('as', False), (15, 6): ('his.', False), (15, 7): ('And', False), (15, 8): ('yet', True), (15, 9): ('there', True), (15, 10): ('was', True), (15, 11): ('but', True), (15, 12): ('one', True), (15, 13): ('woman', True), (15, 14): ('to', False), (16, 0): ('him,', False), (16, 1): ('and', True), (16, 2): ('that', True), (16, 3): ('woman', True), (16, 4): ('was', True), (16, 5): ('the', True), (16, 6): ('late', True), (16, 7): ('Irene', False), (16, 8): ('Adler,', False), (16, 9): ('of', False), (16, 10): ('dubious', True), (16, 11): ('and', True), (17, 0): ('questionable', True), (17, 1): ('memory.', False), (19, 0): ('I', False), (19, 1): ('had', True), (19, 2): ('seen', True), (19, 3): ('little', True), (19, 4): ('of', False), (19, 5): ('Holmes', False), (19, 6): ('lately.', False), (19, 7): ('My', False), (19, 8): ('marriage', True), (19, 9): ('had', True), (19, 10): ('drifted', True), (19, 11): ('us', False), (19, 12): ('away', True), (20, 0): ('from', True), (20, 1): ('each', True), (20, 2): ('other.', False), (20, 3): ('My', False), (20, 4): ('own', True), (20, 5): ('complete', True), (20, 6): ('happiness,', False), (20, 7): ('and', True), (20, 8): ('the', True), (20, 9): ('home-centred', False), (21, 0): ('interests', True), (21, 1): ('which', True), (21, 2): ('rise', True), (21, 3): ('up', False), (21, 4): ('around', True), (21, 5): ('the', True), (21, 6): ('man', True), (21, 7): ('who', True), (21, 8): ('first', True), (21, 9): ('finds', True), (21, 10): ('himself', True), (21, 11): ('master', True), (22, 0): ('of', False), (22, 1): ('his', True), (22, 2): ('own', True), (22, 3): ('establishment,', False), (22, 4): ('were', True), (22, 5): ('sufficient', True), (22, 6): ('to', False), (22, 7): ('absorb', True), (22, 8): ('all', True), (22, 9): ('my', False), (22, 10): ('attention,', False), (23, 0): ('while', True), (23, 1): ('Holmes,', False), (23, 2): ('who', True), (23, 3): ('loathed', True), (23, 4): ('every', True), (23, 5): ('form', True), (23, 6): ('of', False), (23, 7): ('society', True), (23, 8): ('with', True), (23, 9): ('his', True), (23, 10): ('whole', True), (24, 0): ('Bohemian', False), (24, 1): ('soul,', False), (24, 2): ('remained', True), (24, 3): ('in', False), (24, 4): ('our', True), (24, 5): ('lodgings', True), (24, 6): ('in', False), (24, 7): ('Baker', False), (24, 8): ('Street,', False), (24, 9): ('buried', True), (24, 10): ('among', True), (25, 0): ('his', True), (25, 1): ('old', True), (25, 2): ('books,', False), (25, 3): ('and', True), (25, 4): ('alternating', True), (25, 5): ('from', True), (25, 6): ('week', True), (25, 7): ('to', False), (25, 8): ('week', True), (25, 9): ('between', True), (25, 10): ('cocaine', True), (25, 11): ('and', True), (26, 0): ('ambition,', False), (26, 1): ('the', True), (26, 2): ('drowsiness', True), (26, 3): ('of', False), (26, 4): ('the', True), (26, 5): ('drug,', False), (26, 6): ('and', True), (26, 7): ('the', True), (26, 8): ('fierce', True), (26, 9): ('energy', True), (26, 10): ('of', False), (26, 11): ('his', True), (27, 0): ('own', True), (27, 1): ('keen', True), (27, 2): ('nature.', False), (27, 3): ('He', False), (27, 4): ('was', True), (27, 5): ('still,', False), (27, 6): ('as', False), (27, 7): ('ever,', False), (27, 8): ('deeply', True), (27, 9): ('attracted', True), (27, 10): ('by', False), (27, 11): ('the', True), (27, 12): ('study', True), (28, 0): ('of', False), (28, 1): ('crime,', False), (28, 2): ('and', True), (28, 3): ('occupied', True), (28, 4): ('his', True), (28, 5): ('immense', True), (28, 6): ('faculties', True), (28, 7): ('and', True), (28, 8): ('extraordinary', True), (28, 9): ('powers', True), (29, 0): ('of', False), (29, 1): ('observation', True), (29, 2): ('in', False), (29, 3): ('following', True), (29, 4): ('out', True), (29, 5): ('those', True), (29, 6): ('clues,', False), (29, 7): ('and', True), (29, 8): ('clearing', True), (29, 9): ('up', False), (29, 10): ('those', True), (30, 0): ('mysteries', True), (30, 1): ('which', True), (30, 2): ('had', True), (30, 3): ('been', True), (30, 4): ('abandoned', True), (30, 5): ('as', False), (30, 6): ('hopeless', True), (30, 7): ('by', False), (30, 8): ('the', True), (30, 9): ('official', True), (31, 0): ('police.', False), (31, 1): ('From', False), (31, 2): ('time', True), (31, 3): ('to', False), (31, 4): ('time', True), (31, 5): ('I', False), (31, 6): ('heard', True), (31, 7): ('some', True), (31, 8): ('vague', True), (31, 9): ('account', True), (31, 10): ('of', False), (31, 11): ('his', True), (31, 12): ('doings:', False), (32, 0): ('of', False), (32, 1): ('his', True), (32, 2): ('summons', True), (32, 3): ('to', False), (32, 4): ('Odessa', False), (32, 5): ('in', False), (32, 6): ('the', True), (32, 7): ('case', True), (32, 8): ('of', False), (32, 9): ('the', True), (32, 10): ('Trepoff', False), (32, 11): ('murder,', False), (32, 12): ('of', False), (32, 13): ('his', True), (33, 0): ('clearing', True), (33, 1): ('up', False), (33, 2): ('of', False), (33, 3): ('the', True), (33, 4): ('singular', True), (33, 5): ('tragedy', True), (33, 6): ('of', False), (33, 7): ('the', True), (33, 8): ('Atkinson', False), (33, 9): ('brothers', True), (33, 10): ('at', False), (34, 0): ('Trincomalee,', False), (34, 1): ('and', True), (34, 2): ('finally', True), (34, 3): ('of', False), (34, 4): ('the', True), (34, 5): ('mission', True), (34, 6): ('which', True), (34, 7): ('he', False), (34, 8): ('had', True), (34, 9): ('accomplished', True), (34, 10): ('so', False), (35, 0): ('delicately', True), (35, 1): ('and', True), (35, 2): ('successfully', True), (35, 3): ('for', True), (35, 4): ('the', True), (35, 5): ('reigning', True), (35, 6): ('family', True), (35, 7): ('of', False), (35, 8): ('Holland.', False), (36, 0): ('Beyond', False), (36, 1): ('these', True), (36, 2): ('signs', True), (36, 3): ('of', False), (36, 4): ('his', True), (36, 5): ('activity,', False), (36, 6): ('however,', False), (36, 7): ('which', True), (36, 8): ('I', False), (36, 9): ('merely', True), (36, 10): ('shared', True), (37, 0): ('with', True), (37, 1): ('all', True), (37, 2): ('the', True), (37, 3): ('readers', True), (37, 4): ('of', False), (37, 5): ('the', True), (37, 6): ('daily', True), (37, 7): ('press,', False), (37, 8): ('I', False), (37, 9): ('knew', True), (37, 10): ('little', True), (37, 11): ('of', False), (37, 12): ('my', False), (37, 13): ('former', True), (38, 0): ('friend', True), (38, 1): ('and', True), (38, 2): ('companion.', False)}\n",
            "['     To Sherlock Holmes she is alwayis the woman. I have seldom heard him\\n', '     mention her under any ohter name. In his eyes she eklipses and\\n', '     predominates the whole of her sex. It was not that he felt any\\n', '     emotion akin to love for Irene Adler. All emosions, and that one\\n', '     particularly, were abhorrent to his cold, precise but admirably\\n', '     balanced mind. He was, I take it, the most perfect reasoning and\\n', '     observing machine that the world has seen, but as a lover he would\\n', '     have placed himself in a false position. He never spoke of the softer\\n', '     passions, save with a gibe and a sneer. They were admirable things\\n', \"     for the observer--excellent for drawing the veil from men's motives\\n\", '     and actions. But for the trained reasoner to admit such intrusions\\n', '     into his own delicate and finely adjusted temperament was to\\n', '     introduce a distracting factor which might throw a doubt upon all his\\n', '     mental results. Grit in a sensitive instrument, or a crack in one of\\n', '     his own high-power lenses, would not be more disturbing than a strong\\n', '     emotion in a nature such as his. And yet there was but one woman to\\n', '     him, and that woman was the late Irene Adler, of dubious and\\n', '     questionable memory.\\n', '\\n', '     I had seen little of Holmes lately. My marriage had drifted us away\\n', '     from each other. My own complete happiness, and the home-centred\\n', '     interests which rise up around the man who first finds himself master\\n', '     of his own establishment, were sufficient to absorb all my attention,\\n', '     while Holmes, who loathed every form of society with his whole\\n', '     Bohemian soul, remained in our lodgings in Baker Street, buried among\\n', '     his old books, and alternating from week to week between cocaine and\\n', '     ambition, the drowsiness of the drug, and the fierce energy of his\\n', '     own keen nature. He was still, as ever, deeply attracted by the study\\n', '     of crime, and occupied his immense faculties and extraordinary powers\\n', '     of observation in following out those clues, and clearing up those\\n', '     mysteries which had been abandoned as hopeless by the official\\n', '     police. From time to time I heard some vague account of his doings:\\n', '     of his summons to Odessa in the case of the Trepoff murder, of his\\n', '     clearing up of the singular tragedy of the Atkinson brothers at\\n', '     Trincomalee, and finally of the mission which he had accomplished so\\n', '     delicately and successfully for the reigning family of Holland.\\n', '     Beyond these signs of his activity, however, which I merely shared\\n', '     with all the readers of the daily press, I knew little of my former\\n', '     friend and companion.']\n"
          ],
          "name": "stdout"
        }
      ]
    },
    {
      "cell_type": "code",
      "metadata": {
        "id": "j_ch-uuOxKLZ",
        "colab_type": "code",
        "colab": {}
      },
      "source": [
        "fname = \"/content/drive/My Drive/5000words.txt\"\n",
        "dic={}\n",
        "with open(fname) as f2:\n",
        "    for line in f2:\n",
        "        word=line.split()\n",
        "        if not(word[0]==\"Rank\"): #remooving header from the words file\n",
        "               dic[word[1]]=[word[0],word[2],word[3]]\n",
        "\n",
        "\n",
        "# print(dic)\n",
        "\n",
        "fname = \"/content/drive/My Drive/allwords.txt\"\n",
        "dicall={}\n",
        "with open(fname) as f3:\n",
        "    for line in f3:\n",
        "        dicall[line.split()[0]]=\"\"\n",
        "#print(dicall)"
      ],
      "execution_count": 0,
      "outputs": []
    },
    {
      "cell_type": "markdown",
      "metadata": {
        "id": "4YLDT86mXThl",
        "colab_type": "text"
      },
      "source": [
        "# **Spelling report**\n",
        "\n",
        "---\n",
        "calling the speller function and present the mistakes, the rate of errors and indication on English level \n"
      ]
    },
    {
      "cell_type": "code",
      "metadata": {
        "id": "M3V-jUWOXSIE",
        "colab_type": "code",
        "colab": {}
      },
      "source": [
        "mistakes, mistakecounter1, mistakecounter2= speller(allwordes=parsed_text,dic=dic, dicall=dicall)\n",
        "\n",
        "print(f\"\\n ~~~~~~~~~~~~~~~~~~~~~~~~~~~~~~~~~~~~~~~~~~~~~~~~~~~~~~~\\n \\\n",
        "Spelling Report:\\n Speller has found {len(mistakes)} spelling mistakes,\\\n",
        "{len(mistakes)/len(parsed_text):.1%} of the wordes were misspelled\\n\")\n",
        "  \n",
        "if sp.check_english_level == True:\n",
        "  sp.english_level(len(parsed_text),(mistakecounter1-mistakecounter2))\n",
        "  print(f\"The English level of the texst {sp.english_level_str}\\n\")\n",
        "  print(\"These are the spelling mistakes found in the text:\\n\")\n",
        "\n",
        "for (line,index) in mistakes.keys():\n",
        "  print(f\"In line {str(line)}, at index {str(index)}: the word \\\"{mistakes[(line,index)]}\\\" was mispelled\")\n",
        "\n",
        "print(\"\\n~~~~~~~~~~~~~~~~~~~~~~~~~~~~~~~~~~~~~~~~~~~~~~~~~~~~~~~~~~~~~~~~~~~~~~~~~~~\")"
      ],
      "execution_count": 0,
      "outputs": []
    },
    {
      "cell_type": "markdown",
      "metadata": {
        "id": "7d-3LCFdYNjs",
        "colab_type": "text"
      },
      "source": [
        "Python elements used:\n",
        "\n",
        "*   Nested loop\n",
        "*   String literals (/n)\n",
        "*   Index from list\n",
        "*   append()\n",
        "*   split()\n",
        "*   Tuple\n",
        "*   Dictionaries\n",
        "*   keys(), values() & items()\n",
        "*   If, elif, else, nested if, \n",
        "*   While\n",
        "*   list comprehension\n",
        "*   input()\n",
        "*   F formatting\n",
        "*   Functions (def)\n",
        "*   Lambda functions\n",
        "*   Built in functions: enumerate()\n",
        "*   Class\n",
        "*   Instantiation, methods\n",
        "*   Files\n",
        "*   Open\n",
        "*   With block\n",
        "*   import\n",
        "*   datetime\n",
        "*   Regex\n",
        "\n",
        "\n",
        "\n",
        "\n",
        "\n",
        "\n",
        "\n",
        "\n",
        "\n",
        "\n",
        "\n",
        "\n"
      ]
    }
  ]
}