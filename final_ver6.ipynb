{
  "nbformat": 4,
  "nbformat_minor": 0,
  "metadata": {
    "colab": {
      "name": "task1.ipynb",
      "provenance": [],
      "include_colab_link": true
    },
    "kernelspec": {
      "name": "python3",
      "display_name": "Python 3"
    }
  },
  "cells": [
    {
      "cell_type": "markdown",
      "metadata": {
        "id": "view-in-github",
        "colab_type": "text"
      },
      "source": [
        "<a href=\"https://colab.research.google.com/github/orbenishay/python-project/blob/master/final_ver6.ipynb\" target=\"_parent\"><img src=\"https://colab.research.google.com/assets/colab-badge.svg\" alt=\"Open In Colab\"/></a>"
      ]
    },
    {
      "cell_type": "markdown",
      "metadata": {
        "id": "B5kt_6XrAVEE",
        "colab_type": "text"
      },
      "source": [
        "## Backround\n",
        "\n",
        "\n",
        "---\n",
        "\n",
        "We all have typing mitsakes, as we type quickly and don't want to spend our time checking our text. This mini-project aims to help detecting them. The idea is to have a script that receives a text input and returns the mistakes found, as well as an insightful statistical evaluation for the user. This utility can also be used by children learning english before submitting their work, to verifiy that there are no spell mistakes.\n",
        "\n",
        "![](data:image/jpeg;base64,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)"
      ]
    },
    {
      "cell_type": "markdown",
      "metadata": {
        "id": "epxqfHj4kl0q",
        "colab_type": "text"
      },
      "source": [
        "# Project Outline\n",
        "\n",
        "---\n",
        "\n"
      ]
    },
    {
      "cell_type": "markdown",
      "metadata": {
        "id": "bfgFIWiJkssp",
        "colab_type": "text"
      },
      "source": [
        "\n",
        "\n",
        "*   Import modules and initiations\n",
        "*   Creating a class with proper attributes and methods\n",
        "*   Get user's preferences\n",
        "*   Implementing the interface\n",
        "*   Program execution and class instantiation\n",
        "\n",
        "\n",
        "\n",
        "\n",
        "\n"
      ]
    },
    {
      "cell_type": "markdown",
      "metadata": {
        "id": "C9_q2U52ASoN",
        "colab_type": "text"
      },
      "source": [
        "\n",
        "# Import modules; mount drive"
      ]
    },
    {
      "cell_type": "code",
      "metadata": {
        "id": "JB1hpHNgCifb",
        "colab_type": "code",
        "outputId": "20324ff3-0eae-4194-e6a9-760564fd7907",
        "colab": {
          "base_uri": "https://localhost:8080/",
          "height": 35
        }
      },
      "source": [
        "# imports and initializations\n",
        "import sys\n",
        "import re\n",
        "from google.colab import files, drive\n",
        "drive.mount('/content/drive')\n",
        "\n"
      ],
      "execution_count": 30,
      "outputs": [
        {
          "output_type": "stream",
          "text": [
            "Drive already mounted at /content/drive; to attempt to forcibly remount, call drive.mount(\"/content/drive\", force_remount=True).\n"
          ],
          "name": "stdout"
        }
      ]
    },
    {
      "cell_type": "markdown",
      "metadata": {
        "id": "t0a6Dw8d_6d0",
        "colab_type": "text"
      },
      "source": [
        "# SpellChecker Class Definition and helper methods"
      ]
    },
    {
      "cell_type": "code",
      "metadata": {
        "id": "v8eHVK7WyGn5",
        "colab_type": "code",
        "colab": {}
      },
      "source": [
        "class SpellChecker:\n",
        "  # Initialize class\n",
        "  def __init__(self, input_type=\"file\", typo_count=20, name_ignore=True, check_english_level=True):\n",
        "      self.input_type = input_type\n",
        "      self.typo_count = typo_count\n",
        "      self.name_ignore = name_ignore\n",
        "      self.check_english_level = check_english_level\n",
        "      self.english_level_str=\"\"\n",
        "      \n",
        "      if self.check_english_level:\n",
        "        english_level_w=\"will\"\n",
        "      else:\n",
        "        english_level_w=\"will not\"\n",
        "\n",
        "      if self.name_ignore:\n",
        "        name_ignore_w=\"will not\"\n",
        "      else:\n",
        "        name_ignore_w=\"will\"\n",
        "\n",
        "      print(f\"\\n \\\n",
        "      Your preferences are:\\n \\\n",
        "      Input will be a {self.input_type}.\\n \\\n",
        "      The speller stopes checking after {self.typo_count} typos.\\n \\\n",
        "      The speller {name_ignore_w} check names.\\n \\\n",
        "      The speller {english_level_w} evaluate the text's English level.\")\n",
        "      \n",
        "  # Load text \n",
        "  def load_text(self):\n",
        "    if self.input_type == 'text':\n",
        "      input2 = input(\"Please enter your text:\")\n",
        "      text1 = input2.split(\"/n\") #was by period\n",
        "      # print(text1)\n",
        "    else: # elif input_type.lower() == 'file':\n",
        "      uploaded = files.upload()\n",
        "      fname = list(uploaded.keys())[0]\n",
        "      with open(fname) as f1:\n",
        "        text1 = []\n",
        "        for line in f1:\n",
        "          text1.append(line)\n",
        "    return text1\n",
        "\n",
        "  # Determine English-level\n",
        "  def english_level(self,number_word,number_difficoult_words):\n",
        "      if number_word>0:\n",
        "        precent_difficoult_words=number_difficoult_words/number_word\n",
        "        if precent_difficoult_words>0.1:\n",
        "          self.english_level_str=\"is excellent\"\n",
        "        elif precent_difficoult_words>0.01:\n",
        "          self.english_level_str=\"is fine\"\n",
        "        else:\n",
        "          self.english_level_str=\"can be better\"\n",
        "      else:\n",
        "        self.english_level_str=\"can not be evaluate\"\n",
        "\n",
        "  # Parsing the text (data cleanning)\n",
        "  def parse_rows(self, text):\n",
        "    word_dict = {}\n",
        "    for row_num, sentence in enumerate(text):\n",
        "      words_list = sentence.split()\n",
        "      for word_num, word in enumerate(words_list):\n",
        "        word = word.strip(',.?!')\n",
        "        dispo = True\n",
        "        match_word = re.search('^[a-z]+$', word)\n",
        "        match_cap = re.match('[A-Z]', word)\n",
        "        match_comma = re.search('^[a-z]+,$', word)\n",
        "        match_period = re.search('^[a-z]+,$', word)\n",
        "\n",
        "        if len(word)<=2:\n",
        "          dispo = False\n",
        "        elif self.name_ignore == True and word_num>0 and bool(match_cap)==True:\n",
        "            dispo = False\n",
        "        elif bool(match_comma)==True or bool(match_period)==True:\n",
        "          dispo = True\n",
        "        elif bool(match_word)==False:\n",
        "          dispo = False\n",
        "            \n",
        "        word_and_dispo = (word, dispo)\n",
        "        word_dict[(row_num, word_num)] = word_and_dispo\n",
        "\n",
        "    return word_dict  "
      ],
      "execution_count": 0,
      "outputs": []
    },
    {
      "cell_type": "code",
      "metadata": {
        "id": "wq_ziLUu3c2L",
        "colab_type": "code",
        "colab": {}
      },
      "source": [
        "#This function checkes if word is in dictionery \n",
        "def wordinenglish(word,dic):\n",
        "  #input: word - a string in English lowcase, dic - dictionery format {\"words\":[]}, \n",
        "  # return boolian if word in dic\n",
        "  if word in dic:\n",
        "    return True\n",
        "  else:\n",
        "    return False"
      ],
      "execution_count": 0,
      "outputs": []
    },
    {
      "cell_type": "code",
      "metadata": {
        "id": "xmZhjqnj2nes",
        "colab_type": "code",
        "colab": {}
      },
      "source": [
        "#Check Spelling- core function:\n",
        "def speller(allwordes,dic,dicall={}):\n",
        "  \n",
        "  # This function checks spelling \n",
        "  # inputs:\n",
        "  # allwords - words to be checked. format: {(<line>,<index>):[<word>,boolean]}\n",
        "  # dic - primary dictionary of frequent English words for efficient lookup. format: {<word>:[\"\"]}\n",
        "  # dicall - secondery dictionery, format {<word>:[\"\"]}, default value is empty and not be used\n",
        "  # outputs:\n",
        "  # mistakes - words checked and don't exist at either dictionaries. format {(<line>,<index>):[<word>]}\n",
        "  \n",
        "  lincounter, wordcounter, mistakecounter1, mistakecounter2, mistakes = 0,0,0,0,{}\n",
        "  \n",
        "  for (line,index) in allwordes.keys():\n",
        "    if mistakecounter2 >= int(typo_count):\n",
        "      break\n",
        "    word=allwordes[(line,index)]\n",
        "    if word[1]: # (if word[1]=True)\n",
        "        if not wordinenglish(word[0],dic):\n",
        "          mistakecounter1+=1\n",
        "        \n",
        "          if not wordinenglish(word[0],dicall):\n",
        "            mistakecounter2+=1\n",
        "            mistakes[(line,index)]=word[0] \n",
        "\n",
        "  return mistakes, mistakecounter1, mistakecounter2"
      ],
      "execution_count": 0,
      "outputs": []
    },
    {
      "cell_type": "markdown",
      "metadata": {
        "id": "LL-1pYMnmAs8",
        "colab_type": "text"
      },
      "source": [
        "# Get user preferences"
      ]
    },
    {
      "cell_type": "code",
      "metadata": {
        "id": "FxE6SKc6ClyV",
        "colab_type": "code",
        "outputId": "83dfd6dd-edae-4d20-da7e-e16b75978fe8",
        "colab": {
          "base_uri": "https://localhost:8080/",
          "height": 90
        }
      },
      "source": [
        "input_type=\"\"\n",
        "while  input_type.lower() not in ['t','f']:\n",
        "  input_type = input(\"Hello. To enable the SpellChecker to accept entering text please enter \\'t\\'. To enable uploading a text file please enter \\'f\\': \")\n",
        "if input_type.lower() == 't':\n",
        "  input_type=\"text\"\n",
        "else:\n",
        "  input_type=\"file\"\n",
        "\n",
        "typo_count = \"0\"\n",
        "while typo_count.isdigit() == False or typo_count == \"0\":\n",
        "  typo_count = input(\"Please enter the maximum amount of errors you would like to find in your text:\")\n",
        "\n",
        "name_input = \"\"\n",
        "name_ignore = True\n",
        "while name_input.lower() not in ['y', 'n']:\n",
        "  name_input = input(\"Would you like to ignore names in your text? (Y/N)\").upper()\n",
        "  if name_input == 'Y':\n",
        "    name_ignore = True\n",
        "  elif name_input == 'N':\n",
        "    name_ignore = False\n",
        "check_english_level_input = \"\"\n",
        "check_english_level = True\n",
        "while check_english_level_input.lower() not in ['y', 'n']:\n",
        "  check_english_level_input = input(\"Would you like to evaluate text English level? (Y/N)\").upper()\n",
        "  if check_english_level_input == 'Y':\n",
        "    check_english_level = True\n",
        "  elif check_english_level_input == 'N':\n",
        "    check_english_level = False"
      ],
      "execution_count": 34,
      "outputs": [
        {
          "output_type": "stream",
          "text": [
            "Hello. To enable the SpellChecker to accept entering text please enter 't'. To enable uploading a text file please enter 'f': f\n",
            "Please enter the maximum amount of errors you would like to find in your text:1\n",
            "Would you like to ignore names in your text? (Y/N)y\n",
            "Would you like to evaluate text English level? (Y/N)y\n"
          ],
          "name": "stdout"
        }
      ]
    },
    {
      "cell_type": "markdown",
      "metadata": {
        "id": "oTLdsZp0Kdua",
        "colab_type": "text"
      },
      "source": [
        "# Class instantiation"
      ]
    },
    {
      "cell_type": "code",
      "metadata": {
        "id": "YswgRXQIaalA",
        "colab_type": "code",
        "outputId": "0b1b91aa-a5a1-4dee-a078-151a753345e4",
        "colab": {
          "base_uri": "https://localhost:8080/",
          "height": 126
        }
      },
      "source": [
        "sp = SpellChecker(input_type=input_type,typo_count=typo_count,name_ignore=name_ignore,check_english_level=check_english_level)"
      ],
      "execution_count": 35,
      "outputs": [
        {
          "output_type": "stream",
          "text": [
            "\n",
            "       Your preferences are:\n",
            "       Input will be a file.\n",
            "       The speller stopes checking after 1 typos.\n",
            "       The speller will not check names.\n",
            "       The speller will evaluate the text's English level.\n"
          ],
          "name": "stdout"
        }
      ]
    },
    {
      "cell_type": "markdown",
      "metadata": {
        "id": "HrlPtntOp5CG",
        "colab_type": "text"
      },
      "source": [
        "# Upload a file or text"
      ]
    },
    {
      "cell_type": "code",
      "metadata": {
        "id": "kkhx7TQEjwdE",
        "colab_type": "code",
        "outputId": "8cdba050-500f-45fb-a05d-0c05b6199299",
        "colab": {
          "resources": {
            "http://localhost:8080/nbextensions/google.colab/files.js": {
              "data": "Ly8gQ29weXJpZ2h0IDIwMTcgR29vZ2xlIExMQwovLwovLyBMaWNlbnNlZCB1bmRlciB0aGUgQXBhY2hlIExpY2Vuc2UsIFZlcnNpb24gMi4wICh0aGUgIkxpY2Vuc2UiKTsKLy8geW91IG1heSBub3QgdXNlIHRoaXMgZmlsZSBleGNlcHQgaW4gY29tcGxpYW5jZSB3aXRoIHRoZSBMaWNlbnNlLgovLyBZb3UgbWF5IG9idGFpbiBhIGNvcHkgb2YgdGhlIExpY2Vuc2UgYXQKLy8KLy8gICAgICBodHRwOi8vd3d3LmFwYWNoZS5vcmcvbGljZW5zZXMvTElDRU5TRS0yLjAKLy8KLy8gVW5sZXNzIHJlcXVpcmVkIGJ5IGFwcGxpY2FibGUgbGF3IG9yIGFncmVlZCB0byBpbiB3cml0aW5nLCBzb2Z0d2FyZQovLyBkaXN0cmlidXRlZCB1bmRlciB0aGUgTGljZW5zZSBpcyBkaXN0cmlidXRlZCBvbiBhbiAiQVMgSVMiIEJBU0lTLAovLyBXSVRIT1VUIFdBUlJBTlRJRVMgT1IgQ09ORElUSU9OUyBPRiBBTlkgS0lORCwgZWl0aGVyIGV4cHJlc3Mgb3IgaW1wbGllZC4KLy8gU2VlIHRoZSBMaWNlbnNlIGZvciB0aGUgc3BlY2lmaWMgbGFuZ3VhZ2UgZ292ZXJuaW5nIHBlcm1pc3Npb25zIGFuZAovLyBsaW1pdGF0aW9ucyB1bmRlciB0aGUgTGljZW5zZS4KCi8qKgogKiBAZmlsZW92ZXJ2aWV3IEhlbHBlcnMgZm9yIGdvb2dsZS5jb2xhYiBQeXRob24gbW9kdWxlLgogKi8KKGZ1bmN0aW9uKHNjb3BlKSB7CmZ1bmN0aW9uIHNwYW4odGV4dCwgc3R5bGVBdHRyaWJ1dGVzID0ge30pIHsKICBjb25zdCBlbGVtZW50ID0gZG9jdW1lbnQuY3JlYXRlRWxlbWVudCgnc3BhbicpOwogIGVsZW1lbnQudGV4dENvbnRlbnQgPSB0ZXh0OwogIGZvciAoY29uc3Qga2V5IG9mIE9iamVjdC5rZXlzKHN0eWxlQXR0cmlidXRlcykpIHsKICAgIGVsZW1lbnQuc3R5bGVba2V5XSA9IHN0eWxlQXR0cmlidXRlc1trZXldOwogIH0KICByZXR1cm4gZWxlbWVudDsKfQoKLy8gTWF4IG51bWJlciBvZiBieXRlcyB3aGljaCB3aWxsIGJlIHVwbG9hZGVkIGF0IGEgdGltZS4KY29uc3QgTUFYX1BBWUxPQURfU0laRSA9IDEwMCAqIDEwMjQ7Ci8vIE1heCBhbW91bnQgb2YgdGltZSB0byBibG9jayB3YWl0aW5nIGZvciB0aGUgdXNlci4KY29uc3QgRklMRV9DSEFOR0VfVElNRU9VVF9NUyA9IDMwICogMTAwMDsKCmZ1bmN0aW9uIF91cGxvYWRGaWxlcyhpbnB1dElkLCBvdXRwdXRJZCkgewogIGNvbnN0IHN0ZXBzID0gdXBsb2FkRmlsZXNTdGVwKGlucHV0SWQsIG91dHB1dElkKTsKICBjb25zdCBvdXRwdXRFbGVtZW50ID0gZG9jdW1lbnQuZ2V0RWxlbWVudEJ5SWQob3V0cHV0SWQpOwogIC8vIENhY2hlIHN0ZXBzIG9uIHRoZSBvdXRwdXRFbGVtZW50IHRvIG1ha2UgaXQgYXZhaWxhYmxlIGZvciB0aGUgbmV4dCBjYWxsCiAgLy8gdG8gdXBsb2FkRmlsZXNDb250aW51ZSBmcm9tIFB5dGhvbi4KICBvdXRwdXRFbGVtZW50LnN0ZXBzID0gc3RlcHM7CgogIHJldHVybiBfdXBsb2FkRmlsZXNDb250aW51ZShvdXRwdXRJZCk7Cn0KCi8vIFRoaXMgaXMgcm91Z2hseSBhbiBhc3luYyBnZW5lcmF0b3IgKG5vdCBzdXBwb3J0ZWQgaW4gdGhlIGJyb3dzZXIgeWV0KSwKLy8gd2hlcmUgdGhlcmUgYXJlIG11bHRpcGxlIGFzeW5jaHJvbm91cyBzdGVwcyBhbmQgdGhlIFB5dGhvbiBzaWRlIGlzIGdvaW5nCi8vIHRvIHBvbGwgZm9yIGNvbXBsZXRpb24gb2YgZWFjaCBzdGVwLgovLyBUaGlzIHVzZXMgYSBQcm9taXNlIHRvIGJsb2NrIHRoZSBweXRob24gc2lkZSBvbiBjb21wbGV0aW9uIG9mIGVhY2ggc3RlcCwKLy8gdGhlbiBwYXNzZXMgdGhlIHJlc3VsdCBvZiB0aGUgcHJldmlvdXMgc3RlcCBhcyB0aGUgaW5wdXQgdG8gdGhlIG5leHQgc3RlcC4KZnVuY3Rpb24gX3VwbG9hZEZpbGVzQ29udGludWUob3V0cHV0SWQpIHsKICBjb25zdCBvdXRwdXRFbGVtZW50ID0gZG9jdW1lbnQuZ2V0RWxlbWVudEJ5SWQob3V0cHV0SWQpOwogIGNvbnN0IHN0ZXBzID0gb3V0cHV0RWxlbWVudC5zdGVwczsKCiAgY29uc3QgbmV4dCA9IHN0ZXBzLm5leHQob3V0cHV0RWxlbWVudC5sYXN0UHJvbWlzZVZhbHVlKTsKICByZXR1cm4gUHJvbWlzZS5yZXNvbHZlKG5leHQudmFsdWUucHJvbWlzZSkudGhlbigodmFsdWUpID0+IHsKICAgIC8vIENhY2hlIHRoZSBsYXN0IHByb21pc2UgdmFsdWUgdG8gbWFrZSBpdCBhdmFpbGFibGUgdG8gdGhlIG5leHQKICAgIC8vIHN0ZXAgb2YgdGhlIGdlbmVyYXRvci4KICAgIG91dHB1dEVsZW1lbnQubGFzdFByb21pc2VWYWx1ZSA9IHZhbHVlOwogICAgcmV0dXJuIG5leHQudmFsdWUucmVzcG9uc2U7CiAgfSk7Cn0KCi8qKgogKiBHZW5lcmF0b3IgZnVuY3Rpb24gd2hpY2ggaXMgY2FsbGVkIGJldHdlZW4gZWFjaCBhc3luYyBzdGVwIG9mIHRoZSB1cGxvYWQKICogcHJvY2Vzcy4KICogQHBhcmFtIHtzdHJpbmd9IGlucHV0SWQgRWxlbWVudCBJRCBvZiB0aGUgaW5wdXQgZmlsZSBwaWNrZXIgZWxlbWVudC4KICogQHBhcmFtIHtzdHJpbmd9IG91dHB1dElkIEVsZW1lbnQgSUQgb2YgdGhlIG91dHB1dCBkaXNwbGF5LgogKiBAcmV0dXJuIHshSXRlcmFibGU8IU9iamVjdD59IEl0ZXJhYmxlIG9mIG5leHQgc3RlcHMuCiAqLwpmdW5jdGlvbiogdXBsb2FkRmlsZXNTdGVwKGlucHV0SWQsIG91dHB1dElkKSB7CiAgY29uc3QgaW5wdXRFbGVtZW50ID0gZG9jdW1lbnQuZ2V0RWxlbWVudEJ5SWQoaW5wdXRJZCk7CiAgaW5wdXRFbGVtZW50LmRpc2FibGVkID0gZmFsc2U7CgogIGNvbnN0IG91dHB1dEVsZW1lbnQgPSBkb2N1bWVudC5nZXRFbGVtZW50QnlJZChvdXRwdXRJZCk7CiAgb3V0cHV0RWxlbWVudC5pbm5lckhUTUwgPSAnJzsKCiAgY29uc3QgcGlja2VkUHJvbWlzZSA9IG5ldyBQcm9taXNlKChyZXNvbHZlKSA9PiB7CiAgICBpbnB1dEVsZW1lbnQuYWRkRXZlbnRMaXN0ZW5lcignY2hhbmdlJywgKGUpID0+IHsKICAgICAgcmVzb2x2ZShlLnRhcmdldC5maWxlcyk7CiAgICB9KTsKICB9KTsKCiAgY29uc3QgY2FuY2VsID0gZG9jdW1lbnQuY3JlYXRlRWxlbWVudCgnYnV0dG9uJyk7CiAgaW5wdXRFbGVtZW50LnBhcmVudEVsZW1lbnQuYXBwZW5kQ2hpbGQoY2FuY2VsKTsKICBjYW5jZWwudGV4dENvbnRlbnQgPSAnQ2FuY2VsIHVwbG9hZCc7CiAgY29uc3QgY2FuY2VsUHJvbWlzZSA9IG5ldyBQcm9taXNlKChyZXNvbHZlKSA9PiB7CiAgICBjYW5jZWwub25jbGljayA9ICgpID0+IHsKICAgICAgcmVzb2x2ZShudWxsKTsKICAgIH07CiAgfSk7CgogIC8vIENhbmNlbCB1cGxvYWQgaWYgdXNlciBoYXNuJ3QgcGlja2VkIGFueXRoaW5nIGluIHRpbWVvdXQuCiAgY29uc3QgdGltZW91dFByb21pc2UgPSBuZXcgUHJvbWlzZSgocmVzb2x2ZSkgPT4gewogICAgc2V0VGltZW91dCgoKSA9PiB7CiAgICAgIHJlc29sdmUobnVsbCk7CiAgICB9LCBGSUxFX0NIQU5HRV9USU1FT1VUX01TKTsKICB9KTsKCiAgLy8gV2FpdCBmb3IgdGhlIHVzZXIgdG8gcGljayB0aGUgZmlsZXMuCiAgY29uc3QgZmlsZXMgPSB5aWVsZCB7CiAgICBwcm9taXNlOiBQcm9taXNlLnJhY2UoW3BpY2tlZFByb21pc2UsIHRpbWVvdXRQcm9taXNlLCBjYW5jZWxQcm9taXNlXSksCiAgICByZXNwb25zZTogewogICAgICBhY3Rpb246ICdzdGFydGluZycsCiAgICB9CiAgfTsKCiAgaWYgKCFmaWxlcykgewogICAgcmV0dXJuIHsKICAgICAgcmVzcG9uc2U6IHsKICAgICAgICBhY3Rpb246ICdjb21wbGV0ZScsCiAgICAgIH0KICAgIH07CiAgfQoKICBjYW5jZWwucmVtb3ZlKCk7CgogIC8vIERpc2FibGUgdGhlIGlucHV0IGVsZW1lbnQgc2luY2UgZnVydGhlciBwaWNrcyBhcmUgbm90IGFsbG93ZWQuCiAgaW5wdXRFbGVtZW50LmRpc2FibGVkID0gdHJ1ZTsKCiAgZm9yIChjb25zdCBmaWxlIG9mIGZpbGVzKSB7CiAgICBjb25zdCBsaSA9IGRvY3VtZW50LmNyZWF0ZUVsZW1lbnQoJ2xpJyk7CiAgICBsaS5hcHBlbmQoc3BhbihmaWxlLm5hbWUsIHtmb250V2VpZ2h0OiAnYm9sZCd9KSk7CiAgICBsaS5hcHBlbmQoc3BhbigKICAgICAgICBgKCR7ZmlsZS50eXBlIHx8ICduL2EnfSkgLSAke2ZpbGUuc2l6ZX0gYnl0ZXMsIGAgKwogICAgICAgIGBsYXN0IG1vZGlmaWVkOiAkewogICAgICAgICAgICBmaWxlLmxhc3RNb2RpZmllZERhdGUgPyBmaWxlLmxhc3RNb2RpZmllZERhdGUudG9Mb2NhbGVEYXRlU3RyaW5nKCkgOgogICAgICAgICAgICAgICAgICAgICAgICAgICAgICAgICAgICAnbi9hJ30gLSBgKSk7CiAgICBjb25zdCBwZXJjZW50ID0gc3BhbignMCUgZG9uZScpOwogICAgbGkuYXBwZW5kQ2hpbGQocGVyY2VudCk7CgogICAgb3V0cHV0RWxlbWVudC5hcHBlbmRDaGlsZChsaSk7CgogICAgY29uc3QgZmlsZURhdGFQcm9taXNlID0gbmV3IFByb21pc2UoKHJlc29sdmUpID0+IHsKICAgICAgY29uc3QgcmVhZGVyID0gbmV3IEZpbGVSZWFkZXIoKTsKICAgICAgcmVhZGVyLm9ubG9hZCA9IChlKSA9PiB7CiAgICAgICAgcmVzb2x2ZShlLnRhcmdldC5yZXN1bHQpOwogICAgICB9OwogICAgICByZWFkZXIucmVhZEFzQXJyYXlCdWZmZXIoZmlsZSk7CiAgICB9KTsKICAgIC8vIFdhaXQgZm9yIHRoZSBkYXRhIHRvIGJlIHJlYWR5LgogICAgbGV0IGZpbGVEYXRhID0geWllbGQgewogICAgICBwcm9taXNlOiBmaWxlRGF0YVByb21pc2UsCiAgICAgIHJlc3BvbnNlOiB7CiAgICAgICAgYWN0aW9uOiAnY29udGludWUnLAogICAgICB9CiAgICB9OwoKICAgIC8vIFVzZSBhIGNodW5rZWQgc2VuZGluZyB0byBhdm9pZCBtZXNzYWdlIHNpemUgbGltaXRzLiBTZWUgYi82MjExNTY2MC4KICAgIGxldCBwb3NpdGlvbiA9IDA7CiAgICB3aGlsZSAocG9zaXRpb24gPCBmaWxlRGF0YS5ieXRlTGVuZ3RoKSB7CiAgICAgIGNvbnN0IGxlbmd0aCA9IE1hdGgubWluKGZpbGVEYXRhLmJ5dGVMZW5ndGggLSBwb3NpdGlvbiwgTUFYX1BBWUxPQURfU0laRSk7CiAgICAgIGNvbnN0IGNodW5rID0gbmV3IFVpbnQ4QXJyYXkoZmlsZURhdGEsIHBvc2l0aW9uLCBsZW5ndGgpOwogICAgICBwb3NpdGlvbiArPSBsZW5ndGg7CgogICAgICBjb25zdCBiYXNlNjQgPSBidG9hKFN0cmluZy5mcm9tQ2hhckNvZGUuYXBwbHkobnVsbCwgY2h1bmspKTsKICAgICAgeWllbGQgewogICAgICAgIHJlc3BvbnNlOiB7CiAgICAgICAgICBhY3Rpb246ICdhcHBlbmQnLAogICAgICAgICAgZmlsZTogZmlsZS5uYW1lLAogICAgICAgICAgZGF0YTogYmFzZTY0LAogICAgICAgIH0sCiAgICAgIH07CiAgICAgIHBlcmNlbnQudGV4dENvbnRlbnQgPQogICAgICAgICAgYCR7TWF0aC5yb3VuZCgocG9zaXRpb24gLyBmaWxlRGF0YS5ieXRlTGVuZ3RoKSAqIDEwMCl9JSBkb25lYDsKICAgIH0KICB9CgogIC8vIEFsbCBkb25lLgogIHlpZWxkIHsKICAgIHJlc3BvbnNlOiB7CiAgICAgIGFjdGlvbjogJ2NvbXBsZXRlJywKICAgIH0KICB9Owp9CgpzY29wZS5nb29nbGUgPSBzY29wZS5nb29nbGUgfHwge307CnNjb3BlLmdvb2dsZS5jb2xhYiA9IHNjb3BlLmdvb2dsZS5jb2xhYiB8fCB7fTsKc2NvcGUuZ29vZ2xlLmNvbGFiLl9maWxlcyA9IHsKICBfdXBsb2FkRmlsZXMsCiAgX3VwbG9hZEZpbGVzQ29udGludWUsCn07Cn0pKHNlbGYpOwo=",
              "ok": true,
              "headers": [
                [
                  "content-type",
                  "application/javascript"
                ]
              ],
              "status": 200,
              "status_text": ""
            }
          },
          "base_uri": "https://localhost:8080/",
          "height": 75
        }
      },
      "source": [
        "text1 = sp.load_text()\n"
      ],
      "execution_count": 36,
      "outputs": [
        {
          "output_type": "display_data",
          "data": {
            "text/html": [
              "\n",
              "     <input type=\"file\" id=\"files-3f263e31-c5a0-420e-bd1b-cd24d39cca59\" name=\"files[]\" multiple disabled />\n",
              "     <output id=\"result-3f263e31-c5a0-420e-bd1b-cd24d39cca59\">\n",
              "      Upload widget is only available when the cell has been executed in the\n",
              "      current browser session. Please rerun this cell to enable.\n",
              "      </output>\n",
              "      <script src=\"/nbextensions/google.colab/files.js\"></script> "
            ],
            "text/plain": [
              "<IPython.core.display.HTML object>"
            ]
          },
          "metadata": {
            "tags": []
          }
        },
        {
          "output_type": "stream",
          "text": [
            "Saving task1.txt to task1 (2).txt\n"
          ],
          "name": "stdout"
        }
      ]
    },
    {
      "cell_type": "markdown",
      "metadata": {
        "id": "62EURik8p8Lv",
        "colab_type": "text"
      },
      "source": [
        "# Parsing the text"
      ]
    },
    {
      "cell_type": "code",
      "metadata": {
        "id": "0JGvMAhlikFN",
        "colab_type": "code",
        "outputId": "a6c0c21e-f66f-4e2a-99f1-71903e72a54d",
        "colab": {
          "base_uri": "https://localhost:8080/",
          "height": 74
        }
      },
      "source": [
        "parsed_text = sp.parse_rows(text1)\n",
        "print(parsed_text)\n",
        "print(text1)"
      ],
      "execution_count": 37,
      "outputs": [
        {
          "output_type": "stream",
          "text": [
            "{(0, 0): ('The', False), (0, 1): ('followwwwing', True), (0, 2): ('are', True), (0, 3): ('the', True), (0, 4): ('grapwwhical', True), (0, 5): ('(non-control)', False), (0, 6): ('characters', True), (0, 7): ('defined', True), (0, 8): ('by', False), (1, 0): ('ISO', False), (1, 1): ('8859-1', False), (1, 2): ('(1987)', False), (1, 3): ('Descriptions', False), (1, 4): ('in', False), (1, 5): ('words', True), (1, 6): (\"aren't\", False), (1, 7): ('all', True), (1, 8): ('that', True), (1, 9): ('helpful', True), (2, 0): ('but', True), (2, 1): (\"they're\", False), (2, 2): ('the', True), (2, 3): ('best', True), (2, 4): ('we', False), (2, 5): ('can', True), (2, 6): ('do', False), (2, 7): ('in', False), (2, 8): ('text', True), (2, 9): ('A', False), (2, 10): ('graphics', True), (2, 11): ('file', True), (2, 12): ('illustrating', True), (3, 0): ('the', True), (3, 1): ('character', True), (3, 2): ('set', True), (3, 3): ('should', True), (3, 4): ('be', False), (3, 5): ('available', True), (3, 6): ('from', True), (3, 7): ('the', True), (3, 8): ('same', True), (3, 9): ('archive', True), (3, 10): ('as', False), (3, 11): ('this', True), (4, 0): ('file', True)}\n",
            "['The followwwwing are the grapwwhical (non-control) characters defined by\\n', \"ISO 8859-1 (1987).  Descriptions in words aren't all that helpful,\\n\", \"but they're the best we can do in text.  A graphics file illustrating\\n\", 'the character set should be available from the same archive as this\\n', 'file.']\n"
          ],
          "name": "stdout"
        }
      ]
    },
    {
      "cell_type": "code",
      "metadata": {
        "id": "j_ch-uuOxKLZ",
        "colab_type": "code",
        "colab": {}
      },
      "source": [
        "fname = \"/content/drive/My Drive/5000words.txt\"\n",
        "dic={}\n",
        "with open(fname) as f2:\n",
        "    for line in f2:\n",
        "        word=line.split()\n",
        "        if not(word[0]==\"Rank\"): #remooving header from the words file\n",
        "               dic[word[1]]=[word[0],word[2],word[3]]\n",
        "\n",
        "\n",
        "# print(dic)\n",
        "\n",
        "fname = \"/content/drive/My Drive/allwords.txt\"\n",
        "dicall={}\n",
        "with open(fname) as f3:\n",
        "    for line in f3:\n",
        "        dicall[line.split()[0]]=\"\"\n",
        "#print(dicall)"
      ],
      "execution_count": 0,
      "outputs": []
    },
    {
      "cell_type": "markdown",
      "metadata": {
        "id": "4YLDT86mXThl",
        "colab_type": "text"
      },
      "source": [
        "# **Spelling report**\n",
        "\n",
        "---\n",
        "calling the speller function and present the mistakes, the rate of errors and indication on English level \n"
      ]
    },
    {
      "cell_type": "code",
      "metadata": {
        "id": "M3V-jUWOXSIE",
        "colab_type": "code",
        "outputId": "f9a2827a-a39e-44a8-ab36-25bd28a3a4aa",
        "colab": {
          "base_uri": "https://localhost:8080/",
          "height": 235
        }
      },
      "source": [
        "mistakes, mistakecounter1, mistakecounter2 = speller(allwordes=parsed_text,dic=dic, dicall=dicall)\n",
        "\n",
        "print(f\"\\n ~~~~~~~~~~~~~~~~~~~~~~~~~~~~~~~~~~~~~~~~~~~~~~~~~~~~~~~~~~~~~~~~~~~~~~~~~~\\n \\\n",
        "Spelling Report:\\n Speller has found {len(mistakes)} spelling mistakes, \\\n",
        "{len(mistakes)/len(parsed_text):.1%} of the wordes were misspelled\\n\")\n",
        "  \n",
        "if sp.check_english_level == True:\n",
        "  sp.english_level(len(parsed_text),(mistakecounter1-mistakecounter2))\n",
        "  print(f\"The English level of the texst {sp.english_level_str}\\n\")\n",
        "  print(\"These are the spelling mistakes found in the text:\\n\")\n",
        "\n",
        "for (line,index) in mistakes.keys():\n",
        "  print(f\"In line {str(line)}, at index {str(index)}: the word \\\"{mistakes[(line,index)]}\\\" was mispelled\")\n",
        "\n",
        "print(\"\\n~~~~~~~~~~~~~~~~~~~~~~~~~~~~~~~~~~~~~~~~~~~~~~~~~~~~~~~~~~~~~~~~~~~~~~~~~~~\")"
      ],
      "execution_count": 39,
      "outputs": [
        {
          "output_type": "stream",
          "text": [
            "\n",
            " ~~~~~~~~~~~~~~~~~~~~~~~~~~~~~~~~~~~~~~~~~~~~~~~~~~~~~~~~~~~~~~~~~~~~~~~~~~\n",
            " Spelling Report:\n",
            " Speller has found 1 spelling mistakes, 2.2% of the wordes were misspelled\n",
            "\n",
            "The English level of the texst can be better\n",
            "\n",
            "These are the spelling mistakes found in the text:\n",
            "\n",
            "In line 0, at index 1: the word \"followwwwing\" was mispelled\n",
            "\n",
            "~~~~~~~~~~~~~~~~~~~~~~~~~~~~~~~~~~~~~~~~~~~~~~~~~~~~~~~~~~~~~~~~~~~~~~~~~~~\n"
          ],
          "name": "stdout"
        }
      ]
    },
    {
      "cell_type": "markdown",
      "metadata": {
        "id": "7d-3LCFdYNjs",
        "colab_type": "text"
      },
      "source": [
        "Python elements used:\n",
        "\n",
        "*   Nested loop\n",
        "*   String literals (/n)\n",
        "*   Index from list\n",
        "*   append()\n",
        "*   split()\n",
        "*   Tuple\n",
        "*   Dictionaries\n",
        "*   keys(), values() & items()\n",
        "*   If, elif, else, nested if, \n",
        "*   While\n",
        "*   list comprehension\n",
        "*   input()\n",
        "*   F formatting\n",
        "*   Functions (def)\n",
        "*   Lambda functions\n",
        "*   Built in functions: enumerate()\n",
        "*   Class\n",
        "*   Instantiation, methods\n",
        "*   Files\n",
        "*   Open\n",
        "*   With block\n",
        "*   import\n",
        "*   datetime\n",
        "*   Regex\n",
        "\n",
        "\n",
        "\n",
        "\n",
        "\n",
        "\n",
        "\n",
        "\n",
        "\n",
        "\n",
        "\n",
        "\n"
      ]
    }
  ]
}