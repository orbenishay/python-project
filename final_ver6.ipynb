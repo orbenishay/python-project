{
  "nbformat": 4,
  "nbformat_minor": 0,
  "metadata": {
    "colab": {
      "name": "task1.ipynb",
      "provenance": [],
      "include_colab_link": true
    },
    "kernelspec": {
      "name": "python3",
      "display_name": "Python 3"
    }
  },
  "cells": [
    {
      "cell_type": "markdown",
      "metadata": {
        "id": "view-in-github",
        "colab_type": "text"
      },
      "source": [
        "<a href=\"https://colab.research.google.com/github/orbenishay/python-project/blob/master/final_ver6.ipynb\" target=\"_parent\"><img src=\"https://colab.research.google.com/assets/colab-badge.svg\" alt=\"Open In Colab\"/></a>"
      ]
    },
    {
      "cell_type": "markdown",
      "metadata": {
        "id": "B5kt_6XrAVEE",
        "colab_type": "text"
      },
      "source": [
        "## Backround\n",
        "\n",
        "\n",
        "---\n",
        "\n",
        "We all have typing mitsakes, as we type quickly and don't want to spend our time checking our text. This mini-project aims to help detecting them. The idea is to have a script that receives a text input and returns the mistakes found, as well as an insightful statistical evaluation for the user.\n",
        "This utility can also be used by children learning english before submitting their work, to verifiy that there are no spell mistakes."
      ]
    },
    {
      "cell_type": "markdown",
      "metadata": {
        "id": "epxqfHj4kl0q",
        "colab_type": "text"
      },
      "source": [
        "# Project Outline\n",
        "\n",
        "---\n",
        "\n"
      ]
    },
    {
      "cell_type": "markdown",
      "metadata": {
        "id": "bfgFIWiJkssp",
        "colab_type": "text"
      },
      "source": [
        "\n",
        "\n",
        "*   Import modules and initiations\n",
        "*   Creating a class with proper attributes and methods\n",
        "*   Get user's preferences\n",
        "*   Implementing the interface\n",
        "*   Program execution and class instantiation\n",
        "\n",
        "\n",
        "\n",
        "\n",
        "\n"
      ]
    },
    {
      "cell_type": "markdown",
      "metadata": {
        "id": "C9_q2U52ASoN",
        "colab_type": "text"
      },
      "source": [
        "\n",
        "# Import sys/re modules; mount drive"
      ]
    },
    {
      "cell_type": "code",
      "metadata": {
        "id": "JB1hpHNgCifb",
        "colab_type": "code",
        "outputId": "936066ba-6f8c-4adb-aae1-04fe76d60553",
        "colab": {
          "base_uri": "https://localhost:8080/",
          "height": 122
        }
      },
      "source": [
        "# imports and initializations\n",
        "import sys\n",
        "import re\n",
        "from google.colab import files, drive\n",
        "drive.mount('/content/drive')\n",
        "\n"
      ],
      "execution_count": 1,
      "outputs": [
        {
          "output_type": "stream",
          "text": [
            "Go to this URL in a browser: https://accounts.google.com/o/oauth2/auth?client_id=947318989803-6bn6qk8qdgf4n4g3pfee6491hc0brc4i.apps.googleusercontent.com&redirect_uri=urn%3aietf%3awg%3aoauth%3a2.0%3aoob&response_type=code&scope=email%20https%3a%2f%2fwww.googleapis.com%2fauth%2fdocs.test%20https%3a%2f%2fwww.googleapis.com%2fauth%2fdrive%20https%3a%2f%2fwww.googleapis.com%2fauth%2fdrive.photos.readonly%20https%3a%2f%2fwww.googleapis.com%2fauth%2fpeopleapi.readonly\n",
            "\n",
            "Enter your authorization code:\n",
            "··········\n",
            "Mounted at /content/drive\n"
          ],
          "name": "stdout"
        }
      ]
    },
    {
      "cell_type": "markdown",
      "metadata": {
        "id": "t0a6Dw8d_6d0",
        "colab_type": "text"
      },
      "source": [
        "# Class initialization & Methods"
      ]
    },
    {
      "cell_type": "code",
      "metadata": {
        "id": "v8eHVK7WyGn5",
        "colab_type": "code",
        "colab": {}
      },
      "source": [
        "# Intialize class:\n",
        "class SpellChecker:\n",
        "  def __init__(self, input_type=\"file\", typo_count=20, name_ignore=True, check_english_level=True):\n",
        "      self.input_type = input_type\n",
        "      self.typo_count = typo_count\n",
        "      self.name_ignore = name_ignore\n",
        "      self.check_english_level = check_english_level\n",
        "      self.english_level = \"\"\n",
        "      self.text1 = \"\"\n",
        "      print(f\"Your preferences are: Input Type: {input_type}, Number of errors: {typo_count}, Ignore names: {name_input}\")\n",
        "\n",
        "  def load_text(self):\n",
        "    if self.input_type == 'text':\n",
        "      input2 = input(\"Please enter your text:\")\n",
        "      text1 = input2.split(\"/n\") #was by period\n",
        "      # print(text1)\n",
        "    else: # elif input_type.lower() == 'file':\n",
        "      uploaded = files.upload()\n",
        "      fname = list(uploaded.keys())[0]\n",
        "      with open(fname) as f1:\n",
        "        text1 = []\n",
        "        for line in f1:\n",
        "          text1.append(line)\n",
        "    return text1\n",
        "\n",
        " # English-level checker   \n",
        "  def english_level(self,number_word,number_difficoult_word):\n",
        "      if number_word>0:\n",
        "        precent_difficoult_word=number_difficoult_word/number_word\n",
        "        if precent_difficoult_word>0.1:\n",
        "          self.englisg_level=\"is excelent\"\n",
        "        elif precent_difficoult_word>0.01:\n",
        "          self.english_level=\"is fine\"\n",
        "        else:\n",
        "          self.english_level=\"can be better\"\n",
        "      else:\n",
        "        self.english_level=\"can not be evaluated\"\n",
        "\n",
        "\n",
        "# Parsing the text (data cleanning)\n",
        "\n",
        "  def parse_rows(self, text):\n",
        "  \n",
        "    word_dict = {}\n",
        "    for row_num, sentence in enumerate(text):\n",
        "      words_list = sentence.split()\n",
        "      for word_num, word in enumerate(words_list):\n",
        "        dispo = True\n",
        "        match_word = re.search('^[a-z]+$', word)\n",
        "        match_cap = re.match('[A-Z]', word)\n",
        "        #  need to allow '.' at the end of word as exception\n",
        "        # need to ignore comma at the end of a word\n",
        "\n",
        "        if len(word)<=2: # can usae 'or' here for better performance\n",
        "          dispo = False\n",
        "        elif bool(match_word)==False:\n",
        "          dispo = False\n",
        "        elif self.name_ignore == True and word_num>0 and bool(match_cap)==True:\n",
        "            dispo = False\n",
        "            \n",
        "        word_and_dispo = (word, dispo)\n",
        "        word_dict[(row_num, word_num)] = word_and_dispo\n",
        "\n",
        "    return word_dict  "
      ],
      "execution_count": 0,
      "outputs": []
    },
    {
      "cell_type": "code",
      "metadata": {
        "id": "wq_ziLUu3c2L",
        "colab_type": "code",
        "colab": {}
      },
      "source": [
        "#This function checkes if word is in dictionery \n",
        "def wordinenglish(word,dic):\n",
        "  #input: word - a string in English lowcase, dic - dictionery format {\"words\":[]}, \n",
        "  # return boolian if word in dic\n",
        "  if word in dic:\n",
        "    return True\n",
        "  else:\n",
        "    return False"
      ],
      "execution_count": 0,
      "outputs": []
    },
    {
      "cell_type": "code",
      "metadata": {
        "id": "xmZhjqnj2nes",
        "colab_type": "code",
        "colab": {}
      },
      "source": [
        "#Check Spelling- core function\n",
        "def speller(allwordes,dic,dicall={}):\n",
        "  #~~~~~~~~~~~~~~~~~~~~~~~~~~~~~~~~~~~~~~~~~~~~~~~~~~~~~~~~~~~~~~~~~~~~~~~~~\n",
        "  #This function cheks spelling \n",
        "  #receives inputs:\n",
        "  #allwords - All the words to be check, format = {(line,index):[\"word\",True/Falls]} the bulian check or not check spelling for the word\n",
        "  #dic - primery dictionery, format {\"word\":[\"\"]} recomended to use friquent words in English to make an effishient allgoritem\n",
        "  #dicall - secondery dictionery, format {\"word\":[\"\"]} dictionery with more word in Eglish then dic, diffult value is emty and not be used\n",
        "  #returns outputs:\n",
        "  #mistakes - words checked and not at two dictionery, format {(line,index):[\"word\"]}\n",
        "  #~~~~~~~~~~~~~~~~~~~~~~~~~~~~~~~~~~~~~~~~~~~~~~~~~~~~~~~~~~~~~~~~~~~~~~~~~~~~~\n",
        "\n",
        "  lincounter=0\n",
        "  wordcounter=0\n",
        "  mistakecounter1=0\n",
        "  mistakecounter2=0\n",
        "  mistakes={}\n",
        "  for (line,index) in allwordes.keys():\n",
        "    if mistakecounter2 >= int(typo_count):\n",
        "      break\n",
        "    word=allwordes[(line,index)]\n",
        "    if word[1]: # (if word[1]=True)\n",
        "        if not wordinenglish(word[0],dic):\n",
        "          mistakecounter1+=1\n",
        "        \n",
        "          if not wordinenglish(word[0],dicall):\n",
        "            mistakecounter2+=1\n",
        "            mistakes[(line,index)]=word[0] \n",
        "\n",
        "  return mistakes, mistakecounter1, mistakecounter2"
      ],
      "execution_count": 0,
      "outputs": []
    },
    {
      "cell_type": "markdown",
      "metadata": {
        "id": "LL-1pYMnmAs8",
        "colab_type": "text"
      },
      "source": [
        "# Get user preferences"
      ]
    },
    {
      "cell_type": "code",
      "metadata": {
        "id": "FxE6SKc6ClyV",
        "colab_type": "code",
        "outputId": "5ac98db1-225e-4a74-f8d2-f30ec5411a6b",
        "colab": {
          "base_uri": "https://localhost:8080/",
          "height": 221
        }
      },
      "source": [
        "input_type=\"\"\n",
        "while  input_type.lower() not in ['t','f']:\n",
        "  input_type = input(\"Hello. To enter text please enter \\'t\\'. To upload a text file please enter \\'f\\': \")\n",
        "if input_type.lower() == 't':\n",
        "  input_type=\"text\"\n",
        "else:\n",
        "  input_type=\"file\"\n",
        "\n",
        "\n",
        "typo_count = \"0\"\n",
        "typo_count = input(\"please enter the amount of errors you would like to find in your text:\")\n",
        "while typo_count.isdigit() == False and typo_count !=0:\n",
        "  typo_count = input(\"please enter the amount of errors you would like to find in your text:\")\n",
        "\n",
        "name_input = \"\"\n",
        "name_ignore = True\n",
        "while name_input.lower() not in ['y', 'n']:\n",
        "  name_input = input(\"would you like to ignore names in your text? (Y/N)\").upper()\n",
        "  if name_input == 'Y':\n",
        "    name_ignor = True\n",
        "  elif name_input == 'N':\n",
        "    name_ignor = False\n",
        "check_english_level_input = \"\"\n",
        "check_english_level = True\n",
        "while check_english_level_input.lower() not in ['y', 'n']:\n",
        "  check_english_level_input = input(\"would you like to evaluate text English level? (Y/N)\").upper()\n",
        "  if check_english_level_input == 'Y':\n",
        "    check_english_level = True\n",
        "  elif check_english_level_input == 'N':\n",
        "    check_english_level = False\n",
        "\n",
        "\n",
        "sp =SpellChecker(input_type=input_type,typo_count=typo_count,name_ignore=name_ignor,check_english_level=check_english_level)\n",
        "if sp.check_english_level:\n",
        "  english_level_w=\" will\"\n",
        "else:\n",
        "  english_level_w=\" will not\"\n",
        "\n",
        "if sp.name_ignore:\n",
        "  name_ignor_w=\" will not\"\n",
        "else:\n",
        "  name_ignor_w=\" will\"\n",
        "print(\"\\nYour preferences are:\\n\")\n",
        "print(f\"The input is a {sp.input_type}\")\n",
        "print(f\"The speller stopes spelling check after {sp.typo_count} speling errores\")\n",
        "print(f\"The speller{name_ignor_w} check names\")\n",
        "print(f\"The speller{english_level_w} evaluate the text English level\")\n",
        "\n"
      ],
      "execution_count": 5,
      "outputs": [
        {
          "output_type": "stream",
          "text": [
            "Hello. To enter text please enter 't'. To upload a text file please enter 'f': f\n",
            "please enter the amount of errors you would like to find in your text:5\n",
            "would you like to ignore names in your text? (Y/N)y\n",
            "would you like to evaluate text English level? (Y/N)y\n",
            "Your preferences are: Input Type: file, Number of errors: 5, Ignore names: Y\n",
            "\n",
            "Your preferences are:\n",
            "\n",
            "The input is a file\n",
            "The speller stopes spelling check after 5 speling errores\n",
            "The speller will not check names\n",
            "The speller will evaluate the text English level\n"
          ],
          "name": "stdout"
        }
      ]
    },
    {
      "cell_type": "markdown",
      "metadata": {
        "id": "HrlPtntOp5CG",
        "colab_type": "text"
      },
      "source": [
        "Upload a file or text"
      ]
    },
    {
      "cell_type": "code",
      "metadata": {
        "id": "kkhx7TQEjwdE",
        "colab_type": "code",
        "outputId": "156bd30d-3f7a-4fdf-e6fb-0051d09cad42",
        "colab": {
          "resources": {
            "http://localhost:8080/nbextensions/google.colab/files.js": {
              "data": "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",
              "ok": true,
              "headers": [
                [
                  "content-type",
                  "application/javascript"
                ]
              ],
              "status": 200,
              "status_text": ""
            }
          },
          "base_uri": "https://localhost:8080/",
          "height": 74
        }
      },
      "source": [
        "text1 = sp.load_text()\n"
      ],
      "execution_count": 6,
      "outputs": [
        {
          "output_type": "display_data",
          "data": {
            "text/html": [
              "\n",
              "     <input type=\"file\" id=\"files-2ec5ad4d-50f6-44ee-a2b7-5b78486d40e3\" name=\"files[]\" multiple disabled />\n",
              "     <output id=\"result-2ec5ad4d-50f6-44ee-a2b7-5b78486d40e3\">\n",
              "      Upload widget is only available when the cell has been executed in the\n",
              "      current browser session. Please rerun this cell to enable.\n",
              "      </output>\n",
              "      <script src=\"/nbextensions/google.colab/files.js\"></script> "
            ],
            "text/plain": [
              "<IPython.core.display.HTML object>"
            ]
          },
          "metadata": {
            "tags": []
          }
        },
        {
          "output_type": "stream",
          "text": [
            "Saving Sample.txt to Sample.txt\n"
          ],
          "name": "stdout"
        }
      ]
    },
    {
      "cell_type": "markdown",
      "metadata": {
        "id": "62EURik8p8Lv",
        "colab_type": "text"
      },
      "source": [
        "Parsing the tex"
      ]
    },
    {
      "cell_type": "code",
      "metadata": {
        "id": "0JGvMAhlikFN",
        "colab_type": "code",
        "outputId": "2206f3c8-e614-4de9-e9cd-e12320508e36",
        "colab": {
          "base_uri": "https://localhost:8080/",
          "height": 71
        }
      },
      "source": [
        "parsed_text = sp.parse_rows(text1)\n",
        "print(parsed_text)\n",
        "print(text1)"
      ],
      "execution_count": 7,
      "outputs": [
        {
          "output_type": "stream",
          "text": [
            "{(0, 0): ('To', False), (0, 1): ('Sherlock', False), (0, 2): ('Holmes', False), (0, 3): ('she', True), (0, 4): ('is', False), (0, 5): ('alwayis', True), (0, 6): ('the', True), (0, 7): ('woman.', False), (0, 8): ('I', False), (0, 9): ('have', True), (0, 10): ('seldom', True), (0, 11): ('heard', True), (0, 12): ('him', True), (1, 0): ('mention', True), (1, 1): ('her', True), (1, 2): ('under', True), (1, 3): ('any', True), (1, 4): ('ohter', True), (1, 5): ('name.', False), (1, 6): ('In', False), (1, 7): ('his', True), (1, 8): ('eyes', True), (1, 9): ('she', True), (1, 10): ('eklipses', True), (1, 11): ('and', True), (2, 0): ('predominates', True), (2, 1): ('the', True), (2, 2): ('whole', True), (2, 3): ('of', False), (2, 4): ('her', True), (2, 5): ('sex.', False), (2, 6): ('It', False), (2, 7): ('was', True), (2, 8): ('not', True), (2, 9): ('that', True), (2, 10): ('he', False), (2, 11): ('felt', True), (2, 12): ('any', True), (3, 0): ('emotion', True), (3, 1): ('akin', True), (3, 2): ('to', False), (3, 3): ('love', True), (3, 4): ('for', True), (3, 5): ('Irene', False), (3, 6): ('Adler.', False), (3, 7): ('All', False), (3, 8): ('emosions,', False), (3, 9): ('and', True), (3, 10): ('that', True), (3, 11): ('one', True), (4, 0): ('particularly,', False), (4, 1): ('were', True), (4, 2): ('abhorrent', True), (4, 3): ('to', False), (4, 4): ('his', True), (4, 5): ('cold,', False), (4, 6): ('precise', True), (4, 7): ('but', True), (4, 8): ('admirably', True), (5, 0): ('balanced', True), (5, 1): ('mind.', False), (5, 2): ('He', False), (5, 3): ('was,', False), (5, 4): ('I', False), (5, 5): ('take', True), (5, 6): ('it,', False), (5, 7): ('the', True), (5, 8): ('most', True), (5, 9): ('perfect', True), (5, 10): ('reasoning', True), (5, 11): ('and', True), (6, 0): ('observing', True), (6, 1): ('machine', True), (6, 2): ('that', True), (6, 3): ('the', True), (6, 4): ('world', True), (6, 5): ('has', True), (6, 6): ('seen,', False), (6, 7): ('but', True), (6, 8): ('as', False), (6, 9): ('a', False), (6, 10): ('lover', True), (6, 11): ('he', False), (6, 12): ('would', True), (7, 0): ('have', True), (7, 1): ('placed', True), (7, 2): ('himself', True), (7, 3): ('in', False), (7, 4): ('a', False), (7, 5): ('false', True), (7, 6): ('position.', False), (7, 7): ('He', False), (7, 8): ('never', True), (7, 9): ('spoke', True), (7, 10): ('of', False), (7, 11): ('the', True), (7, 12): ('softer', True), (8, 0): ('passions,', False), (8, 1): ('save', True), (8, 2): ('with', True), (8, 3): ('a', False), (8, 4): ('gibe', True), (8, 5): ('and', True), (8, 6): ('a', False), (8, 7): ('sneer.', False), (8, 8): ('They', False), (8, 9): ('were', True), (8, 10): ('admirable', True), (8, 11): ('things', True), (9, 0): ('for', True), (9, 1): ('the', True), (9, 2): ('observer--excellent', False), (9, 3): ('for', True), (9, 4): ('drawing', True), (9, 5): ('the', True), (9, 6): ('veil', True), (9, 7): ('from', True), (9, 8): (\"men's\", False), (9, 9): ('motives', True), (10, 0): ('and', True), (10, 1): ('actions.', False), (10, 2): ('But', False), (10, 3): ('for', True), (10, 4): ('the', True), (10, 5): ('trained', True), (10, 6): ('reasoner', True), (10, 7): ('to', False), (10, 8): ('admit', True), (10, 9): ('such', True), (10, 10): ('intrusions', True), (11, 0): ('into', True), (11, 1): ('his', True), (11, 2): ('own', True), (11, 3): ('delicate', True), (11, 4): ('and', True), (11, 5): ('finely', True), (11, 6): ('adjusted', True), (11, 7): ('temperament', True), (11, 8): ('was', True), (11, 9): ('to', False), (12, 0): ('introduce', True), (12, 1): ('a', False), (12, 2): ('distracting', True), (12, 3): ('factor', True), (12, 4): ('which', True), (12, 5): ('might', True), (12, 6): ('throw', True), (12, 7): ('a', False), (12, 8): ('doubt', True), (12, 9): ('upon', True), (12, 10): ('all', True), (12, 11): ('his', True), (13, 0): ('mental', True), (13, 1): ('results.', False), (13, 2): ('Grit', False), (13, 3): ('in', False), (13, 4): ('a', False), (13, 5): ('sensitive', True), (13, 6): ('instrument,', False), (13, 7): ('or', False), (13, 8): ('a', False), (13, 9): ('crack', True), (13, 10): ('in', False), (13, 11): ('one', True), (13, 12): ('of', False), (14, 0): ('his', True), (14, 1): ('own', True), (14, 2): ('high-power', False), (14, 3): ('lenses,', False), (14, 4): ('would', True), (14, 5): ('not', True), (14, 6): ('be', False), (14, 7): ('more', True), (14, 8): ('disturbing', True), (14, 9): ('than', True), (14, 10): ('a', False), (14, 11): ('strong', True), (15, 0): ('emotion', True), (15, 1): ('in', False), (15, 2): ('a', False), (15, 3): ('nature', True), (15, 4): ('such', True), (15, 5): ('as', False), (15, 6): ('his.', False), (15, 7): ('And', False), (15, 8): ('yet', True), (15, 9): ('there', True), (15, 10): ('was', True), (15, 11): ('but', True), (15, 12): ('one', True), (15, 13): ('woman', True), (15, 14): ('to', False), (16, 0): ('him,', False), (16, 1): ('and', True), (16, 2): ('that', True), (16, 3): ('woman', True), (16, 4): ('was', True), (16, 5): ('the', True), (16, 6): ('late', True), (16, 7): ('Irene', False), (16, 8): ('Adler,', False), (16, 9): ('of', False), (16, 10): ('dubious', True), (16, 11): ('and', True), (17, 0): ('questionable', True), (17, 1): ('memory.', False), (19, 0): ('I', False), (19, 1): ('had', True), (19, 2): ('seen', True), (19, 3): ('little', True), (19, 4): ('of', False), (19, 5): ('Holmes', False), (19, 6): ('lately.', False), (19, 7): ('My', False), (19, 8): ('marriage', True), (19, 9): ('had', True), (19, 10): ('drifted', True), (19, 11): ('us', False), (19, 12): ('away', True), (20, 0): ('from', True), (20, 1): ('each', True), (20, 2): ('other.', False), (20, 3): ('My', False), (20, 4): ('own', True), (20, 5): ('complete', True), (20, 6): ('happiness,', False), (20, 7): ('and', True), (20, 8): ('the', True), (20, 9): ('home-centred', False), (21, 0): ('interests', True), (21, 1): ('which', True), (21, 2): ('rise', True), (21, 3): ('up', False), (21, 4): ('around', True), (21, 5): ('the', True), (21, 6): ('man', True), (21, 7): ('who', True), (21, 8): ('first', True), (21, 9): ('finds', True), (21, 10): ('himself', True), (21, 11): ('master', True), (22, 0): ('of', False), (22, 1): ('his', True), (22, 2): ('own', True), (22, 3): ('establishment,', False), (22, 4): ('were', True), (22, 5): ('sufficient', True), (22, 6): ('to', False), (22, 7): ('absorb', True), (22, 8): ('all', True), (22, 9): ('my', False), (22, 10): ('attention,', False), (23, 0): ('while', True), (23, 1): ('Holmes,', False), (23, 2): ('who', True), (23, 3): ('loathed', True), (23, 4): ('every', True), (23, 5): ('form', True), (23, 6): ('of', False), (23, 7): ('society', True), (23, 8): ('with', True), (23, 9): ('his', True), (23, 10): ('whole', True), (24, 0): ('Bohemian', False), (24, 1): ('soul,', False), (24, 2): ('remained', True), (24, 3): ('in', False), (24, 4): ('our', True), (24, 5): ('lodgings', True), (24, 6): ('in', False), (24, 7): ('Baker', False), (24, 8): ('Street,', False), (24, 9): ('buried', True), (24, 10): ('among', True), (25, 0): ('his', True), (25, 1): ('old', True), (25, 2): ('books,', False), (25, 3): ('and', True), (25, 4): ('alternating', True), (25, 5): ('from', True), (25, 6): ('week', True), (25, 7): ('to', False), (25, 8): ('week', True), (25, 9): ('between', True), (25, 10): ('cocaine', True), (25, 11): ('and', True), (26, 0): ('ambition,', False), (26, 1): ('the', True), (26, 2): ('drowsiness', True), (26, 3): ('of', False), (26, 4): ('the', True), (26, 5): ('drug,', False), (26, 6): ('and', True), (26, 7): ('the', True), (26, 8): ('fierce', True), (26, 9): ('energy', True), (26, 10): ('of', False), (26, 11): ('his', True), (27, 0): ('own', True), (27, 1): ('keen', True), (27, 2): ('nature.', False), (27, 3): ('He', False), (27, 4): ('was', True), (27, 5): ('still,', False), (27, 6): ('as', False), (27, 7): ('ever,', False), (27, 8): ('deeply', True), (27, 9): ('attracted', True), (27, 10): ('by', False), (27, 11): ('the', True), (27, 12): ('study', True), (28, 0): ('of', False), (28, 1): ('crime,', False), (28, 2): ('and', True), (28, 3): ('occupied', True), (28, 4): ('his', True), (28, 5): ('immense', True), (28, 6): ('faculties', True), (28, 7): ('and', True), (28, 8): ('extraordinary', True), (28, 9): ('powers', True), (29, 0): ('of', False), (29, 1): ('observation', True), (29, 2): ('in', False), (29, 3): ('following', True), (29, 4): ('out', True), (29, 5): ('those', True), (29, 6): ('clues,', False), (29, 7): ('and', True), (29, 8): ('clearing', True), (29, 9): ('up', False), (29, 10): ('those', True), (30, 0): ('mysteries', True), (30, 1): ('which', True), (30, 2): ('had', True), (30, 3): ('been', True), (30, 4): ('abandoned', True), (30, 5): ('as', False), (30, 6): ('hopeless', True), (30, 7): ('by', False), (30, 8): ('the', True), (30, 9): ('official', True), (31, 0): ('police.', False), (31, 1): ('From', False), (31, 2): ('time', True), (31, 3): ('to', False), (31, 4): ('time', True), (31, 5): ('I', False), (31, 6): ('heard', True), (31, 7): ('some', True), (31, 8): ('vague', True), (31, 9): ('account', True), (31, 10): ('of', False), (31, 11): ('his', True), (31, 12): ('doings:', False), (32, 0): ('of', False), (32, 1): ('his', True), (32, 2): ('summons', True), (32, 3): ('to', False), (32, 4): ('Odessa', False), (32, 5): ('in', False), (32, 6): ('the', True), (32, 7): ('case', True), (32, 8): ('of', False), (32, 9): ('the', True), (32, 10): ('Trepoff', False), (32, 11): ('murder,', False), (32, 12): ('of', False), (32, 13): ('his', True), (33, 0): ('clearing', True), (33, 1): ('up', False), (33, 2): ('of', False), (33, 3): ('the', True), (33, 4): ('singular', True), (33, 5): ('tragedy', True), (33, 6): ('of', False), (33, 7): ('the', True), (33, 8): ('Atkinson', False), (33, 9): ('brothers', True), (33, 10): ('at', False), (34, 0): ('Trincomalee,', False), (34, 1): ('and', True), (34, 2): ('finally', True), (34, 3): ('of', False), (34, 4): ('the', True), (34, 5): ('mission', True), (34, 6): ('which', True), (34, 7): ('he', False), (34, 8): ('had', True), (34, 9): ('accomplished', True), (34, 10): ('so', False), (35, 0): ('delicately', True), (35, 1): ('and', True), (35, 2): ('successfully', True), (35, 3): ('for', True), (35, 4): ('the', True), (35, 5): ('reigning', True), (35, 6): ('family', True), (35, 7): ('of', False), (35, 8): ('Holland.', False), (36, 0): ('Beyond', False), (36, 1): ('these', True), (36, 2): ('signs', True), (36, 3): ('of', False), (36, 4): ('his', True), (36, 5): ('activity,', False), (36, 6): ('however,', False), (36, 7): ('which', True), (36, 8): ('I', False), (36, 9): ('merely', True), (36, 10): ('shared', True), (37, 0): ('with', True), (37, 1): ('all', True), (37, 2): ('the', True), (37, 3): ('readers', True), (37, 4): ('of', False), (37, 5): ('the', True), (37, 6): ('daily', True), (37, 7): ('press,', False), (37, 8): ('I', False), (37, 9): ('knew', True), (37, 10): ('little', True), (37, 11): ('of', False), (37, 12): ('my', False), (37, 13): ('former', True), (38, 0): ('friend', True), (38, 1): ('and', True), (38, 2): ('companion.', False)}\n",
            "['     To Sherlock Holmes she is alwayis the woman. I have seldom heard him\\n', '     mention her under any ohter name. In his eyes she eklipses and\\n', '     predominates the whole of her sex. It was not that he felt any\\n', '     emotion akin to love for Irene Adler. All emosions, and that one\\n', '     particularly, were abhorrent to his cold, precise but admirably\\n', '     balanced mind. He was, I take it, the most perfect reasoning and\\n', '     observing machine that the world has seen, but as a lover he would\\n', '     have placed himself in a false position. He never spoke of the softer\\n', '     passions, save with a gibe and a sneer. They were admirable things\\n', \"     for the observer--excellent for drawing the veil from men's motives\\n\", '     and actions. But for the trained reasoner to admit such intrusions\\n', '     into his own delicate and finely adjusted temperament was to\\n', '     introduce a distracting factor which might throw a doubt upon all his\\n', '     mental results. Grit in a sensitive instrument, or a crack in one of\\n', '     his own high-power lenses, would not be more disturbing than a strong\\n', '     emotion in a nature such as his. And yet there was but one woman to\\n', '     him, and that woman was the late Irene Adler, of dubious and\\n', '     questionable memory.\\n', '\\n', '     I had seen little of Holmes lately. My marriage had drifted us away\\n', '     from each other. My own complete happiness, and the home-centred\\n', '     interests which rise up around the man who first finds himself master\\n', '     of his own establishment, were sufficient to absorb all my attention,\\n', '     while Holmes, who loathed every form of society with his whole\\n', '     Bohemian soul, remained in our lodgings in Baker Street, buried among\\n', '     his old books, and alternating from week to week between cocaine and\\n', '     ambition, the drowsiness of the drug, and the fierce energy of his\\n', '     own keen nature. He was still, as ever, deeply attracted by the study\\n', '     of crime, and occupied his immense faculties and extraordinary powers\\n', '     of observation in following out those clues, and clearing up those\\n', '     mysteries which had been abandoned as hopeless by the official\\n', '     police. From time to time I heard some vague account of his doings:\\n', '     of his summons to Odessa in the case of the Trepoff murder, of his\\n', '     clearing up of the singular tragedy of the Atkinson brothers at\\n', '     Trincomalee, and finally of the mission which he had accomplished so\\n', '     delicately and successfully for the reigning family of Holland.\\n', '     Beyond these signs of his activity, however, which I merely shared\\n', '     with all the readers of the daily press, I knew little of my former\\n', '     friend and companion.']\n"
          ],
          "name": "stdout"
        }
      ]
    },
    {
      "cell_type": "code",
      "metadata": {
        "id": "j_ch-uuOxKLZ",
        "colab_type": "code",
        "colab": {}
      },
      "source": [
        "fname = \"/content/drive/My Drive/5000words.txt\"\n",
        "dic={}\n",
        "with open(fname) as f2:\n",
        "    for line in f2:\n",
        "        word=line.split()\n",
        "        if not(word[0]==\"Rank\"): #remooving header from the words file\n",
        "               dic[word[1]]=[word[0],word[2],word[3]]\n",
        "\n",
        "\n",
        "# print(dic)\n",
        "\n",
        "fname = \"/content/drive/My Drive/allwords.txt\"\n",
        "dicall={}\n",
        "with open(fname) as f3:\n",
        "    for line in f3:\n",
        "        dicall[line.split()[0]]=\"\"\n",
        "#print(dicall)"
      ],
      "execution_count": 0,
      "outputs": []
    },
    {
      "cell_type": "markdown",
      "metadata": {
        "id": "4YLDT86mXThl",
        "colab_type": "text"
      },
      "source": [
        "# **Spelling report**\n",
        "\n",
        "---\n",
        "calling the speller function and present the mistakes, the rate of errors and indication on English level \n"
      ]
    },
    {
      "cell_type": "code",
      "metadata": {
        "id": "M3V-jUWOXSIE",
        "colab_type": "code",
        "outputId": "f03c68c5-83b0-467c-a8d3-b2404ae321ed",
        "colab": {
          "base_uri": "https://localhost:8080/",
          "height": 289
        }
      },
      "source": [
        "mistakes, mistakecounter1, mistakecounter2= speller(allwordes=parsed_text,dic=dic, dicall=dicall)\n",
        "\n",
        "print(\"~~~~~~~~~~~~~~~~~~~~~~~~~~~~~~~~~~~~~~~~~~~~~~~~~~~~~~~~~~~~~~~~~~~~~~~~~~\\n\")\n",
        "print(\"                     Spelling Report\\n\")\n",
        "print(\"Speller found {} spelling mistakes, {:.1%} of the wordes were misspaled\".format(len(mistakes),len(mistakes)/len(parsed_text)))\n",
        "if sp.check_english_level == True:\n",
        "  # sp.english_level(len(parsed_text),(mistakecounter1-mistakecounter2))\n",
        "  print(\"\\nThe English level of the texst {}\".format(sp.english_level))\n",
        "print(\"\\n          This are the spelling mistakes found in the text:\\n\")\n",
        "\n",
        "#print(mistakes)\n",
        "\n",
        "for (line,index) in mistakes.keys():\n",
        "  print(f\"In line {str(line)}, at index {str(index)}: the word \\\"{mistakes[(line,index)]}\\\" was mispelled\")\n",
        "\n",
        "print(\"\\n~~~~~~~~~~~~~~~~~~~~~~~~~~~~~~~~~~~~~~~~~~~~~~~~~~~~~~~~~~~~~~~~~~~~~~~~~~~\")\n",
        "#results(mistakes)"
      ],
      "execution_count": 13,
      "outputs": [
        {
          "output_type": "stream",
          "text": [
            "~~~~~~~~~~~~~~~~~~~~~~~~~~~~~~~~~~~~~~~~~~~~~~~~~~~~~~~~~~~~~~~~~~~~~~~~~~\n",
            "\n",
            "                     Spelling Report\n",
            "\n",
            "Speller found 4 spelling mistakes, 0.9% of the wordes were misspaled\n",
            "\n",
            "The English level of the texst \n",
            "\n",
            "          This are the spelling mistakes found in the text:\n",
            "\n",
            "In line 0, at index 5: the word \"alwayis\" was mispelled\n",
            "In line 1, at index 4: the word \"ohter\" was mispelled\n",
            "In line 1, at index 10: the word \"eklipses\" was mispelled\n",
            "In line 8, at index 4: the word \"gibe\" was mispelled\n",
            "\n",
            "~~~~~~~~~~~~~~~~~~~~~~~~~~~~~~~~~~~~~~~~~~~~~~~~~~~~~~~~~~~~~~~~~~~~~~~~~~~\n"
          ],
          "name": "stdout"
        }
      ]
    }
  ]
}