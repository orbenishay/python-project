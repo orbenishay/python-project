{
  "nbformat": 4,
  "nbformat_minor": 0,
  "metadata": {
    "colab": {
      "name": "task1.ipynb",
      "provenance": [],
      "include_colab_link": true
    },
    "kernelspec": {
      "name": "python3",
      "display_name": "Python 3"
    }
  },
  "cells": [
    {
      "cell_type": "markdown",
      "metadata": {
        "id": "view-in-github",
        "colab_type": "text"
      },
      "source": [
        "<a href=\"https://colab.research.google.com/github/orbenishay/python-project/blob/master/final_ver6.ipynb\" target=\"_parent\"><img src=\"https://colab.research.google.com/assets/colab-badge.svg\" alt=\"Open In Colab\"/></a>"
      ]
    },
    {
      "cell_type": "markdown",
      "metadata": {
        "id": "B5kt_6XrAVEE",
        "colab_type": "text"
      },
      "source": [
        "## Backround\n",
        "\n",
        "\n",
        "---\n",
        "\n",
        "We all have typing mitsakes, as we type quickly and we don't want to spend our time veryfing our text. This mini-project tries to assist in detecting them. The idea is to have a script that receives a text input or and returns the mistakes found, as well as an insightful statistical evaluation for the user.\n",
        "This utility can also be used by children learning english before submitting their work, to verifiy that there are no spell mistakes."
      ]
    },
    {
      "cell_type": "markdown",
      "metadata": {
        "id": "epxqfHj4kl0q",
        "colab_type": "text"
      },
      "source": [
        "# Project Outline\n",
        "\n",
        "---\n",
        "\n"
      ]
    },
    {
      "cell_type": "markdown",
      "metadata": {
        "id": "bfgFIWiJkssp",
        "colab_type": "text"
      },
      "source": [
        "\n",
        "\n",
        "*   Import modules and initiations\n",
        "*   Creating a class with proper attributes and methods\n",
        "*   Get user's preferences\n",
        "*   Implementing the interface\n",
        "*   Program execution and class instantiation\n",
        "\n",
        "\n",
        "\n",
        "\n",
        "\n"
      ]
    },
    {
      "cell_type": "markdown",
      "metadata": {
        "id": "C9_q2U52ASoN",
        "colab_type": "text"
      },
      "source": [
        "\n",
        "# Import sys, re modules"
      ]
    },
    {
      "cell_type": "code",
      "metadata": {
        "id": "JB1hpHNgCifb",
        "colab_type": "code",
        "outputId": "86caab00-3a92-4ac4-fae9-b4f909b42bff",
        "colab": {
          "base_uri": "https://localhost:8080/",
          "height": 121
        }
      },
      "source": [
        "# imports and initializations\n",
        "import sys\n",
        "import re\n",
        "from google.colab import files, drive\n",
        "drive.mount('/content/drive')\n",
        "\n"
      ],
      "execution_count": 1,
      "outputs": [
        {
          "output_type": "stream",
          "text": [
            "Go to this URL in a browser: https://accounts.google.com/o/oauth2/auth?client_id=947318989803-6bn6qk8qdgf4n4g3pfee6491hc0brc4i.apps.googleusercontent.com&redirect_uri=urn%3aietf%3awg%3aoauth%3a2.0%3aoob&response_type=code&scope=email%20https%3a%2f%2fwww.googleapis.com%2fauth%2fdocs.test%20https%3a%2f%2fwww.googleapis.com%2fauth%2fdrive%20https%3a%2f%2fwww.googleapis.com%2fauth%2fdrive.photos.readonly%20https%3a%2f%2fwww.googleapis.com%2fauth%2fpeopleapi.readonly\n",
            "\n",
            "Enter your authorization code:\n",
            "··········\n",
            "Mounted at /content/drive\n"
          ],
          "name": "stdout"
        }
      ]
    },
    {
      "cell_type": "markdown",
      "metadata": {
        "id": "t0a6Dw8d_6d0",
        "colab_type": "text"
      },
      "source": [
        "# Class SpellChecker definitions & Methods"
      ]
    },
    {
      "cell_type": "markdown",
      "metadata": {
        "id": "I3JEbd5Dm-LF",
        "colab_type": "text"
      },
      "source": [
        "Init fuctions "
      ]
    },
    {
      "cell_type": "code",
      "metadata": {
        "id": "v8eHVK7WyGn5",
        "colab_type": "code",
        "colab": {}
      },
      "source": [
        "class SpellChecker:\n",
        "  def __init__(self, input_type=\"file\", typo_count=20, name_ignore=True, check_english_level=True):\n",
        "      self.input_type = input_type\n",
        "      self.typo_count = typo_count\n",
        "      self.name_ignore = name_ignore\n",
        "      self.check_english_level = check_english_level\n",
        "      self.english_level = \"\"\n",
        "      self.text1 = \"\"\n",
        "      print(f\"Your preferences are: Input Type: {input_type}, Number of errors: {typo_count}, Ignore names: {name_input}\")\n",
        "\n",
        "  def load_text(self):\n",
        "    if self.input_type == 'text':\n",
        "      input2 = input(\"Please enter your text:\")\n",
        "      text1 = input2.split(\"/n\") #was by period\n",
        "      # print(text1)\n",
        "    else: # elif input_type.lower() == 'file':\n",
        "      uploaded = files.upload()\n",
        "      fname = list(uploaded.keys())[0]\n",
        "      with open(fname) as f1:\n",
        "        text1 = []\n",
        "        for line in f1:\n",
        "          text1.append(line)\n",
        "    return text1\n",
        "\n",
        " # English-level checker   \n",
        "  def english_level(self,number_word,number_difficoult_word):\n",
        "      if number_word>0:\n",
        "        precent_difficoult_word=number_difficoult_word/number_word\n",
        "        if precent_difficoult_word>0.1:\n",
        "          self.englisg_level=\"is excelent\"\n",
        "        elif precent_difficoult_word>0.01:\n",
        "          self.english_level=\"is fine\"\n",
        "        else:\n",
        "          self.english_level=\"can be better\"\n",
        "      else:\n",
        "        self.english_level=\"can not be evaluated\"\n",
        "\n",
        "\n",
        "# Parsing the text (data cleanning)\n",
        "\n",
        "  def parse_rows(self, text):\n",
        "  \n",
        "    word_dict = {}\n",
        "    for row_num, sentence in enumerate(text):\n",
        "      words_list = sentence.split()\n",
        "      for word_num, word in enumerate(words_list):\n",
        "        dispo = True\n",
        "        match_word = re.search('^[a-z]+$', word)\n",
        "        match_cap = re.match('[A-Z]', word)\n",
        "        #  need to allow '.' at the end of word as exception\n",
        "        # need to ignore comma at the end of a word\n",
        "\n",
        "        if len(word)<=2: # can usae 'or' here for better performance\n",
        "          dispo = False\n",
        "        elif bool(match_word)==False:\n",
        "          dispo = False\n",
        "        elif self.name_ignore == True and word_num>0 and bool(match_cap)==True:\n",
        "            dispo = False\n",
        "            \n",
        "        word_and_dispo = (word, dispo)\n",
        "        word_dict[(row_num, word_num)] = word_and_dispo\n",
        "\n",
        "    return word_dict  "
      ],
      "execution_count": 0,
      "outputs": []
    },
    {
      "cell_type": "code",
      "metadata": {
        "id": "wq_ziLUu3c2L",
        "colab_type": "code",
        "colab": {}
      },
      "source": [
        "#This function checkes if word is in dictionery \n",
        "def wordinenglish(word,dic):\n",
        "  #input: word - a string in English lowcase, dic - dictionery format {\"words\":[]}, \n",
        "  # return boolian if word in dic\n",
        "  if word in dic:\n",
        "    return True\n",
        "  else:\n",
        "    return False"
      ],
      "execution_count": 0,
      "outputs": []
    },
    {
      "cell_type": "code",
      "metadata": {
        "id": "xmZhjqnj2nes",
        "colab_type": "code",
        "colab": {}
      },
      "source": [
        "#Check Spelling- core function\n",
        "def speller(allwordes,dic,dicall={}):\n",
        "  #~~~~~~~~~~~~~~~~~~~~~~~~~~~~~~~~~~~~~~~~~~~~~~~~~~~~~~~~~~~~~~~~~~~~~~~~~\n",
        "  #This function cheks spelling \n",
        "  #receives inputs:\n",
        "  #allwords - All the words to be check, format = {(line,index):[\"word\",True/Falls]} the bulian check or not check spelling for the word\n",
        "  #dic - primery dictionery, format {\"word\":[\"\"]} recomended to use friquent words in English to make an effishient allgoritem\n",
        "  #dicall - secondery dictionery, format {\"word\":[\"\"]} dictionery with more word in Eglish then dic, diffult value is emty and not be used\n",
        "  #returns outputs:\n",
        "  #mistakes - words checked and not at two dictionery, format {(line,index):[\"word\"]}\n",
        "  #~~~~~~~~~~~~~~~~~~~~~~~~~~~~~~~~~~~~~~~~~~~~~~~~~~~~~~~~~~~~~~~~~~~~~~~~~~~~~\n",
        "\n",
        "  lincounter=0\n",
        "  wordcounter=0\n",
        "  mistakecounter1=0\n",
        "  mistakecounter2=0\n",
        "  mistakes={}\n",
        "  for (line,index) in allwordes.keys():\n",
        "    if mistakecounter2 >= int(typo_count):\n",
        "      break\n",
        "    word=allwordes[(line,index)]\n",
        "    if word[1]: # (if word[1]=True)\n",
        "        if not wordinenglish(word[0],dic):\n",
        "          mistakecounter1+=1\n",
        "        \n",
        "          if not wordinenglish(word[0],dicall):\n",
        "            mistakecounter2+=1\n",
        "            mistakes[(line,index)]=word[0] \n",
        "\n",
        "  return mistakes, mistakecounter1, mistakecounter2"
      ],
      "execution_count": 0,
      "outputs": []
    },
    {
      "cell_type": "markdown",
      "metadata": {
        "id": "LL-1pYMnmAs8",
        "colab_type": "text"
      },
      "source": [
        "# Get user preferences"
      ]
    },
    {
      "cell_type": "code",
      "metadata": {
        "id": "FxE6SKc6ClyV",
        "colab_type": "code",
        "outputId": "d8134746-2a35-489d-a632-f99121472f1c",
        "colab": {
          "base_uri": "https://localhost:8080/",
          "height": 218
        }
      },
      "source": [
        "input_type=\"\"\n",
        "while  input_type.lower() not in ['t','f']:\n",
        "  input_type = input(\"Hello. To enter text please enter \\'t\\'. To upload a text file please enter \\'f\\': \")\n",
        "if input_type.lower() == 't':\n",
        "  input_type=\"text\"\n",
        "else:\n",
        "  input_type=\"file\"\n",
        "\n",
        "\n",
        "typo_count = \"0\"\n",
        "typo_count = input(\"please enter the amount of errors you would like to find in your text:\")\n",
        "while typo_count.isdigit() == False and typo_count !=0:\n",
        "  typo_count = input(\"please enter the amount of errors you would like to find in your text:\")\n",
        "\n",
        "name_input = \"\"\n",
        "name_ignore = True\n",
        "while name_input.lower() not in ['y', 'n']:\n",
        "  name_input = input(\"would you like to ignore names in your text? (Y/N)\").upper()\n",
        "  if name_input == 'Y':\n",
        "    name_ignor = True\n",
        "  elif name_input == 'N':\n",
        "    name_ignor = False\n",
        "check_english_level_input = \"\"\n",
        "check_english_level = True\n",
        "while check_english_level_input.lower() not in ['y', 'n']:\n",
        "  check_english_level_input = input(\"would you like to evaluate text English level? (Y/N)\").upper()\n",
        "  if check_english_level_input == 'Y':\n",
        "    check_english_level = True\n",
        "  elif check_english_level_input == 'N':\n",
        "    check_english_level = False\n",
        "\n",
        "\n",
        "sp =SpellChecker(input_type=input_type,typo_count=typo_count,name_ignore=name_ignor,check_english_level=check_english_level)\n",
        "if sp.check_english_level:\n",
        "  english_level_w=\" will\"\n",
        "else:\n",
        "  english_level_w=\" will not\"\n",
        "\n",
        "if sp.name_ignore:\n",
        "  name_ignor_w=\" will not\"\n",
        "else:\n",
        "  name_ignor_w=\" will\"\n",
        "print(\"\\nYour preferences are:\\n\")\n",
        "print(f\"The input is a {sp.input_type}\")\n",
        "print(f\"The speller stopes spelling check after {sp.typo_count} speling errores\")\n",
        "print(f\"The speller{name_ignor_w} check names\")\n",
        "print(f\"The speller{english_level_w} evaluate the text English level\")\n",
        "\n"
      ],
      "execution_count": 35,
      "outputs": [
        {
          "output_type": "stream",
          "text": [
            "Hello. To enter text please enter 't'. To upload a text file please enter 'f': t\n",
            "please enter the amount of errors you would like to find in your text:2\n",
            "would you like to ignore names in your text? (Y/N)y\n",
            "would you like to evaluate text English level? (Y/N)y\n",
            "Your preferences are: Input Type: text, Number of errors: 2, Ignore names: Y\n",
            "\n",
            "Your preferences are:\n",
            "\n",
            "The input is a text\n",
            "The speller stopes spelling check after 2 speling errores\n",
            "The speller will not check names\n",
            "The speller will evaluate the text English level\n"
          ],
          "name": "stdout"
        }
      ]
    },
    {
      "cell_type": "markdown",
      "metadata": {
        "id": "HrlPtntOp5CG",
        "colab_type": "text"
      },
      "source": [
        "Upload a file or text"
      ]
    },
    {
      "cell_type": "code",
      "metadata": {
        "id": "kkhx7TQEjwdE",
        "colab_type": "code",
        "outputId": "d66ada23-70af-4261-d506-9531197d7bea",
        "colab": {
          "base_uri": "https://localhost:8080/",
          "height": 54
        }
      },
      "source": [
        "text1 = sp.load_text()\n"
      ],
      "execution_count": 36,
      "outputs": [
        {
          "output_type": "stream",
          "text": [
            "Please enter your text:The followwwwing are the grapwwhical (non-control) characters defined by ISO 8859-1 (1987).  Descriptions in words aren't all that helpful, but they're the best we can do in text. /n A graphics file illustrating the character set should be available from the same archive as this file.\n"
          ],
          "name": "stdout"
        }
      ]
    },
    {
      "cell_type": "markdown",
      "metadata": {
        "id": "62EURik8p8Lv",
        "colab_type": "text"
      },
      "source": [
        "Parsing the tex"
      ]
    },
    {
      "cell_type": "code",
      "metadata": {
        "id": "0JGvMAhlikFN",
        "colab_type": "code",
        "outputId": "c8c8474e-706a-46ba-9ec2-56fd607121ac",
        "colab": {
          "base_uri": "https://localhost:8080/",
          "height": 70
        }
      },
      "source": [
        "parsed_text = sp.parse_rows(text1)\n",
        "print(parsed_text)\n",
        "print(text1)"
      ],
      "execution_count": 37,
      "outputs": [
        {
          "output_type": "stream",
          "text": [
            "{(0, 0): ('The', False), (0, 1): ('followwwwing', True), (0, 2): ('are', True), (0, 3): ('the', True), (0, 4): ('grapwwhical', True), (0, 5): ('(non-control)', False), (0, 6): ('characters', True), (0, 7): ('defined', True), (0, 8): ('by', False), (0, 9): ('ISO', False), (0, 10): ('8859-1', False), (0, 11): ('(1987).', False), (0, 12): ('Descriptions', False), (0, 13): ('in', False), (0, 14): ('words', True), (0, 15): (\"aren't\", False), (0, 16): ('all', True), (0, 17): ('that', True), (0, 18): ('helpful,', False), (0, 19): ('but', True), (0, 20): (\"they're\", False), (0, 21): ('the', True), (0, 22): ('best', True), (0, 23): ('we', False), (0, 24): ('can', True), (0, 25): ('do', False), (0, 26): ('in', False), (0, 27): ('text.', False), (1, 0): ('A', False), (1, 1): ('graphics', True), (1, 2): ('file', True), (1, 3): ('illustrating', True), (1, 4): ('the', True), (1, 5): ('character', True), (1, 6): ('set', True), (1, 7): ('should', True), (1, 8): ('be', False), (1, 9): ('available', True), (1, 10): ('from', True), (1, 11): ('the', True), (1, 12): ('same', True), (1, 13): ('archive', True), (1, 14): ('as', False), (1, 15): ('this', True), (1, 16): ('file.', False)}\n",
            "[\"The followwwwing are the grapwwhical (non-control) characters defined by ISO 8859-1 (1987).  Descriptions in words aren't all that helpful, but they're the best we can do in text. \", ' A graphics file illustrating the character set should be available from the same archive as this file.']\n"
          ],
          "name": "stdout"
        }
      ]
    },
    {
      "cell_type": "code",
      "metadata": {
        "id": "j_ch-uuOxKLZ",
        "colab_type": "code",
        "colab": {}
      },
      "source": [
        "fname = \"/content/drive/My Drive/5000words.txt\"\n",
        "dic={}\n",
        "with open(fname) as f2:\n",
        "    for line in f2:\n",
        "        word=line.split()\n",
        "        if not(word[0]==\"Rank\"): #remooving header from the words file\n",
        "               dic[word[1]]=[word[0],word[2],word[3]]\n",
        "\n",
        "\n",
        "# print(dic)\n",
        "\n",
        "fname = \"/content/drive/My Drive/allwords.txt\"\n",
        "dicall={}\n",
        "with open(fname) as f3:\n",
        "    for line in f3:\n",
        "        dicall[line.split()[0]]=\"\"\n",
        "#print(dicall)"
      ],
      "execution_count": 0,
      "outputs": []
    },
    {
      "cell_type": "markdown",
      "metadata": {
        "id": "4YLDT86mXThl",
        "colab_type": "text"
      },
      "source": [
        "# **Spelling report**\n",
        "\n",
        "---\n",
        "calling the speller function and present the mistakes, the rate of errors and indication on English level \n"
      ]
    },
    {
      "cell_type": "code",
      "metadata": {
        "id": "M3V-jUWOXSIE",
        "colab_type": "code",
        "colab": {
          "base_uri": "https://localhost:8080/",
          "height": 252
        },
        "outputId": "5575ac3f-5cad-4832-f6ce-278ce728aed8"
      },
      "source": [
        "mistakes, mistakecounter1, mistakecounter2= speller(allwordes=parsed_text,dic=dic, dicall=dicall)\n",
        "\n",
        "print(\"~~~~~~~~~~~~~~~~~~~~~~~~~~~~~~~~~~~~~~~~~~~~~~~~~~~~~~~~~~~~~~~~~~~~~~~~~~\\n\")\n",
        "print(\"                     Spelling Report\\n\")\n",
        "print(\"Speller found {} spelling mistakes, {:.1%} of the wordes were misspaled\".format(len(mistakes),len(mistakes)/len(parsed_text)))\n",
        "if sp.check_english_level == True:\n",
        "  # sp.english_level(len(parsed_text),(mistakecounter1-mistakecounter2))\n",
        "  print(\"\\nThe English level of the texst {}\".format(sp.english_level))\n",
        "print(\"\\n          This are the spelling mistakes found in the text:\\n\")\n",
        "\n",
        "#print(mistakes)\n",
        "\n",
        "for (line,index) in mistakes.keys():\n",
        "  print(f\"In line {str(line)}, at index {str(index)}: the word {mistakes[(line,index)]} was mispelled\")\n",
        "\n",
        "print(\"\\n~~~~~~~~~~~~~~~~~~~~~~~~~~~~~~~~~~~~~~~~~~~~~~~~~~~~~~~~~~~~~~~~~~~~~~~~~~~\")\n",
        "#results(mistakes)"
      ],
      "execution_count": 39,
      "outputs": [
        {
          "output_type": "stream",
          "text": [
            "~~~~~~~~~~~~~~~~~~~~~~~~~~~~~~~~~~~~~~~~~~~~~~~~~~~~~~~~~~~~~~~~~~~~~~~~~~\n",
            "\n",
            "                     Spelling Report\n",
            "\n",
            "Speller found 2 spelling mistakes, 4.4% of the wordes were misspaled\n",
            "\n",
            "The English level of the texst \n",
            "\n",
            "          This are the spelling mistakes found in the text:\n",
            "\n",
            "In line 0, at index 1: the word followwwwing was mispelled\n",
            "In line 0, at index 4: the word grapwwhical was mispelled\n",
            "\n",
            "~~~~~~~~~~~~~~~~~~~~~~~~~~~~~~~~~~~~~~~~~~~~~~~~~~~~~~~~~~~~~~~~~~~~~~~~~~~\n"
          ],
          "name": "stdout"
        }
      ]
    }
  ]
}