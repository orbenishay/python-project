{
  "nbformat": 4,
  "nbformat_minor": 0,
  "metadata": {
    "colab": {
      "name": "Task3",
      "provenance": [],
      "include_colab_link": true
    },
    "kernelspec": {
      "name": "python3",
      "display_name": "Python 3"
    }
  },
  "cells": [
    {
      "cell_type": "markdown",
      "metadata": {
        "id": "view-in-github",
        "colab_type": "text"
      },
      "source": [
        "<a href=\"https://colab.research.google.com/github/orbenishay/python-project/blob/master/Task3.ipynb\" target=\"_parent\"><img src=\"https://colab.research.google.com/assets/colab-badge.svg\" alt=\"Open In Colab\"/></a>"
      ]
    },
    {
      "cell_type": "code",
      "metadata": {
        "id": "IMsyazBaZJGt",
        "colab_type": "code",
        "colab": {}
      },
      "source": [
        "import re\n",
        "class SpellChecker:\n",
        "  def __init__(self, input_type=\"file\", typo_count=20, name_ignore=True):\n",
        "      self.input_type = input_type\n",
        "      self.typo_count = typo_count\n",
        "      self.name_ignore = name_ignore\n",
        "\n",
        "  def rowparser(self, text):\n",
        "    word_dict = {} # create an empty dictionary \n",
        "\n",
        "    for row_num, sentence in enumerate(text): #enumerate(text) creates a list of tuples of the form [(1, <string in row1>),(2, <string in row2>)]\n",
        "      words_list = sentence.split()\n",
        "      for word_num, word in enumerate(words_list):\n",
        "        dispo = True\n",
        "        match_word = re.search('^[a-z]+$', word)\n",
        "        match_cap = re.match('[A-Z]', word)\n",
        "        #  need to allow '.' at the end of word as exception\n",
        "\n",
        "        if len(word)<=2: # can usae 'or' here for better performance\n",
        "          dispo = False\n",
        "        elif bool(match_word)==False:\n",
        "          dispo = False\n",
        "        elif self.name_ignore == True and word_num>0 and bool(match_cap)==True:\n",
        "            dispo = False\n",
        "        \n",
        "      \n",
        "        word_and_dispo = (word, dispo)\n",
        "        word_dict[(row_num, word_num)] = word_and_dispo\n",
        "\n",
        "    return word_dict\n",
        "\n",
        "\n",
        "\n",
        "  \n"
      ],
      "execution_count": 0,
      "outputs": []
    },
    {
      "cell_type": "markdown",
      "metadata": {
        "id": "YWZfKqWJeAWS",
        "colab_type": "text"
      },
      "source": [
        "\n",
        "Untitled1.ipynb\n",
        "Untitled1.ipynb_\n",
        "[ ]\n",
        "import re\n",
        "text1 = ['To Sherlock1 Holmes she* is always the woman.', 'I have seldom heard him mention her under any other name.']\n",
        "\n",
        "def rowparser(text):\n",
        "  word_dict = {} # create an empty dictionary \n",
        "\n",
        "  for row_num, sentence in enumerate(text): #enumerate(text) creates a list of tuples of the form [(1, <string in row1>),(2, <string in row2>)]\n",
        "     words_list = sentence.split()\n",
        "     for word_num, word in enumerate(words_list):\n",
        "       dispo = True\n",
        "…\n",
        "\n",
        "\n",
        "Task3 - Pars input text:\n",
        "\n",
        "Use lower() and split() functions in order to insert the words into list and separate\n",
        "Input: text1 (dictionary of strings)\n",
        "Ignore words starting with capital letters except for 1st word in sentence\n",
        "Ignore decimal\n",
        "Remove special charachters\n",
        "Output: dictionary where key is Tuple (row, letter) and value is word and if is normal or ignored\n",
        "Laying out notebook..."
      ]
    },
    {
      "cell_type": "code",
      "metadata": {
        "id": "gZNTvR87aGu1",
        "colab_type": "code",
        "colab": {}
      },
      "source": [
        "text1 = ['To Sherlock1 Holmes she* is always the woman.', 'I have seldom heard him mention her under any other name.']\n",
        "sp = SpellChecker(input_type='file')\n",
        "text2=rowparser(text1)\n",
        "print(text2)\n",
        "# OOP (object oriented programing)\n",
        "# class, attribute, method, instance, object,  param\n",
        "\n",
        "class Table:\n",
        "    def __init__(self, fields): #initialize the class\n",
        "        self.fields = fields\n",
        "        self.n_fields = len(fields)\n",
        "        self.records = []\n",
        "        self.n_records = 0\n",
        "\n",
        "# ‘Init’ it the constructor of the class. Creates an instance of the class Instance\n",
        "# Object has methods and has attributes\n",
        "\n",
        "class Student:\n",
        "    def __init__(self, name, id_number, grades={}):\n",
        "    # or def __init__(self, name, id_number, grades=dict()):\n",
        "        self.name = name\n",
        "        self.id_number = id_number\n",
        "        self.grades = grades\n",
        "s1 = Student('Yosi', 1, {'Math':[92,99]})\n",
        "s2 = Student('Dor', 1, {'Math':[88,30]})\n",
        " \n",
        "print(s1)\n",
        "print(s1.grades)\n",
        "\n",
        "# Methods:\n",
        "class Table:\n",
        "    def __init__(self, fields):\n",
        "        self.fields = fields\n",
        "        self.n_fields = len(fields)\n",
        "        self.records = []\n",
        "        self.n_records = 0\n",
        "    \n",
        "    def add_record(self, rec):\n",
        "        self.records.append(rec)\n",
        "        self.n_records += 1\n",
        " \n",
        "    def took_test (self, subject, grade):\n",
        "        self.grade[subject].append(grade)"
      ],
      "execution_count": 0,
      "outputs": []
    }
  ]
}