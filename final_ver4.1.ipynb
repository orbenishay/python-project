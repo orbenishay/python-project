{
  "nbformat": 4,
  "nbformat_minor": 0,
  "metadata": {
    "colab": {
      "name": "task1.ipynb",
      "provenance": [],
      "include_colab_link": true
    },
    "kernelspec": {
      "name": "python3",
      "display_name": "Python 3"
    }
  },
  "cells": [
    {
      "cell_type": "markdown",
      "metadata": {
        "id": "view-in-github",
        "colab_type": "text"
      },
      "source": [
        "<a href=\"https://colab.research.google.com/github/orbenishay/python-project/blob/master/final_ver4.1.ipynb\" target=\"_parent\"><img src=\"https://colab.research.google.com/assets/colab-badge.svg\" alt=\"Open In Colab\"/></a>"
      ]
    },
    {
      "cell_type": "markdown",
      "metadata": {
        "id": "bJ4pwRHF_uuI",
        "colab_type": "text"
      },
      "source": [
        "Import sys, re modules"
      ]
    },
    {
      "cell_type": "markdown",
      "metadata": {
        "id": "B5kt_6XrAVEE",
        "colab_type": "text"
      },
      "source": [
        "## Backround\n",
        "\n",
        "\n",
        "---\n",
        "\n",
        "We all have typo mistakes, as we type fast and we don't want to spend our time for veryfing our text, and this mini-project tries to assist in finding them. The idea is to have a script that receives a text or a text file and returns the mistakes founded in the text, as well as some statistics for the user information.\n",
        "can also be used for children who first learn to spell or before uploading an importen file, to make sure there is no spell mistakes.\n",
        "\n"
      ]
    },
    {
      "cell_type": "markdown",
      "metadata": {
        "id": "epxqfHj4kl0q",
        "colab_type": "text"
      },
      "source": [
        "# Project Outline\n",
        "\n",
        "---\n",
        "\n"
      ]
    },
    {
      "cell_type": "markdown",
      "metadata": {
        "id": "bfgFIWiJkssp",
        "colab_type": "text"
      },
      "source": [
        "\n",
        "\n",
        "*   Import modules and initiations\n",
        "*   Creating a class with proper attributes and methods\n",
        "*   Get preferences from the user\n",
        "*   Implementing the interface\n",
        "\n",
        "\n",
        "\n"
      ]
    },
    {
      "cell_type": "markdown",
      "metadata": {
        "id": "C9_q2U52ASoN",
        "colab_type": "text"
      },
      "source": [
        "\n",
        "# Import sys, re modules"
      ]
    },
    {
      "cell_type": "code",
      "metadata": {
        "id": "JB1hpHNgCifb",
        "colab_type": "code",
        "outputId": "f2b2132d-042e-43fd-b663-6bfe987b536b",
        "colab": {
          "base_uri": "https://localhost:8080/",
          "height": 54
        }
      },
      "source": [
        "# imports and initializations\n",
        "import sys\n",
        "import re\n",
        "from google.colab import files, drive\n",
        "drive.mount('/content/drive')\n"
      ],
      "execution_count": 0,
      "outputs": [
        {
          "output_type": "stream",
          "text": [
            "Drive already mounted at /content/drive; to attempt to forcibly remount, call drive.mount(\"/content/drive\", force_remount=True).\n"
          ],
          "name": "stdout"
        }
      ]
    },
    {
      "cell_type": "markdown",
      "metadata": {
        "id": "t0a6Dw8d_6d0",
        "colab_type": "text"
      },
      "source": [
        "# Class SpellChecker definitions & Methods"
      ]
    },
    {
      "cell_type": "markdown",
      "metadata": {
        "id": "I3JEbd5Dm-LF",
        "colab_type": "text"
      },
      "source": [
        "Init fuctions "
      ]
    },
    {
      "cell_type": "code",
      "metadata": {
        "id": "v8eHVK7WyGn5",
        "colab_type": "code",
        "colab": {}
      },
      "source": [
        "class SpellChecker:\n",
        "  def __init__(self, input_type=\"file\", typo_count=20, name_ignore=True, check_english_level=True):\n",
        "      self.input_type = input_type\n",
        "      self.typo_count = typo_count\n",
        "      self.name_ignore = name_ignore\n",
        "      self.check_english_level = check_english_level\n",
        "      print(f\"Your preferences are: Input Type: {input_type}, Number of errors: {typo_count}, Ignore names: {name_input}\")"
      ],
      "execution_count": 0,
      "outputs": []
    },
    {
      "cell_type": "markdown",
      "metadata": {
        "id": "Lp07xiHvpEa0",
        "colab_type": "text"
      },
      "source": [
        "load_text"
      ]
    },
    {
      "cell_type": "code",
      "metadata": {
        "id": "nfoCbiv9mjz9",
        "colab_type": "code",
        "colab": {}
      },
      "source": [
        "  def load_text(self):\n",
        "    if self.input_type == 'text':\n",
        "      input2 = input(\"Please enter your text:\")\n",
        "      text1 = input2.split(\".\") #was by period\n",
        "      # print(text1)\n",
        "    else: # elif input_type.lower() == 'file':\n",
        "      uploaded = files.upload()\n",
        "      fname = list(uploaded.keys())[0]\n",
        "      with open(fname) as f1:\n",
        "        text1 = []\n",
        "        for line in f1:\n",
        "          text1.append(line) \n",
        "    return text1"
      ],
      "execution_count": 0,
      "outputs": []
    },
    {
      "cell_type": "markdown",
      "metadata": {
        "id": "le5FLUc4pfu-",
        "colab_type": "text"
      },
      "source": [
        "English-level checker"
      ]
    },
    {
      "cell_type": "code",
      "metadata": {
        "id": "g71x2vjOmnJ9",
        "colab_type": "code",
        "colab": {}
      },
      "source": [
        "  def english_level(self,number_word,number_difficoult_words):\n",
        "      if number_word>0:\n",
        "        precent_difficoult_words=number_difficoult_words/number_word\n",
        "        if precent_difficoult_word>0.1:\n",
        "          self.englisg_level=\"is excelent\"\n",
        "        elif precent_difficoult_word>0.01:\n",
        "          self.english_level=\"is fine\"\n",
        "        else:\n",
        "          self.english_level=\"can be better\"\n",
        "      else:\n",
        "        self.english_level=\"can not be evaluated\""
      ],
      "execution_count": 0,
      "outputs": []
    },
    {
      "cell_type": "markdown",
      "metadata": {
        "id": "dRXE9jJgpjo2",
        "colab_type": "text"
      },
      "source": [
        "Parsing the text (data cleanning)"
      ]
    },
    {
      "cell_type": "code",
      "metadata": {
        "id": "1eM1J13TmrIF",
        "colab_type": "code",
        "colab": {}
      },
      "source": [
        "  def parse_rows(self, text):\n",
        "  \n",
        "    word_dict = {}\n",
        "    for row_num, sentence in enumerate(text):\n",
        "      words_list = sentence.split()\n",
        "      for word_num, word in enumerate(words_list):\n",
        "        dispo = True\n",
        "        match_word = re.search('^[a-z]+$', word)\n",
        "        match_cap = re.match('[A-Z]', word)\n",
        "        #  need to allow '.' at the end of word as exception\n",
        "        # need to ignore comma at the end of a word\n",
        "\n",
        "        if len(word)<=2: # can usae 'or' here for better performance\n",
        "          dispo = False\n",
        "        elif bool(match_word)==False:\n",
        "          dispo = False\n",
        "        elif self.name_ignore == True and word_num>0 and bool(match_cap)==True:\n",
        "            dispo = False\n",
        "            \n",
        "        word_and_dispo = (word, dispo)\n",
        "        word_dict[(row_num, word_num)] = word_and_dispo\n",
        "\n",
        "    return word_dict"
      ],
      "execution_count": 0,
      "outputs": []
    },
    {
      "cell_type": "markdown",
      "metadata": {
        "id": "vB4TxrWEpnpk",
        "colab_type": "text"
      },
      "source": [
        "Check Spelling"
      ]
    },
    {
      "cell_type": "code",
      "metadata": {
        "id": "VGh0a7Kfm1lu",
        "colab_type": "code",
        "colab": {}
      },
      "source": [
        "  def speller(self, allwordes, dic, dicall={}):\n",
        "    #~~~~~~~~~~~~~~~~~~~~~~~~~~~~~~~~~~~~~~~~~~~~~~~~~~~~~~~~~~~~~~~~~~~~~~~~~\n",
        "    #This function cheks spelling \n",
        "    #receives inputs:\n",
        "    #allwords - All the words to be check, format = {(line,index):[\"word\",True/Falls]} the bulian check or not check spelling for the word\n",
        "    #dic - primery dictionery, format {\"word\":[\"\"]} recomended to use friquent words in English to make an effishient allgoritem\n",
        "    #dicall - secondery dictionery, format {\"word\":[\"\"]} dictionery with more word in Eglish then dic, diffult value is emty and not be used\n",
        "    #returns outputs:\n",
        "    #mistakes - words checked and not at two dictionery, format {(line,index):[\"word\"]}\n",
        "    #~~~~~~~~~~~~~~~~~~~~~~~~~~~~~~~~~~~~~~~~~~~~~~~~~~~~~~~~~~~~~~~~~~~~~~~~~~~~~\n",
        "\n",
        "    lincounter=0\n",
        "    wordcounter=0\n",
        "    mistakecounter1=0\n",
        "    mistakecounter2=0\n",
        "    mistakes={}\n",
        "    # print(allwordes)\n",
        "    for (line,index) in allwordes.keys():\n",
        "      if mistakecounter2 >= int(self.typo_count):\n",
        "        break\n",
        "      word=allwordes[(line,index)]\n",
        "      if word[1]: # (if word[1]=True)\n",
        "          if not word[0] in dic:\n",
        "            mistakecounter1+=1\n",
        "          \n",
        "            if not word[0] in dicall:\n",
        "              mistakecounter2+=1\n",
        "              mistakes[(line,index)]=word[0]\n",
        "      \n",
        "\n",
        "        #wordinlinecounter+=1\n",
        "      #lincounter+=1\n",
        "    print(mistakecounter2)\n",
        "    print(mistakes)\n",
        "    print(\"There are \" + str(mistakecounter1-mistakecounter2) + \" difficult English words\")\n",
        "    #print(dicall)\n",
        "\n",
        "    return mistakes, mistakecounter1, mistakecounter2"
      ],
      "execution_count": 0,
      "outputs": []
    },
    {
      "cell_type": "markdown",
      "metadata": {
        "id": "swG1jQaYpsTn",
        "colab_type": "text"
      },
      "source": [
        "Get mistakes resaults"
      ]
    },
    {
      "cell_type": "code",
      "metadata": {
        "id": "Ly58Drrdm5xT",
        "colab_type": "code",
        "colab": {}
      },
      "source": [
        "   def get_results(self, mistakes):\n",
        "    for (line,index) in mistakes.keys():\n",
        "      print(f\"In line {str(line)}: the word {mistakes[(line,index)]} was mispelled\")"
      ],
      "execution_count": 0,
      "outputs": []
    },
    {
      "cell_type": "markdown",
      "metadata": {
        "id": "LL-1pYMnmAs8",
        "colab_type": "text"
      },
      "source": [
        "# Get user preferences"
      ]
    },
    {
      "cell_type": "code",
      "metadata": {
        "id": "FxE6SKc6ClyV",
        "colab_type": "code",
        "outputId": "d840d17a-632f-48fa-b09d-16b40ac6a1b4",
        "colab": {
          "base_uri": "https://localhost:8080/",
          "height": 85
        }
      },
      "source": [
        "# start of program\n",
        "input_type=\"\"\n",
        "while  input_type.lower() not in ['t','f']:\n",
        "  input_type = input(\"Hello. To enter text please enter \\'t\\'. To upload a text file please enter \\'f\\': \")\n",
        "if input_type.lower() == 't':\n",
        "  input_type = \"text\"\n",
        "else:\n",
        "  input_type = \"file\"\n",
        "\n",
        "typo_count = \"0\"\n",
        "typo_count = input(\"please enter the amount of errors you would like to find in your text:\")\n",
        "while typo_count.isdigit() == False and typo_count !=0:\n",
        "  typo_count = input(\"please enter the amount of errors you would like to find in your text:\")\n",
        "\n",
        "name_input = \"\"\n",
        "name_ignore = True\n",
        "while name_input.lower() not in ['y', 'n']:\n",
        "  name_input = input(\"would you like to ignore names in your text? (Y/N)\")\n",
        "  if name_input.lower() == 'y':\n",
        "    name_ignore = True\n",
        "  else: # name_input.lower() == 'n'\n",
        "    name_ignore = False\n",
        "\n",
        "\n",
        "sp=SpellChecker(input_type=input_type, typo_count=typo_count, name_ignore=name_ignore)\n",
        "\n"
      ],
      "execution_count": 0,
      "outputs": [
        {
          "output_type": "stream",
          "text": [
            "Hello. To enter text please enter 't'. To upload a text file please enter 'f': f\n",
            "please enter the amount of errors you would like to find in your text:3\n",
            "would you like to ignore names in your text? (Y/N)y\n",
            "Your preferences are: Input Type: file, Number of errors: 3, Ignore names: y\n"
          ],
          "name": "stdout"
        }
      ]
    },
    {
      "cell_type": "markdown",
      "metadata": {
        "id": "HrlPtntOp5CG",
        "colab_type": "text"
      },
      "source": [
        "Upload a file UI"
      ]
    },
    {
      "cell_type": "code",
      "metadata": {
        "id": "kkhx7TQEjwdE",
        "colab_type": "code",
        "outputId": "26e53963-2893-446c-b485-942e6d65bd65",
        "colab": {
          "resources": {
            "http://localhost:8080/nbextensions/google.colab/files.js": {
              "data": "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",
              "ok": true,
              "headers": [
                [
                  "content-type",
                  "application/javascript"
                ]
              ],
              "status": 200,
              "status_text": ""
            }
          },
          "base_uri": "https://localhost:8080/",
          "height": 74
        }
      },
      "source": [
        "text1 = sp.load_text()\n"
      ],
      "execution_count": 0,
      "outputs": [
        {
          "output_type": "display_data",
          "data": {
            "text/html": [
              "\n",
              "     <input type=\"file\" id=\"files-d32d26c3-f578-4ddd-9dec-a9e6eb7d53e4\" name=\"files[]\" multiple disabled />\n",
              "     <output id=\"result-d32d26c3-f578-4ddd-9dec-a9e6eb7d53e4\">\n",
              "      Upload widget is only available when the cell has been executed in the\n",
              "      current browser session. Please rerun this cell to enable.\n",
              "      </output>\n",
              "      <script src=\"/nbextensions/google.colab/files.js\"></script> "
            ],
            "text/plain": [
              "<IPython.core.display.HTML object>"
            ]
          },
          "metadata": {
            "tags": []
          }
        },
        {
          "output_type": "stream",
          "text": [
            "Saving task - Copy.txt to task - Copy (1).txt\n"
          ],
          "name": "stdout"
        }
      ]
    },
    {
      "cell_type": "markdown",
      "metadata": {
        "id": "62EURik8p8Lv",
        "colab_type": "text"
      },
      "source": [
        "Parsing the text"
      ]
    },
    {
      "cell_type": "code",
      "metadata": {
        "id": "0JGvMAhlikFN",
        "colab_type": "code",
        "outputId": "70a05de2-c659-438c-9fef-dbf7e789a8dc",
        "colab": {
          "base_uri": "https://localhost:8080/",
          "height": 71
        }
      },
      "source": [
        "parsed_text = sp.parse_rows(text1)\n",
        "print(parsed_text)\n",
        "print(text1)"
      ],
      "execution_count": 0,
      "outputs": [
        {
          "output_type": "stream",
          "text": [
            "{(0, 0): ('nly', True), (0, 1): ('used', True), (0, 2): ('to', False), (0, 3): ('demonstrate', True), (0, 4): ('the', True), (0, 5): ('visual', True), (0, 6): ('form', True), (0, 7): ('of', False), (0, 8): ('a', False), (0, 9): ('document', True), (0, 10): ('or', False), (0, 11): ('a', False), (0, 12): ('typeface', True), (0, 13): ('without', True), (0, 14): ('relying', True), (0, 15): ('on', False), (0, 16): ('meaningful', True), (0, 17): ('content.', False), (1, 0): ('Lorem', False), (1, 1): ('ipsum', True), (1, 2): ('may', True), (1, 3): ('be', False), (1, 4): ('used', True), (1, 5): ('before', True), (1, 6): ('final', True), (1, 7): ('copy', True), (1, 8): ('is', False), (1, 9): ('available,', False), (2, 0): ('but', True), (2, 1): ('it', False), (2, 2): ('may', True), (2, 3): ('also', True), (2, 4): ('be', False), (2, 5): ('used', True), (2, 6): ('to', False), (2, 7): ('temporarily', True), (2, 8): ('replace', True), (2, 9): ('copy', True), (2, 10): ('in', False), (2, 11): ('a', False), (2, 12): ('process', True), (2, 13): ('called', True), (2, 14): ('greeking,', False), (2, 15): ('which', True), (2, 16): ('allows', True), (2, 17): ('designers', True), (3, 0): ('to', False), (3, 1): ('consider', True), (3, 2): ('form', True), (3, 3): ('without', True), (3, 4): ('the', True), (3, 5): ('meaning', True), (3, 6): ('of', False), (3, 7): ('the', True), (3, 8): ('text', True), (3, 9): ('influencing', True), (3, 10): ('the', True), (3, 11): ('design.', False), (5, 0): ('Lorem', False), (5, 1): ('ipsum', True), (5, 2): ('is', False), (5, 3): ('typically', True), (5, 4): ('a', False), (5, 5): ('corrupted', True), (5, 6): ('version', True), (5, 7): ('of', False), (5, 8): ('De', False), (5, 9): ('finibus', True), (5, 10): ('bonorum', True), (5, 11): ('et', False), (5, 12): ('malorum,', False), (6, 0): ('a', False), (6, 1): ('first-century', False), (6, 2): ('BCE', False), (6, 3): ('text', True), (6, 4): ('by', False), (6, 5): ('Cicero,', False), (6, 6): ('with', True), (6, 7): ('words', True), (6, 8): ('altered,', False), (6, 9): ('added,', False), (6, 10): ('and', True), (6, 11): ('removed', True), (6, 12): ('to', False), (6, 13): ('make', True), (6, 14): ('it', False), (6, 15): ('nonsensical,', False), (6, 16): ('improper', True), (6, 17): ('Latin.', False)}\n",
            "['nly used to demonstrate the visual form of a document or a typeface without relying on meaningful content.\\n', ' Lorem ipsum may be used before final copy is available,\\n', ' but it may also be used to temporarily replace copy in a process called greeking, which allows designers\\n', ' to consider form without the meaning of the text influencing the design.\\n', '\\n', 'Lorem ipsum is typically a corrupted version of De finibus bonorum et malorum, \\n', 'a first-century BCE text by Cicero, with words altered, added, and removed to make it nonsensical, improper Latin.']\n"
          ],
          "name": "stdout"
        }
      ]
    },
    {
      "cell_type": "markdown",
      "metadata": {
        "id": "JDv8Oi9pqNso",
        "colab_type": "text"
      },
      "source": [
        ""
      ]
    },
    {
      "cell_type": "code",
      "metadata": {
        "id": "j_ch-uuOxKLZ",
        "colab_type": "code",
        "colab": {}
      },
      "source": [
        "fname = \"/content/drive/My Drive/5000words.txt\"\n",
        "dic={}\n",
        "with open(fname) as f2:\n",
        "    for line in f2:\n",
        "        word=line.split()\n",
        "        if not(word[0]==\"Rank\"): #remooving header from the words file\n",
        "               dic[word[1]]=[word[0],word[2],word[3]]\n",
        "\n",
        "\n",
        "# print(dic)\n",
        "\n",
        "fname = \"/content/drive/My Drive/allwords.txt\"\n",
        "dicall={}\n",
        "with open(fname) as f3:\n",
        "    for line in f3:\n",
        "        dicall[line.split()[0]]=\"\"\n",
        "#print(dicall)"
      ],
      "execution_count": 0,
      "outputs": []
    },
    {
      "cell_type": "code",
      "metadata": {
        "id": "YKoRedq0cwqI",
        "colab_type": "code",
        "outputId": "8e212dfe-1918-4947-e71b-ab1f8bac61e8",
        "colab": {
          "base_uri": "https://localhost:8080/",
          "height": 119
        }
      },
      "source": [
        "m,m1,m2= sp.speller(allwordes=parsed_text,dic=dic, dicall=dicall)\n",
        "sp.get_results(m)"
      ],
      "execution_count": 0,
      "outputs": [
        {
          "output_type": "stream",
          "text": [
            "3\n",
            "{(0, 0): 'nly', (1, 1): 'ipsum', (5, 1): 'ipsum'}\n",
            "There are 7 difficult English words\n",
            "In line 0: the word nly was mispelled\n",
            "In line 1: the word ipsum was mispelled\n",
            "In line 5: the word ipsum was mispelled\n"
          ],
          "name": "stdout"
        }
      ]
    }
  ]
}