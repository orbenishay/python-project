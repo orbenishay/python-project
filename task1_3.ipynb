{
  "nbformat": 4,
  "nbformat_minor": 0,
  "metadata": {
    "colab": {
      "name": "task1.ipynb",
      "provenance": [],
      "include_colab_link": true
    },
    "kernelspec": {
      "name": "python3",
      "display_name": "Python 3"
    }
  },
  "cells": [
    {
      "cell_type": "markdown",
      "metadata": {
        "id": "view-in-github",
        "colab_type": "text"
      },
      "source": [
        "<a href=\"https://colab.research.google.com/github/orbenishay/python-project/blob/master/task1_3.ipynb\" target=\"_parent\"><img src=\"https://colab.research.google.com/assets/colab-badge.svg\" alt=\"Open In Colab\"/></a>"
      ]
    },
    {
      "cell_type": "markdown",
      "metadata": {
        "id": "yf7zZ1NjJW0X",
        "colab_type": "text"
      },
      "source": [
        "Task1- Input/open file\n"
      ]
    },
    {
      "cell_type": "code",
      "metadata": {
        "id": "yrqTQtbqJfrG",
        "colab_type": "code",
        "outputId": "f77a8257-a874-4921-c61e-775211edf921",
        "colab": {
          "base_uri": "https://localhost:8080/",
          "height": 34
        }
      },
      "source": [
        "input1 = input(\"hello. To enter a text please enter \\'t'. To upload a file please enter \\'f'\")\n"
      ],
      "execution_count": 0,
      "outputs": [
        {
          "output_type": "stream",
          "text": [
            "hello. To enter a text please enter 't'. To upload a file please enter 'f'f\n"
          ],
          "name": "stdout"
        }
      ]
    },
    {
      "cell_type": "code",
      "metadata": {
        "id": "nrRiNpC4ihmP",
        "colab_type": "code",
        "colab": {}
      },
      "source": [
        "import re\n",
        "text1 = ['To Sherlock1 Holmes she* is always the woman.', 'I have seldom heard him mention her under any other name.']\n",
        "\n",
        "class SpellChecker:\n",
        "  def __init__(self, input_type=\"file\", typo_count=20, name_ignore=True):\n",
        "      self.input_type = input_type\n",
        "      self.typo_count = typo_count\n",
        "      self.name_ignore = name_ignore\n",
        "\n",
        "  def rowparser(self, text):\n",
        "    word_dict = {} # create an empty dictionary \n",
        "\n",
        "    for row_num, sentence in enumerate(text): #enumerate(text) creates a list of tuples of the form [(1, <string in row1>),(2, <string in row2>)]\n",
        "      words_list = sentence.split()\n",
        "      for word_num, word in enumerate(words_list):\n",
        "        dispo = True\n",
        "        match_word = re.search('^[a-z]+$', word)\n",
        "        match_cap = re.match('[A-Z]', word)\n",
        "        #  need to allow '.' at the end of word as exception\n",
        "\n",
        "        if len(word)<=2: # can usae 'or' here for better performance\n",
        "          dispo = False\n",
        "        elif bool(match_word)==False:\n",
        "          dispo = False\n",
        "        elif self.name_ignore == True and word_num>0 and bool(match_cap)==True:\n",
        "            dispo = False\n",
        "        \n",
        "      \n",
        "        word_and_dispo = (word, dispo)\n",
        "        word_dict[(row_num, word_num)] = word_and_dispo\n",
        "\n",
        "    return word_dict"
      ],
      "execution_count": 0,
      "outputs": []
    },
    {
      "cell_type": "code",
      "metadata": {
        "id": "0JGvMAhlikFN",
        "colab_type": "code",
        "colab": {}
      },
      "source": [
        "text1 = ['To Sherlock1 Holmes she* is always the woman.', 'I have seldom heard him mention her under any other name.']\n",
        "text2=rowparser(text1)\n",
        "print(text2)"
      ],
      "execution_count": 0,
      "outputs": []
    },
    {
      "cell_type": "code",
      "metadata": {
        "id": "6As2ZtBnScNS",
        "colab_type": "code",
        "colab": {}
      },
      "source": [
        "print(input1)\n",
        "if input1 == 't' or input1 == 'T':\n",
        "  input2 = input(\"please enter your text\")\n",
        "  line = input2.split(\".\")\n",
        "  print(line)\n",
        "  lines = {}\n",
        "  counter1 = 0\n",
        "  for words in line:\n",
        "    lines[counter1] = words\n",
        "    counter1 += 1\n",
        "  print(lines)\n",
        "elif input1 == 'f' or input1 == 'F':\n",
        "  import sys\n",
        "  if 'google.colab' in sys.modules:\n",
        "      from google.colab import files\n",
        "      uploaded = files.upload()\n",
        "  fname = \"task1.txt\"\n",
        "  with open(fname) as f1:\n",
        "    for line in f1:\n",
        "     lines = line.split()\n",
        "     print(lines)\n",
        "else:\n",
        "  print(\"please enter \\'t' or '\\f'\")"
      ],
      "execution_count": 0,
      "outputs": []
    },
    {
      "cell_type": "code",
      "metadata": {
        "id": "dtC3z-yQx8bV",
        "colab_type": "code",
        "outputId": "0eb66e92-67d0-4ef8-cff1-3d68366c3b07",
        "colab": {
          "base_uri": "https://localhost:8080/",
          "height": 128
        }
      },
      "source": [
        "dict1 = {1:[2,4,'rington'], 2: [4,5,'rainboo'], 3: [1,0,'babun'], 4: [0,2,'philosofie']}\n",
        "def resaults(i):\n",
        "    print1 = print(\"in line {}: the word {} was mispelled\".format(value([0]), value([2]))\n",
        "    return print1\n",
        "\n",
        "print(resaults(dict1))"
      ],
      "execution_count": 0,
      "outputs": [
        {
          "output_type": "error",
          "ename": "SyntaxError",
          "evalue": "ignored",
          "traceback": [
            "\u001b[0;36m  File \u001b[0;32m\"<ipython-input-17-2caad13da5fe>\"\u001b[0;36m, line \u001b[0;32m4\u001b[0m\n\u001b[0;31m    return print1\u001b[0m\n\u001b[0m         ^\u001b[0m\n\u001b[0;31mSyntaxError\u001b[0m\u001b[0;31m:\u001b[0m invalid syntax\n"
          ]
        }
      ]
    }
  ]
}