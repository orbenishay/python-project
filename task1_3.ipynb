{
  "nbformat": 4,
  "nbformat_minor": 0,
  "metadata": {
    "colab": {
      "name": "task1.ipynb",
      "provenance": [],
      "include_colab_link": true
    },
    "kernelspec": {
      "name": "python3",
      "display_name": "Python 3"
    }
  },
  "cells": [
    {
      "cell_type": "markdown",
      "metadata": {
        "id": "view-in-github",
        "colab_type": "text"
      },
      "source": [
        "<a href=\"https://colab.research.google.com/github/orbenishay/python-project/blob/master/task1_3.ipynb\" target=\"_parent\"><img src=\"https://colab.research.google.com/assets/colab-badge.svg\" alt=\"Open In Colab\"/></a>"
      ]
    },
    {
      "cell_type": "markdown",
      "metadata": {
        "id": "yf7zZ1NjJW0X",
        "colab_type": "text"
      },
      "source": [
        "Task1- Input/open file\n"
      ]
    },
    {
      "cell_type": "code",
      "metadata": {
        "id": "yrqTQtbqJfrG",
        "colab_type": "code",
        "outputId": "f77a8257-a874-4921-c61e-775211edf921",
        "colab": {
          "base_uri": "https://localhost:8080/",
          "height": 34
        }
      },
      "source": [
        "input1 = input(\"hello. To enter a text please enter \\'t'. To upload a file please enter \\'f'\")\n"
      ],
      "execution_count": 0,
      "outputs": [
        {
          "output_type": "stream",
          "text": [
            "hello. To enter a text please enter 't'. To upload a file please enter 'f'f\n"
          ],
          "name": "stdout"
        }
      ]
    },
    {
      "cell_type": "code",
      "metadata": {
        "id": "6As2ZtBnScNS",
        "colab_type": "code",
        "outputId": "d0fc248c-22a8-497a-83c9-5613f6e44df7",
        "colab": {
          "resources": {
            "http://localhost:8080/nbextensions/google.colab/files.js": {
              "data": "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",
              "ok": true,
              "headers": [
                [
                  "content-type",
                  "application/javascript"
                ]
              ],
              "status": 200,
              "status_text": ""
            }
          },
          "base_uri": "https://localhost:8080/",
          "height": 1000
        }
      },
      "source": [
        "print(input1)\n",
        "if input1 == 't' or input1 == 'T':\n",
        "  input2 = input(\"please enter your text\")\n",
        "  line = input2.split(\".\")\n",
        "  print(line)\n",
        "  lines = {}\n",
        "  counter1 = 0\n",
        "  for words in line:\n",
        "    lines[counter1] = words\n",
        "    counter1 += 1\n",
        "  print(lines)\n",
        "elif input1 == 'f' or input1 == 'F':\n",
        "  import sys\n",
        "  if 'google.colab' in sys.modules:\n",
        "      from google.colab import files\n",
        "      uploaded = files.upload()\n",
        "  fname = \"task1.txt\"\n",
        "  with open(fname) as f1:\n",
        "    for line in f1:\n",
        "     lines = line.split()\n",
        "     print(lines)\n",
        "else:\n",
        "  print(\"please enter \\'t' or '\\f'\")"
      ],
      "execution_count": 0,
      "outputs": [
        {
          "output_type": "stream",
          "text": [
            "f\n"
          ],
          "name": "stdout"
        },
        {
          "output_type": "display_data",
          "data": {
            "text/html": [
              "\n",
              "     <input type=\"file\" id=\"files-7fc87c70-b422-4399-915b-fe07c3680807\" name=\"files[]\" multiple disabled />\n",
              "     <output id=\"result-7fc87c70-b422-4399-915b-fe07c3680807\">\n",
              "      Upload widget is only available when the cell has been executed in the\n",
              "      current browser session. Please rerun this cell to enable.\n",
              "      </output>\n",
              "      <script src=\"/nbextensions/google.colab/files.js\"></script> "
            ],
            "text/plain": [
              "<IPython.core.display.HTML object>"
            ]
          },
          "metadata": {
            "tags": []
          }
        },
        {
          "output_type": "stream",
          "text": [
            "Saving task1.txt to task1 (1).txt\n",
            "['The', 'following', 'are', 'the', 'graphical', '(non-control)', 'characters', 'defined', 'by']\n",
            "['ISO', '8859-1', '(1987).', 'Descriptions', 'in', 'words', \"aren't\", 'all', 'that', 'helpful,']\n",
            "['but', \"they're\", 'the', 'best', 'we', 'can', 'do', 'in', 'text.', 'A', 'graphics', 'file', 'illustrating']\n",
            "['the', 'character', 'set', 'should', 'be', 'available', 'from', 'the', 'same', 'archive', 'as', 'this']\n",
            "['file.']\n",
            "[]\n",
            "['Hex', 'Description', 'Hex', 'Description']\n",
            "[]\n",
            "['20', 'SPACE']\n",
            "['21', 'EXCLAMATION', 'MARK', 'A1', 'INVERTED', 'EXCLAMATION', 'MARK']\n",
            "['22', 'QUOTATION', 'MARK', 'A2', 'CENT', 'SIGN']\n",
            "['23', 'NUMBER', 'SIGN', 'A3', 'POUND', 'SIGN']\n",
            "['24', 'DOLLAR', 'SIGN', 'A4', 'CURRENCY', 'SIGN']\n",
            "['25', 'PERCENT', 'SIGN', 'A5', 'YEN', 'SIGN']\n",
            "['26', 'AMPERSAND', 'A6', 'BROKEN', 'BAR']\n",
            "['27', 'APOSTROPHE', 'A7', 'SECTION', 'SIGN']\n",
            "['28', 'LEFT', 'PARENTHESIS', 'A8', 'DIAERESIS']\n",
            "['29', 'RIGHT', 'PARENTHESIS', 'A9', 'COPYRIGHT', 'SIGN']\n",
            "['2A', 'ASTERISK', 'AA', 'FEMININE', 'ORDINAL', 'INDICATOR']\n",
            "['2B', 'PLUS', 'SIGN', 'AB', 'LEFT-POINTING', 'DOUBLE', 'ANGLE', 'QUOTATION', 'MARK']\n",
            "['2C', 'COMMA', 'AC', 'NOT', 'SIGN']\n",
            "['2D', 'HYPHEN-MINUS', 'AD', 'SOFT', 'HYPHEN']\n",
            "['2E', 'FULL', 'STOP', 'AE', 'REGISTERED', 'SIGN']\n",
            "['2F', 'SOLIDUS', 'AF', 'OVERLINE']\n",
            "['30', 'DIGIT', 'ZERO', 'B0', 'DEGREE', 'SIGN']\n",
            "['31', 'DIGIT', 'ONE', 'B1', 'PLUS-MINUS', 'SIGN']\n",
            "['32', 'DIGIT', 'TWO', 'B2', 'SUPERSCRIPT', 'TWO']\n",
            "['33', 'DIGIT', 'THREE', 'B3', 'SUPERSCRIPT', 'THREE']\n",
            "['34', 'DIGIT', 'FOUR', 'B4', 'ACUTE', 'ACCENT']\n",
            "['35', 'DIGIT', 'FIVE', 'B5', 'MICRO', 'SIGN']\n",
            "['36', 'DIGIT', 'SIX', 'B6', 'PILCROW', 'SIGN']\n",
            "['37', 'DIGIT', 'SEVEN', 'B7', 'MIDDLE', 'DOT']\n",
            "['38', 'DIGIT', 'EIGHT', 'B8', 'CEDILLA']\n",
            "['39', 'DIGIT', 'NINE', 'B9', 'SUPERSCRIPT', 'ONE']\n",
            "['3A', 'COLON', 'BA', 'MASCULINE', 'ORDINAL', 'INDICATOR']\n",
            "['3B', 'SEMICOLON', 'BB', 'RIGHT-POINTING', 'DOUBLE', 'ANGLE', 'QUOTATION', 'MARK']\n",
            "['3C', 'LESS-THAN', 'SIGN', 'BC', 'VULGAR', 'FRACTION', 'ONE', 'QUARTER']\n",
            "['3D', 'EQUALS', 'SIGN', 'BD', 'VULGAR', 'FRACTION', 'ONE', 'HALF']\n",
            "['3E', 'GREATER-THAN', 'SIGN', 'BE', 'VULGAR', 'FRACTION', 'THREE', 'QUARTERS']\n",
            "['3F', 'QUESTION', 'MARK', 'BF', 'INVERTED', 'QUESTION', 'MARK']\n",
            "['40', 'COMMERCIAL', 'AT', 'C0', 'CAPITAL', 'LETTER', 'A', 'WITH', 'GRAVE']\n",
            "['41', 'CAPITAL', 'LETTER', 'A', 'C1', 'CAPITAL', 'LETTER', 'A', 'WITH', 'ACUTE']\n",
            "['42', 'CAPITAL', 'LETTER', 'B', 'C2', 'CAPITAL', 'LETTER', 'A', 'WITH', 'CIRCUMFLEX']\n",
            "['43', 'CAPITAL', 'LETTER', 'C', 'C3', 'CAPITAL', 'LETTER', 'A', 'WITH', 'TILDE']\n",
            "['44', 'CAPITAL', 'LETTER', 'D', 'C4', 'CAPITAL', 'LETTER', 'A', 'WITH', 'DIAERESIS']\n",
            "['45', 'CAPITAL', 'LETTER', 'E', 'C5', 'CAPITAL', 'LETTER', 'A', 'WITH', 'RING', 'ABOVE']\n",
            "['46', 'CAPITAL', 'LETTER', 'F', 'C6', 'CAPITAL', 'LETTER', 'AE']\n",
            "['47', 'CAPITAL', 'LETTER', 'G', 'C7', 'CAPITAL', 'LETTER', 'C', 'WITH', 'CEDILLA']\n",
            "['48', 'CAPITAL', 'LETTER', 'H', 'C8', 'CAPITAL', 'LETTER', 'E', 'WITH', 'GRAVE']\n",
            "['49', 'CAPITAL', 'LETTER', 'I', 'C9', 'CAPITAL', 'LETTER', 'E', 'WITH', 'ACUTE']\n",
            "['4A', 'CAPITAL', 'LETTER', 'J', 'CA', 'CAPITAL', 'LETTER', 'E', 'WITH', 'CIRCUMFLEX']\n",
            "['4B', 'CAPITAL', 'LETTER', 'K', 'CB', 'CAPITAL', 'LETTER', 'E', 'WITH', 'DIAERESIS']\n",
            "['4C', 'CAPITAL', 'LETTER', 'L', 'CC', 'CAPITAL', 'LETTER', 'I', 'WITH', 'GRAVE']\n",
            "['4D', 'CAPITAL', 'LETTER', 'M', 'CD', 'CAPITAL', 'LETTER', 'I', 'WITH', 'ACUTE']\n",
            "['4E', 'CAPITAL', 'LETTER', 'N', 'CE', 'CAPITAL', 'LETTER', 'I', 'WITH', 'CIRCUMFLEX']\n",
            "['4F', 'CAPITAL', 'LETTER', 'O', 'CF', 'CAPITAL', 'LETTER', 'I', 'WITH', 'DIAERESIS']\n",
            "['50', 'CAPITAL', 'LETTER', 'P', 'D0', 'CAPITAL', 'LETTER', 'ETH', '(Icelandic)']\n",
            "['51', 'CAPITAL', 'LETTER', 'Q', 'D1', 'CAPITAL', 'LETTER', 'N', 'WITH', 'TILDE']\n",
            "['52', 'CAPITAL', 'LETTER', 'R', 'D2', 'CAPITAL', 'LETTER', 'O', 'WITH', 'GRAVE']\n",
            "['53', 'CAPITAL', 'LETTER', 'S', 'D3', 'CAPITAL', 'LETTER', 'O', 'WITH', 'ACUTE']\n",
            "['54', 'CAPITAL', 'LETTER', 'T', 'D4', 'CAPITAL', 'LETTER', 'O', 'WITH', 'CIRCUMFLEX']\n",
            "['55', 'CAPITAL', 'LETTER', 'U', 'D5', 'CAPITAL', 'LETTER', 'O', 'WITH', 'TILDE']\n",
            "['56', 'CAPITAL', 'LETTER', 'V', 'D6', 'CAPITAL', 'LETTER', 'O', 'WITH', 'DIAERESIS']\n",
            "['57', 'CAPITAL', 'LETTER', 'W', 'D7', 'MULTIPLICATION', 'SIGN']\n",
            "['58', 'CAPITAL', 'LETTER', 'X', 'D8', 'CAPITAL', 'LETTER', 'O', 'WITH', 'STROKE']\n",
            "['59', 'CAPITAL', 'LETTER', 'Y', 'D9', 'CAPITAL', 'LETTER', 'U', 'WITH', 'GRAVE']\n",
            "['5A', 'CAPITAL', 'LETTER', 'Z', 'DA', 'CAPITAL', 'LETTER', 'U', 'WITH', 'ACUTE']\n",
            "['5B', 'LEFT', 'SQUARE', 'BRACKET', 'DB', 'CAPITAL', 'LETTER', 'U', 'WITH', 'CIRCUMFLEX']\n",
            "['5C', 'REVERSE', 'SOLIDUS', 'DC', 'CAPITAL', 'LETTER', 'U', 'WITH', 'DIAERESIS']\n",
            "['5D', 'RIGHT', 'SQUARE', 'BRACKET', 'DD', 'CAPITAL', 'LETTER', 'Y', 'WITH', 'ACUTE']\n",
            "['5E', 'CIRCUMFLEX', 'ACCENT', 'DE', 'CAPITAL', 'LETTER', 'THORN', '(Icelandic)']\n",
            "['5F', 'LOW', 'LINE', 'DF', 'SMALL', 'LETTER', 'SHARP', 'S', '(German)']\n",
            "['60', 'GRAVE', 'ACCENT', 'E0', 'SMALL', 'LETTER', 'A', 'WITH', 'GRAVE']\n",
            "['61', 'SMALL', 'LETTER', 'A', 'E1', 'SMALL', 'LETTER', 'A', 'WITH', 'ACUTE']\n",
            "['62', 'SMALL', 'LETTER', 'B', 'E2', 'SMALL', 'LETTER', 'A', 'WITH', 'CIRCUMFLEX']\n",
            "['63', 'SMALL', 'LETTER', 'C', 'E3', 'SMALL', 'LETTER', 'A', 'WITH', 'TILDE']\n",
            "['64', 'SMALL', 'LETTER', 'D', 'E4', 'SMALL', 'LETTER', 'A', 'WITH', 'DIAERESIS']\n",
            "['65', 'SMALL', 'LETTER', 'E', 'E5', 'SMALL', 'LETTER', 'A', 'WITH', 'RING', 'ABOVE']\n",
            "['66', 'SMALL', 'LETTER', 'F', 'E6', 'SMALL', 'LETTER', 'AE']\n",
            "['67', 'SMALL', 'LETTER', 'G', 'E7', 'SMALL', 'LETTER', 'C', 'WITH', 'CEDILLA']\n",
            "['68', 'SMALL', 'LETTER', 'H', 'E8', 'SMALL', 'LETTER', 'E', 'WITH', 'GRAVE']\n",
            "['69', 'SMALL', 'LETTER', 'I', 'E9', 'SMALL', 'LETTER', 'E', 'WITH', 'ACUTE']\n",
            "['6A', 'SMALL', 'LETTER', 'J', 'EA', 'SMALL', 'LETTER', 'E', 'WITH', 'CIRCUMFLEX']\n",
            "['6B', 'SMALL', 'LETTER', 'K', 'EB', 'SMALL', 'LETTER', 'E', 'WITH', 'DIAERESIS']\n",
            "['6C', 'SMALL', 'LETTER', 'L', 'EC', 'SMALL', 'LETTER', 'I', 'WITH', 'GRAVE']\n",
            "['6D', 'SMALL', 'LETTER', 'M', 'ED', 'SMALL', 'LETTER', 'I', 'WITH', 'ACUTE']\n",
            "['6E', 'SMALL', 'LETTER', 'N', 'EE', 'SMALL', 'LETTER', 'I', 'WITH', 'CIRCUMFLEX']\n",
            "['6F', 'SMALL', 'LETTER', 'O', 'EF', 'SMALL', 'LETTER', 'I', 'WITH', 'DIAERESIS']\n",
            "['70', 'SMALL', 'LETTER', 'P', 'F0', 'SMALL', 'LETTER', 'ETH', '(Icelandic)']\n",
            "['71', 'SMALL', 'LETTER', 'Q', 'F1', 'SMALL', 'LETTER', 'N', 'WITH', 'TILDE']\n",
            "['72', 'SMALL', 'LETTER', 'R', 'F2', 'SMALL', 'LETTER', 'O', 'WITH', 'GRAVE']\n",
            "['73', 'SMALL', 'LETTER', 'S', 'F3', 'SMALL', 'LETTER', 'O', 'WITH', 'ACUTE']\n",
            "['74', 'SMALL', 'LETTER', 'T', 'F4', 'SMALL', 'LETTER', 'O', 'WITH', 'CIRCUMFLEX']\n",
            "['75', 'SMALL', 'LETTER', 'U', 'F5', 'SMALL', 'LETTER', 'O', 'WITH', 'TILDE']\n",
            "['76', 'SMALL', 'LETTER', 'V', 'F6', 'SMALL', 'LETTER', 'O', 'WITH', 'DIAERESIS']\n",
            "['77', 'SMALL', 'LETTER', 'W', 'F7', 'DIVISION', 'SIGN']\n",
            "['78', 'SMALL', 'LETTER', 'X', 'F8', 'SMALL', 'LETTER', 'O', 'WITH', 'STROKE']\n",
            "['79', 'SMALL', 'LETTER', 'Y', 'F9', 'SMALL', 'LETTER', 'U', 'WITH', 'GRAVE']\n",
            "['7A', 'SMALL', 'LETTER', 'Z', 'FA', 'SMALL', 'LETTER', 'U', 'WITH', 'ACUTE']\n",
            "['7B', 'LEFT', 'CURLY', 'BRACKET', 'FB', 'SMALL', 'LETTER', 'U', 'WITH', 'CIRCUMFLEX']\n",
            "['7C', 'VERTICAL', 'LINE', 'FC', 'SMALL', 'LETTER', 'U', 'WITH', 'DIAERESIS']\n",
            "['7D', 'RIGHT', 'CURLY', 'BRACKET', 'FD', 'SMALL', 'LETTER', 'Y', 'WITH', 'ACUTE']\n",
            "['7E', 'TILDE', 'FE', 'SMALL', 'LETTER', 'THORN', '(Icelandic)']\n",
            "['FF', 'SMALL', 'LETTER', 'Y', 'WITH', 'DIAERESIS']\n"
          ],
          "name": "stdout"
        }
      ]
    },
    {
      "cell_type": "code",
      "metadata": {
        "id": "dtC3z-yQx8bV",
        "colab_type": "code",
        "outputId": "0eb66e92-67d0-4ef8-cff1-3d68366c3b07",
        "colab": {
          "base_uri": "https://localhost:8080/",
          "height": 128
        }
      },
      "source": [
        "dict1 = {1:[2,4,'rington'], 2: [4,5,'rainboo'], 3: [1,0,'babun'], 4: [0,2,'philosofie']}\n",
        "def resaults(i):\n",
        "    print1 = print(\"in line {}: the word {} was mispelled\".format(value([0]), value([2]))\n",
        "    return print1\n",
        "\n",
        "print(resaults(dict1))"
      ],
      "execution_count": 0,
      "outputs": [
        {
          "output_type": "error",
          "ename": "SyntaxError",
          "evalue": "ignored",
          "traceback": [
            "\u001b[0;36m  File \u001b[0;32m\"<ipython-input-17-2caad13da5fe>\"\u001b[0;36m, line \u001b[0;32m4\u001b[0m\n\u001b[0;31m    return print1\u001b[0m\n\u001b[0m         ^\u001b[0m\n\u001b[0;31mSyntaxError\u001b[0m\u001b[0;31m:\u001b[0m invalid syntax\n"
          ]
        }
      ]
    }
  ]
}