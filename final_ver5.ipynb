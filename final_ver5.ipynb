{
  "nbformat": 4,
  "nbformat_minor": 0,
  "metadata": {
    "colab": {
      "name": "task1.ipynb",
      "provenance": [],
      "include_colab_link": true
    },
    "kernelspec": {
      "name": "python3",
      "display_name": "Python 3"
    }
  },
  "cells": [
    {
      "cell_type": "markdown",
      "metadata": {
        "id": "view-in-github",
        "colab_type": "text"
      },
      "source": [
        "<a href=\"https://colab.research.google.com/github/orbenishay/python-project/blob/master/final_ver5.ipynb\" target=\"_parent\"><img src=\"https://colab.research.google.com/assets/colab-badge.svg\" alt=\"Open In Colab\"/></a>"
      ]
    },
    {
      "cell_type": "markdown",
      "metadata": {
        "id": "B5kt_6XrAVEE",
        "colab_type": "text"
      },
      "source": [
        "## Backround\n",
        "\n",
        "\n",
        "---\n",
        "\n",
        "We all have typing mitsakes, as we type quickly and we don't want to spend our time veryfing our text. This mini-project tries to assist in detecting them. The idea is to have a script that receives a text input or and returns the mistakes found, as well as an insightful statistical evaluation for the user.\n",
        "This utility can also be used by children learning english before submitting their work, to verifiy that there are no spell mistakes."
      ]
    },
    {
      "cell_type": "markdown",
      "metadata": {
        "id": "epxqfHj4kl0q",
        "colab_type": "text"
      },
      "source": [
        "# Project Outline\n",
        "\n",
        "---\n",
        "\n"
      ]
    },
    {
      "cell_type": "markdown",
      "metadata": {
        "id": "bfgFIWiJkssp",
        "colab_type": "text"
      },
      "source": [
        "\n",
        "\n",
        "*   Import modules and initiations\n",
        "*   Creating a class with proper attributes and methods\n",
        "*   Get user's preferences\n",
        "*   Implementing the interface\n",
        "*   Program execution and class instantiation\n",
        "\n",
        "\n",
        "\n",
        "\n",
        "\n"
      ]
    },
    {
      "cell_type": "markdown",
      "metadata": {
        "id": "C9_q2U52ASoN",
        "colab_type": "text"
      },
      "source": [
        "\n",
        "# Import sys, re modules"
      ]
    },
    {
      "cell_type": "code",
      "metadata": {
        "id": "JB1hpHNgCifb",
        "colab_type": "code",
        "outputId": "72825eac-347b-4741-f1fc-f0e345d032b8",
        "colab": {
          "base_uri": "https://localhost:8080/",
          "height": 126
        }
      },
      "source": [
        "# imports and initializations\n",
        "import sys\n",
        "import re\n",
        "from google.colab import files, drive\n",
        "drive.mount('/content/drive')\n"
      ],
      "execution_count": 1,
      "outputs": [
        {
          "output_type": "stream",
          "text": [
            "Go to this URL in a browser: https://accounts.google.com/o/oauth2/auth?client_id=947318989803-6bn6qk8qdgf4n4g3pfee6491hc0brc4i.apps.googleusercontent.com&redirect_uri=urn%3aietf%3awg%3aoauth%3a2.0%3aoob&response_type=code&scope=email%20https%3a%2f%2fwww.googleapis.com%2fauth%2fdocs.test%20https%3a%2f%2fwww.googleapis.com%2fauth%2fdrive%20https%3a%2f%2fwww.googleapis.com%2fauth%2fdrive.photos.readonly%20https%3a%2f%2fwww.googleapis.com%2fauth%2fpeopleapi.readonly\n",
            "\n",
            "Enter your authorization code:\n",
            "··········\n",
            "Mounted at /content/drive\n"
          ],
          "name": "stdout"
        }
      ]
    },
    {
      "cell_type": "markdown",
      "metadata": {
        "id": "t0a6Dw8d_6d0",
        "colab_type": "text"
      },
      "source": [
        "# Class SpellChecker definitions & Methods"
      ]
    },
    {
      "cell_type": "markdown",
      "metadata": {
        "id": "I3JEbd5Dm-LF",
        "colab_type": "text"
      },
      "source": [
        "Init fuctions "
      ]
    },
    {
      "cell_type": "code",
      "metadata": {
        "id": "v8eHVK7WyGn5",
        "colab_type": "code",
        "colab": {}
      },
      "source": [
        "class SpellChecker:\n",
        "  def __init__(self, input_type=\"file\", typo_count=20, name_ignore=True, check_english_level=True):\n",
        "      self.input_type = input_type\n",
        "      self.typo_count = typo_count\n",
        "      self.name_ignore = name_ignore\n",
        "      self.check_english_level = check_english_level\n",
        "      print(f\"Your preferences are: Input Type: {input_type}, Number of errors: {typo_count}, Ignore names: {name_input}\")"
      ],
      "execution_count": 0,
      "outputs": []
    },
    {
      "cell_type": "markdown",
      "metadata": {
        "id": "Lp07xiHvpEa0",
        "colab_type": "text"
      },
      "source": [
        "load_text"
      ]
    },
    {
      "cell_type": "code",
      "metadata": {
        "id": "nfoCbiv9mjz9",
        "colab_type": "code",
        "colab": {}
      },
      "source": [
        "  def load_text(self):\n",
        "    if self.input_type == 'text':\n",
        "      input2 = input(\"Please enter your text:\")\n",
        "      text1 = input2.split(\".\") #was by period\n",
        "      # print(text1)\n",
        "    else: # elif input_type.lower() == 'file':\n",
        "      uploaded = files.upload()\n",
        "      fname = list(uploaded.keys())[0]\n",
        "      with open(fname) as f1:\n",
        "        text1 = []\n",
        "        for line in f1:\n",
        "          text1.append(line) \n",
        "    return text1"
      ],
      "execution_count": 0,
      "outputs": []
    },
    {
      "cell_type": "markdown",
      "metadata": {
        "id": "le5FLUc4pfu-",
        "colab_type": "text"
      },
      "source": [
        "English-level checker"
      ]
    },
    {
      "cell_type": "code",
      "metadata": {
        "id": "g71x2vjOmnJ9",
        "colab_type": "code",
        "colab": {}
      },
      "source": [
        "  def english_level(self,number_word,number_difficoult_words):\n",
        "      if number_word>0:\n",
        "        precent_difficoult_words=number_difficoult_words/number_word\n",
        "        if precent_difficoult_word>0.1:\n",
        "          self.englisg_level=\"is excelent\"\n",
        "        elif precent_difficoult_word>0.01:\n",
        "          self.english_level=\"is fine\"\n",
        "        else:\n",
        "          self.english_level=\"can be better\"\n",
        "      else:\n",
        "        self.english_level=\"can not be evaluated\""
      ],
      "execution_count": 0,
      "outputs": []
    },
    {
      "cell_type": "markdown",
      "metadata": {
        "id": "dRXE9jJgpjo2",
        "colab_type": "text"
      },
      "source": [
        "Parsing the text (data cleanning)"
      ]
    },
    {
      "cell_type": "code",
      "metadata": {
        "id": "1eM1J13TmrIF",
        "colab_type": "code",
        "colab": {}
      },
      "source": [
        "  def parse_rows(self, text):\n",
        "  \n",
        "    word_dict = {}\n",
        "    for row_num, sentence in enumerate(text):\n",
        "      words_list = sentence.split()\n",
        "      for word_num, word in enumerate(words_list):\n",
        "        dispo = True\n",
        "        match_word = re.search('^[a-z]+$', word)\n",
        "        match_cap = re.match('[A-Z]', word)\n",
        "        #  need to allow '.' at the end of word as exception\n",
        "        # need to ignore comma at the end of a word\n",
        "\n",
        "        if len(word)<=2: # can usae 'or' here for better performance\n",
        "          dispo = False\n",
        "        elif bool(match_word)==False:\n",
        "          dispo = False\n",
        "        elif self.name_ignore == True and word_num>0 and bool(match_cap)==True:\n",
        "            dispo = False\n",
        "            \n",
        "        word_and_dispo = (word, dispo)\n",
        "        word_dict[(row_num, word_num)] = word_and_dispo\n",
        "\n",
        "    return word_dict"
      ],
      "execution_count": 0,
      "outputs": []
    },
    {
      "cell_type": "markdown",
      "metadata": {
        "id": "vB4TxrWEpnpk",
        "colab_type": "text"
      },
      "source": [
        "Check Spelling- core function"
      ]
    },
    {
      "cell_type": "code",
      "metadata": {
        "id": "VGh0a7Kfm1lu",
        "colab_type": "code",
        "colab": {}
      },
      "source": [
        "  def speller(allwordes,dic,dicall={}):\n",
        "    #~~~~~~~~~~~~~~~~~~~~~~~~~~~~~~~~~~~~~~~~~~~~~~~~~~~~~~~~~~~~~~~~~~~~~~~~~\n",
        "    #This function cheks spelling \n",
        "    #receives inputs:\n",
        "    #allwords - All the words to be check, format = {(line,index):[\"word\",True/Falls]} the bulian check or not check spelling for the word\n",
        "    #dic - primery dictionery, format {\"word\":[\"\"]} recomended to use friquent words in English to make an effishient allgoritem\n",
        "    #dicall - secondery dictionery, format {\"word\":[\"\"]} dictionery with more word in Eglish then dic, diffult value is emty and not be used\n",
        "    #returns outputs:\n",
        "    #mistakes - words checked and not at two dictionery, format {(line,index):[\"word\"]}\n",
        "    #~~~~~~~~~~~~~~~~~~~~~~~~~~~~~~~~~~~~~~~~~~~~~~~~~~~~~~~~~~~~~~~~~~~~~~~~~~~~~\n",
        "\n",
        "    lincounter=0\n",
        "    wordcounter=0\n",
        "    mistakecounter1=0\n",
        "    mistakecounter2=0\n",
        "    mistakes={}\n",
        "    for (line,index) in allwordes.keys():\n",
        "      if mistakecounter2 >= int(typo_count):\n",
        "        break\n",
        "      word=allwordes[(line,index)]\n",
        "      if word[1]: # (if word[1]=True)\n",
        "          if not wordinenglish(word[0],dic):\n",
        "            mistakecounter1+=1\n",
        "          \n",
        "            if not wordinenglish(word[0],dicall):\n",
        "              mistakecounter2+=1\n",
        "              mistakes[(line,index)]=word[0] \n",
        "\n",
        "    return mistakes, mistakecounter1, mistakecounter2"
      ],
      "execution_count": 0,
      "outputs": []
    },
    {
      "cell_type": "markdown",
      "metadata": {
        "id": "swG1jQaYpsTn",
        "colab_type": "text"
      },
      "source": [
        "Get mistakes resaults"
      ]
    },
    {
      "cell_type": "code",
      "metadata": {
        "id": "Ly58Drrdm5xT",
        "colab_type": "code",
        "colab": {}
      },
      "source": [
        "   def get_results(self, mistakes):\n",
        "    for (line,index) in mistakes.keys():\n",
        "      print(f\"In line {str(line)}: the word {mistakes[(line,index)]} was mispelled\")"
      ],
      "execution_count": 0,
      "outputs": []
    },
    {
      "cell_type": "markdown",
      "metadata": {
        "id": "LL-1pYMnmAs8",
        "colab_type": "text"
      },
      "source": [
        "# Get user preferences"
      ]
    },
    {
      "cell_type": "code",
      "metadata": {
        "id": "FxE6SKc6ClyV",
        "colab_type": "code",
        "outputId": "67983182-eb60-4905-c23c-cc46b0efc4c7",
        "colab": {
          "base_uri": "https://localhost:8080/",
          "height": 230
        }
      },
      "source": [
        "input_type=\"\"\n",
        "while  input_type.lower() not in ['t','f']:\n",
        "  input_type = input(\"Hello. To enter text please enter \\'t\\'. To upload a text file please enter \\'f\\': \")\n",
        "if input_type.lower() == 't':\n",
        "  input_type=\"text\"\n",
        "else:\n",
        "  input_type=\"file\"\n",
        "\n",
        "\n",
        "typo_count = \"0\"\n",
        "typo_count = input(\"please enter the amount of errors you would like to find in your text:\")\n",
        "while typo_count.isdigit() == False and typo_count !=0:\n",
        "  typo_count = input(\"please enter the amount of errors you would like to find in your text:\")\n",
        "\n",
        "name_input = \"\"\n",
        "name_ignore = True\n",
        "while name_input.lower() not in ['y', 'n']:\n",
        "  name_input = input(\"would you like to ignore names in your text? (Y/N)\").upper()\n",
        "  if name_input == 'Y':\n",
        "    name_ignor = True\n",
        "  elif name_input == 'N':\n",
        "    name_ignor = False\n",
        "check_english_level_input = \"\"\n",
        "check_english_level = True\n",
        "while check_english_level_input.lower() not in ['y', 'n']:\n",
        "  check_english_level_input = input(\"would you like to evaluate text English level? (Y/N)\").upper()\n",
        "  if check_english_level_input == 'Y':\n",
        "    check_english_level = True\n",
        "  elif check_english_level_input == 'N':\n",
        "    check_english_level = False\n",
        "\n",
        "\n",
        "sp =SpellChecker(input_type=input_type,typo_count=typo_count,name_ignore=name_ignor,check_english_level=check_english_level)\n",
        "if sp.check_english_level:\n",
        "  english_level_w=\" will\"\n",
        "else:\n",
        "  english_level_w=\" will not\"\n",
        "\n",
        "if sp.name_ignore:\n",
        "  name_ignor_w=\" will not\"\n",
        "else:\n",
        "  name_ignor_w=\" will\"\n",
        "print(\"\\nYour preferences are:\\n\")\n",
        "print(f\"The input is a {sp.input_type}\")\n",
        "print(f\"The speller stopes spelling check after {sp.typo_count} speling errores\")\n",
        "print(f\"The speller{name_ignor_w} check names\")\n",
        "print(f\"The speller{english_level_w} evaluate the text English level\")\n",
        "\n"
      ],
      "execution_count": 11,
      "outputs": [
        {
          "output_type": "stream",
          "text": [
            "Hello. To enter text please enter 't'. To upload a text file please enter 'f': f\n",
            "please enter the amount of errors you would like to find in your text:3\n",
            "would you like to ignore names in your text? (Y/N)y\n",
            "would you like to evaluate text English level? (Y/N)y\n",
            "Your preferences are: Input Type: file, Number of errors: 3, Ignore names: Y\n",
            "\n",
            "Your preferences are:\n",
            "\n",
            "The input is a file\n",
            "The speller stopes spelling check after 3 speling errores\n",
            "The speller will not check names\n",
            "The speller will evaluate the text English level\n"
          ],
          "name": "stdout"
        }
      ]
    },
    {
      "cell_type": "markdown",
      "metadata": {
        "id": "HrlPtntOp5CG",
        "colab_type": "text"
      },
      "source": [
        "Upload a file UI"
      ]
    },
    {
      "cell_type": "code",
      "metadata": {
        "id": "kkhx7TQEjwdE",
        "colab_type": "code",
        "outputId": "9e39948e-550d-40cf-8905-00ea7f11cb54",
        "colab": {
          "base_uri": "https://localhost:8080/",
          "height": 186
        }
      },
      "source": [
        "\n",
        "text1= sp.load_text()\n"
      ],
      "execution_count": 13,
      "outputs": [
        {
          "output_type": "error",
          "ename": "AttributeError",
          "evalue": "ignored",
          "traceback": [
            "\u001b[0;31m---------------------------------------------------------------------------\u001b[0m",
            "\u001b[0;31mAttributeError\u001b[0m                            Traceback (most recent call last)",
            "\u001b[0;32m<ipython-input-13-bd3a4823867a>\u001b[0m in \u001b[0;36m<module>\u001b[0;34m()\u001b[0m\n\u001b[1;32m      1\u001b[0m \u001b[0;34m\u001b[0m\u001b[0m\n\u001b[0;32m----> 2\u001b[0;31m \u001b[0mtext1\u001b[0m\u001b[0;34m=\u001b[0m \u001b[0msp\u001b[0m\u001b[0;34m.\u001b[0m\u001b[0mload_text\u001b[0m\u001b[0;34m(\u001b[0m\u001b[0;34m)\u001b[0m\u001b[0;34m\u001b[0m\u001b[0;34m\u001b[0m\u001b[0m\n\u001b[0m",
            "\u001b[0;31mAttributeError\u001b[0m: 'SpellChecker' object has no attribute 'load_text'"
          ]
        }
      ]
    },
    {
      "cell_type": "markdown",
      "metadata": {
        "id": "62EURik8p8Lv",
        "colab_type": "text"
      },
      "source": [
        "Parsing the text"
      ]
    },
    {
      "cell_type": "code",
      "metadata": {
        "id": "0JGvMAhlikFN",
        "colab_type": "code",
        "outputId": "70a05de2-c659-438c-9fef-dbf7e789a8dc",
        "colab": {
          "base_uri": "https://localhost:8080/",
          "height": 71
        }
      },
      "source": [
        "parsed_text = sp.parse_rows(text1)\n",
        "print(parsed_text)\n",
        "print(text1)"
      ],
      "execution_count": 0,
      "outputs": [
        {
          "output_type": "stream",
          "text": [
            "{(0, 0): ('nly', True), (0, 1): ('used', True), (0, 2): ('to', False), (0, 3): ('demonstrate', True), (0, 4): ('the', True), (0, 5): ('visual', True), (0, 6): ('form', True), (0, 7): ('of', False), (0, 8): ('a', False), (0, 9): ('document', True), (0, 10): ('or', False), (0, 11): ('a', False), (0, 12): ('typeface', True), (0, 13): ('without', True), (0, 14): ('relying', True), (0, 15): ('on', False), (0, 16): ('meaningful', True), (0, 17): ('content.', False), (1, 0): ('Lorem', False), (1, 1): ('ipsum', True), (1, 2): ('may', True), (1, 3): ('be', False), (1, 4): ('used', True), (1, 5): ('before', True), (1, 6): ('final', True), (1, 7): ('copy', True), (1, 8): ('is', False), (1, 9): ('available,', False), (2, 0): ('but', True), (2, 1): ('it', False), (2, 2): ('may', True), (2, 3): ('also', True), (2, 4): ('be', False), (2, 5): ('used', True), (2, 6): ('to', False), (2, 7): ('temporarily', True), (2, 8): ('replace', True), (2, 9): ('copy', True), (2, 10): ('in', False), (2, 11): ('a', False), (2, 12): ('process', True), (2, 13): ('called', True), (2, 14): ('greeking,', False), (2, 15): ('which', True), (2, 16): ('allows', True), (2, 17): ('designers', True), (3, 0): ('to', False), (3, 1): ('consider', True), (3, 2): ('form', True), (3, 3): ('without', True), (3, 4): ('the', True), (3, 5): ('meaning', True), (3, 6): ('of', False), (3, 7): ('the', True), (3, 8): ('text', True), (3, 9): ('influencing', True), (3, 10): ('the', True), (3, 11): ('design.', False), (5, 0): ('Lorem', False), (5, 1): ('ipsum', True), (5, 2): ('is', False), (5, 3): ('typically', True), (5, 4): ('a', False), (5, 5): ('corrupted', True), (5, 6): ('version', True), (5, 7): ('of', False), (5, 8): ('De', False), (5, 9): ('finibus', True), (5, 10): ('bonorum', True), (5, 11): ('et', False), (5, 12): ('malorum,', False), (6, 0): ('a', False), (6, 1): ('first-century', False), (6, 2): ('BCE', False), (6, 3): ('text', True), (6, 4): ('by', False), (6, 5): ('Cicero,', False), (6, 6): ('with', True), (6, 7): ('words', True), (6, 8): ('altered,', False), (6, 9): ('added,', False), (6, 10): ('and', True), (6, 11): ('removed', True), (6, 12): ('to', False), (6, 13): ('make', True), (6, 14): ('it', False), (6, 15): ('nonsensical,', False), (6, 16): ('improper', True), (6, 17): ('Latin.', False)}\n",
            "['nly used to demonstrate the visual form of a document or a typeface without relying on meaningful content.\\n', ' Lorem ipsum may be used before final copy is available,\\n', ' but it may also be used to temporarily replace copy in a process called greeking, which allows designers\\n', ' to consider form without the meaning of the text influencing the design.\\n', '\\n', 'Lorem ipsum is typically a corrupted version of De finibus bonorum et malorum, \\n', 'a first-century BCE text by Cicero, with words altered, added, and removed to make it nonsensical, improper Latin.']\n"
          ],
          "name": "stdout"
        }
      ]
    },
    {
      "cell_type": "markdown",
      "metadata": {
        "id": "JDv8Oi9pqNso",
        "colab_type": "text"
      },
      "source": [
        ""
      ]
    },
    {
      "cell_type": "code",
      "metadata": {
        "id": "j_ch-uuOxKLZ",
        "colab_type": "code",
        "colab": {}
      },
      "source": [
        "fname = \"/content/drive/My Drive/5000words.txt\"\n",
        "dic={}\n",
        "with open(fname) as f2:\n",
        "    for line in f2:\n",
        "        word=line.split()\n",
        "        if not(word[0]==\"Rank\"): #remooving header from the words file\n",
        "               dic[word[1]]=[word[0],word[2],word[3]]\n",
        "\n",
        "\n",
        "# print(dic)\n",
        "\n",
        "fname = \"/content/drive/My Drive/allwords.txt\"\n",
        "dicall={}\n",
        "with open(fname) as f3:\n",
        "    for line in f3:\n",
        "        dicall[line.split()[0]]=\"\"\n",
        "#print(dicall)"
      ],
      "execution_count": 0,
      "outputs": []
    },
    {
      "cell_type": "code",
      "metadata": {
        "id": "YKoRedq0cwqI",
        "colab_type": "code",
        "outputId": "8e212dfe-1918-4947-e71b-ab1f8bac61e8",
        "colab": {
          "base_uri": "https://localhost:8080/",
          "height": 119
        }
      },
      "source": [
        "m,m1,m2= sp.speller(allwordes=parsed_text,dic=dic, dicall=dicall)\n",
        "sp.get_results(m)"
      ],
      "execution_count": 0,
      "outputs": [
        {
          "output_type": "stream",
          "text": [
            "3\n",
            "{(0, 0): 'nly', (1, 1): 'ipsum', (5, 1): 'ipsum'}\n",
            "There are 7 difficult English words\n",
            "In line 0: the word nly was mispelled\n",
            "In line 1: the word ipsum was mispelled\n",
            "In line 5: the word ipsum was mispelled\n"
          ],
          "name": "stdout"
        }
      ]
    },
    {
      "cell_type": "markdown",
      "metadata": {
        "id": "4YLDT86mXThl",
        "colab_type": "text"
      },
      "source": [
        "# **Spelling report**\n",
        "\n",
        "---\n",
        "calling the speller function and present the mistakes, the rate of errors and indication on English level \n"
      ]
    },
    {
      "cell_type": "code",
      "metadata": {
        "id": "M3V-jUWOXSIE",
        "colab_type": "code",
        "colab": {}
      },
      "source": [
        "mistakes, mistakecounter1, mistakecounter2=speller(text2,dic,dicall)\n",
        "print(\"~~~~~~~~~~~~~~~~~~~~~~~~~~~~~~~~~~~~~~~~~~~~~~~~~~~~~~~~~~~~~~~~~~~~~~~~~~\\n\")\n",
        "print(\"                     Spelling Report\\n\")\n",
        "print(\"Speller found {} spelling mistakes, {:.1%} of the wordes were misspaled\".format(len(mistakes),len(mistakes)/len(text2)))\n",
        "ifcheck_english_level:\n",
        "  sp.english_level(len(text2),(mistakecounter1-mistakecounter2))\n",
        "  print(\"\\nThe English level of the texst {}\".format(sp.englisg_level_str))\n",
        "print(\"\\n          This are the spelling mistakes found in the text:\\n\")\n",
        "\n",
        "#print(mistakes)\n",
        "\n",
        "for (line,index) in mistakes.keys():\n",
        "  print(f\"In line {str(line)}, at index {str(index)}: the word {mistakes[(line,index)]} was mispelled\")\n",
        "\n",
        "print(\"\\n~~~~~~~~~~~~~~~~~~~~~~~~~~~~~~~~~~~~~~~~~~~~~~~~~~~~~~~~~~~~~~~~~~~~~~~~~~~\")\n",
        "#results(mistakes)"
      ],
      "execution_count": 0,
      "outputs": []
    }
  ]
}