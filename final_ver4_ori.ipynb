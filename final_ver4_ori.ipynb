{
  "nbformat": 4,
  "nbformat_minor": 0,
  "metadata": {
    "colab": {
      "name": "task1.ipynb",
      "provenance": [],
      "include_colab_link": true
    },
    "kernelspec": {
      "name": "python3",
      "display_name": "Python 3"
    }
  },
  "cells": [
    {
      "cell_type": "markdown",
      "metadata": {
        "id": "view-in-github",
        "colab_type": "text"
      },
      "source": [
        "<a href=\"https://colab.research.google.com/github/orbenishay/python-project/blob/master/final_ver4_ori.ipynb\" target=\"_parent\"><img src=\"https://colab.research.google.com/assets/colab-badge.svg\" alt=\"Open In Colab\"/></a>"
      ]
    },
    {
      "cell_type": "markdown",
      "metadata": {
        "id": "yf7zZ1NjJW0X",
        "colab_type": "text"
      },
      "source": [
        "Task1- Input/open file\n"
      ]
    },
    {
      "cell_type": "code",
      "metadata": {
        "id": "JB1hpHNgCifb",
        "colab_type": "code",
        "outputId": "39f684d2-2d46-4cee-f744-010eeaa31f4d",
        "colab": {
          "base_uri": "https://localhost:8080/",
          "height": 124
        }
      },
      "source": [
        "# imports and initializations\n",
        "import sys\n",
        "if 'google.colab' in sys.modules:\n",
        "  from google.colab import files\n",
        "import re\n",
        "from google.colab import drive\n",
        "drive.mount('/content/drive')\n"
      ],
      "execution_count": 3,
      "outputs": [
        {
          "output_type": "stream",
          "text": [
            "Go to this URL in a browser: https://accounts.google.com/o/oauth2/auth?client_id=947318989803-6bn6qk8qdgf4n4g3pfee6491hc0brc4i.apps.googleusercontent.com&redirect_uri=urn%3aietf%3awg%3aoauth%3a2.0%3aoob&response_type=code&scope=email%20https%3a%2f%2fwww.googleapis.com%2fauth%2fdocs.test%20https%3a%2f%2fwww.googleapis.com%2fauth%2fdrive%20https%3a%2f%2fwww.googleapis.com%2fauth%2fdrive.photos.readonly%20https%3a%2f%2fwww.googleapis.com%2fauth%2fpeopleapi.readonly\n",
            "\n",
            "Enter your authorization code:\n",
            "··········\n",
            "Mounted at /content/drive\n"
          ],
          "name": "stdout"
        }
      ]
    },
    {
      "cell_type": "code",
      "metadata": {
        "id": "v8eHVK7WyGn5",
        "colab_type": "code",
        "colab": {}
      },
      "source": [
        "class SpellChecker:\n",
        "  def __init__(self, input_type=\"file\", typo_count=20, name_ignore=True,check_english_level=True):\n",
        "      self.input_type = input_type\n",
        "      self.typo_count = typo_count\n",
        "      self.name_ignore = name_ignore\n",
        "      self.check_english_level = check_english_level\n",
        "      self.englisg_level_str=\"\"\n",
        "\n",
        "  def english_level(self,number_word,number_difficoult_words):\n",
        "      if number_word>0:\n",
        "        precent_difficoult_words=number_difficoult_words/number_word\n",
        "        if precent_difficoult_words>0.1:\n",
        "          self.englisg_level_str=\"is excelent\"\n",
        "        elif precent_difficoult_words>0.01:\n",
        "          self.english_level_str=\"is fine\"\n",
        "        else:\n",
        "          self.english_level_str=\"can be better\"\n",
        "      else:\n",
        "        self.english_level=\"can not be evaluate\"\n",
        "\n"
      ],
      "execution_count": 0,
      "outputs": []
    },
    {
      "cell_type": "code",
      "metadata": {
        "id": "FxE6SKc6ClyV",
        "colab_type": "code",
        "outputId": "46de4344-0ce1-4b2b-adec-b40fcc91c018",
        "colab": {
          "base_uri": "https://localhost:8080/",
          "height": 208
        }
      },
      "source": [
        "input_type=\"\"\n",
        "while  input_type.lower() not in ['t','f']:\n",
        "  input_type = input(\"Hello. To enter text please enter \\'t\\'. To upload a text file please enter \\'f\\': \")\n",
        "if input_type.lower() == 't':\n",
        "  input_type=\"text\"\n",
        "else:\n",
        "  input_type=\"file\"\n",
        "\n",
        "\n",
        "typo_count = \"0\"\n",
        "typo_count = input(\"please enter the amount of errors you would like to find in your text:\")\n",
        "while typo_count.isdigit() == False and typo_count !=0:\n",
        "  typo_count = input(\"please enter the amount of errors you would like to find in your text:\")\n",
        "\n",
        "name_input = \"\"\n",
        "name_ignore = True\n",
        "while name_input.lower() not in ['y', 'n']:\n",
        "  name_input = input(\"would you like to ignore names in your text? (Y/N)\").upper()\n",
        "  if name_input == 'Y':\n",
        "    name_ignor = True\n",
        "  elif name_input == 'N':\n",
        "    name_ignor = False\n",
        "check_english_level_input = \"\"\n",
        "check_english_level = True\n",
        "while check_english_level_input.lower() not in ['y', 'n']:\n",
        "  check_english_level_input = input(\"would you like to evaluate text English level? (Y/N)\").upper()\n",
        "  if check_english_level_input == 'Y':\n",
        "    check_english_level = True\n",
        "  elif check_english_level_input == 'N':\n",
        "    check_english_level = False\n",
        "\n",
        "\n",
        "pref=SpellChecker(input_type=input_type,typo_count=typo_count,name_ignore=name_ignor,check_english_level=check_english_level)\n",
        "if pref.check_english_level:\n",
        "  english_level_w=\" will\"\n",
        "else:\n",
        "  english_level_w=\" will not\"\n",
        "\n",
        "if pref.name_ignore:\n",
        "  name_ignor_w=\" will not\"\n",
        "else:\n",
        "  name_ignor_w=\" will\"\n",
        "print(\"\\nYour preferences are:\\n\")\n",
        "print(f\"The input is a {pref.input_type}\")\n",
        "print(f\"The speller stopes spelling check after {pref.typo_count} speling errores\")\n",
        "print(f\"The speller{name_ignor_w} check names\")\n",
        "print(f\"The speller{english_level_w} evaluate the text English level\")\n",
        "\n"
      ],
      "execution_count": 5,
      "outputs": [
        {
          "output_type": "stream",
          "text": [
            "Hello. To enter text please enter 't'. To upload a text file please enter 'f': t\n",
            "please enter the amount of errors you would like to find in your text:8\n",
            "would you like to ignore names in your text? (Y/N)y\n",
            "would you like to evaluate text English level? (Y/N)y\n",
            "\n",
            "Your preferences are:\n",
            "\n",
            "The input is a text\n",
            "The speller stopes spelling check after 8 speling errores\n",
            "The speller will not check names\n",
            "The speller will evaluate the text English level\n"
          ],
          "name": "stdout"
        }
      ]
    },
    {
      "cell_type": "code",
      "metadata": {
        "id": "kkhx7TQEjwdE",
        "colab_type": "code",
        "outputId": "362fb2f4-342a-4bca-8d45-c8fa555d36d3",
        "colab": {
          "base_uri": "https://localhost:8080/",
          "height": 55
        }
      },
      "source": [
        "if pref.input_type == 'text':\n",
        "  input2 = input(\"Please enter your text:\")\n",
        "  text1 = input2.split(\".\") #was by period\n",
        "  # print(text1)\n",
        "else:\n",
        "  uploaded = files.upload()\n",
        "  fname = list(uploaded.keys())[0]\n",
        "  with open(fname) as f1:\n",
        "    text1 = []\n",
        "    for line in f1:\n",
        "      text1.append(line)\n"
      ],
      "execution_count": 6,
      "outputs": [
        {
          "output_type": "stream",
          "text": [
            "Please enter your text:F-strings provide a way to embed expressions inside string literals, using a minimal syntax. It should be noted that an f-string is really an expression evaluated at run time, not a constant value. In Python source code, an f-string is a literal string, kfhfhfh jfhfy prefixed with f, which contains expressions inside braces. The expressions\n"
          ],
          "name": "stdout"
        }
      ]
    },
    {
      "cell_type": "code",
      "metadata": {
        "id": "nrRiNpC4ihmP",
        "colab_type": "code",
        "outputId": "3741db29-796a-4403-bd42-f88360fc2d7a",
        "colab": {
          "base_uri": "https://localhost:8080/",
          "height": 55
        }
      },
      "source": [
        "def rowparser(text):\n",
        "  \n",
        "  word_dict = {}\n",
        "  for row_num, sentence in enumerate(text):\n",
        "    words_list = sentence.split()\n",
        "    for word_num, word in enumerate(words_list):\n",
        "      dispo = True\n",
        "      match_word = re.search('^[a-z]+$', word)\n",
        "      match_cap = re.match('[A-Z]', word)\n",
        "      #  need to allow '.' at the end of word as exception\n",
        "      # need to ignore comma at the end of a word\n",
        "\n",
        "      if len(word)<=2: # can usae 'or' here for better performance\n",
        "        dispo = False\n",
        "      elif bool(match_word)==False:\n",
        "        dispo = False\n",
        "      elif name_ignore == True and word_num>0 and bool(match_cap)==True:\n",
        "          dispo = False\n",
        "          \n",
        "      word_and_dispo = (word, dispo)\n",
        "      word_dict[(row_num, word_num)] = word_and_dispo\n",
        "\n",
        "  return word_dict\n",
        "\n",
        "\n",
        "print(text1)"
      ],
      "execution_count": 7,
      "outputs": [
        {
          "output_type": "stream",
          "text": [
            "['F-strings provide a way to embed expressions inside string literals, using a minimal syntax', ' It should be noted that an f-string is really an expression evaluated at run time, not a constant value', ' In Python source code, an f-string is a literal string, kfhfhfh jfhfy prefixed with f, which contains expressions inside braces', ' The expressions']\n"
          ],
          "name": "stdout"
        }
      ]
    },
    {
      "cell_type": "code",
      "metadata": {
        "id": "0JGvMAhlikFN",
        "colab_type": "code",
        "outputId": "a7c288d8-724c-4100-9ed5-fd90571cba8a",
        "colab": {
          "base_uri": "https://localhost:8080/",
          "height": 72
        }
      },
      "source": [
        "text2 = rowparser(text1)\n",
        "print(text2)\n",
        "print(text1)"
      ],
      "execution_count": 8,
      "outputs": [
        {
          "output_type": "stream",
          "text": [
            "{(0, 0): ('F-strings', False), (0, 1): ('provide', True), (0, 2): ('a', False), (0, 3): ('way', True), (0, 4): ('to', False), (0, 5): ('embed', True), (0, 6): ('expressions', True), (0, 7): ('inside', True), (0, 8): ('string', True), (0, 9): ('literals,', False), (0, 10): ('using', True), (0, 11): ('a', False), (0, 12): ('minimal', True), (0, 13): ('syntax', True), (1, 0): ('It', False), (1, 1): ('should', True), (1, 2): ('be', False), (1, 3): ('noted', True), (1, 4): ('that', True), (1, 5): ('an', False), (1, 6): ('f-string', False), (1, 7): ('is', False), (1, 8): ('really', True), (1, 9): ('an', False), (1, 10): ('expression', True), (1, 11): ('evaluated', True), (1, 12): ('at', False), (1, 13): ('run', True), (1, 14): ('time,', False), (1, 15): ('not', True), (1, 16): ('a', False), (1, 17): ('constant', True), (1, 18): ('value', True), (2, 0): ('In', False), (2, 1): ('Python', False), (2, 2): ('source', True), (2, 3): ('code,', False), (2, 4): ('an', False), (2, 5): ('f-string', False), (2, 6): ('is', False), (2, 7): ('a', False), (2, 8): ('literal', True), (2, 9): ('string,', False), (2, 10): ('kfhfhfh', True), (2, 11): ('jfhfy', True), (2, 12): ('prefixed', True), (2, 13): ('with', True), (2, 14): ('f,', False), (2, 15): ('which', True), (2, 16): ('contains', True), (2, 17): ('expressions', True), (2, 18): ('inside', True), (2, 19): ('braces', True), (3, 0): ('The', False), (3, 1): ('expressions', True)}\n",
            "['F-strings provide a way to embed expressions inside string literals, using a minimal syntax', ' It should be noted that an f-string is really an expression evaluated at run time, not a constant value', ' In Python source code, an f-string is a literal string, kfhfhfh jfhfy prefixed with f, which contains expressions inside braces', ' The expressions']\n"
          ],
          "name": "stdout"
        }
      ]
    },
    {
      "cell_type": "code",
      "metadata": {
        "id": "j_ch-uuOxKLZ",
        "colab_type": "code",
        "colab": {}
      },
      "source": [
        "fname = \"/content/drive/My Drive/5000words.txt\"\n",
        "dic={}\n",
        "with open(fname) as f2:\n",
        "    for line in f2:\n",
        "        word=line.split()\n",
        "        if not(word[0]==\"Rank\"): #remooving header from the words file\n",
        "               dic[word[1]]=[word[0],word[2],word[3]]\n",
        "\n",
        "\n",
        "# print(dic)\n",
        "\n",
        "fname = \"/content/drive/My Drive/allwords.txt\"\n",
        "dicall={}\n",
        "with open(fname) as f3:\n",
        "    for line in f3:\n",
        "        dicall[line.split()[0]]=\"\"\n",
        "#print(dicall)"
      ],
      "execution_count": 0,
      "outputs": []
    },
    {
      "cell_type": "code",
      "metadata": {
        "id": "6n8RnbT_ktgl",
        "colab_type": "code",
        "colab": {}
      },
      "source": [
        "#This function checkes if word is in dictionery \n",
        "def wordinenglish(word,dic):\n",
        "  #input: word - a string in English lowcase, dic - dictionery format {\"words\":[]}, \n",
        "  # return boolian if word in dic\n",
        "  if word in dic:\n",
        "    return True\n",
        "  else:\n",
        "    return False"
      ],
      "execution_count": 0,
      "outputs": []
    },
    {
      "cell_type": "code",
      "metadata": {
        "id": "9DIjCxWDxUbp",
        "colab_type": "code",
        "colab": {}
      },
      "source": [
        "def speller(allwordes,dic,dicall={}):\n",
        "  #~~~~~~~~~~~~~~~~~~~~~~~~~~~~~~~~~~~~~~~~~~~~~~~~~~~~~~~~~~~~~~~~~~~~~~~~~\n",
        "  #This function cheks spelling \n",
        "  #receives inputs:\n",
        "  #allwords - All the words to be check, format = {(line,index):[\"word\",True/Falls]} the bulian check or not check spelling for the word\n",
        "  #dic - primery dictionery, format {\"word\":[\"\"]} recomended to use friquent words in English to make an effishient allgoritem\n",
        "  #dicall - secondery dictionery, format {\"word\":[\"\"]} dictionery with more word in Eglish then dic, diffult value is emty and not be used\n",
        "  #returns outputs:\n",
        "  #mistakes - words checked and not at two dictionery, format {(line,index):[\"word\"]}\n",
        "  #~~~~~~~~~~~~~~~~~~~~~~~~~~~~~~~~~~~~~~~~~~~~~~~~~~~~~~~~~~~~~~~~~~~~~~~~~~~~~\n",
        "\n",
        "  lincounter=0\n",
        "  wordcounter=0\n",
        "  mistakecounter1=0\n",
        "  mistakecounter2=0\n",
        "  mistakes={}\n",
        "  # print(allwordes)\n",
        "  for (line,index) in allwordes.keys():\n",
        "    if mistakecounter2 >= int(typo_count):\n",
        "      break\n",
        "    word=allwordes[(line,index)]\n",
        "    if word[1]: # (if word[1]=True)\n",
        "        if not wordinenglish(word[0],dic):\n",
        "          mistakecounter1+=1\n",
        "        \n",
        "          if not wordinenglish(word[0],dicall):\n",
        "            mistakecounter2+=1\n",
        "            mistakes[(line,index)]=word[0]\n",
        "    \n",
        "\n",
        "      #wordinlinecounter+=1\n",
        "    #lincounter+=1\n",
        "  #print(mistakecounter2)\n",
        "  #print(mistakes)\n",
        "  #print(\"There are \" + str(mistakecounter1-mistakecounter2) + \" difficult English words\")\n",
        "  #print(dicall)\n",
        "\n",
        "  return mistakes, mistakecounter1, mistakecounter2"
      ],
      "execution_count": 0,
      "outputs": []
    },
    {
      "cell_type": "code",
      "metadata": {
        "id": "66-QUgCy8Rtj",
        "colab_type": "code",
        "outputId": "e9db0784-4ff5-49ea-86c1-d8ba6af543c0",
        "colab": {
          "base_uri": "https://localhost:8080/",
          "height": 260
        }
      },
      "source": [
        "#def results(i):\n",
        "#print(\"Your spelling check prefrence:\\n\")\n",
        "#print(\"The words were insert as a {}\".format(pref.input_type))\n",
        "\n",
        "mistakes, mistakecounter1, mistakecounter2=speller(text2,dic,dicall)\n",
        "print(\"~~~~~~~~~~~~~~~~~~~~~~~~~~~~~~~~~~~~~~~~~~~~~~~~~~~~~~~~~~~~~~~~~~~~~~~~~~\\n\")\n",
        "print(\"                     Spelling Report\\n\")\n",
        "print(\"Speller found {} spelling mistakes, {:.1%} of the wordes were misspaled\".format(len(mistakes),len(mistakes)/len(text2)))\n",
        "if pref.check_english_level:\n",
        "  pref.english_level(len(text2),(mistakecounter1-mistakecounter2))\n",
        "  print(\"\\nThe English level of the texst {}\".format(pref.englisg_level_str))\n",
        "print(\"\\n          This are the spelling mistakes found in the text:\\n\")\n",
        "\n",
        "#print(mistakes)\n",
        "\n",
        "for (line,index) in mistakes.keys():\n",
        "  print(f\"In line {str(line)}, at index {str(index)}: the word {mistakes[(line,index)]} was mispelled\")\n",
        "\n",
        "print(\"\\n~~~~~~~~~~~~~~~~~~~~~~~~~~~~~~~~~~~~~~~~~~~~~~~~~~~~~~~~~~~~~~~~~~~~~~~~~~~\")\n",
        "#results(mistakes)"
      ],
      "execution_count": 21,
      "outputs": [
        {
          "output_type": "stream",
          "text": [
            "~~~~~~~~~~~~~~~~~~~~~~~~~~~~~~~~~~~~~~~~~~~~~~~~~~~~~~~~~~~~~~~~~~~~~~~~~~\n",
            "\n",
            "                     Spelling Report\n",
            "\n",
            "Speller found 2 spelling mistakes, 3.6% of the wordes were misspaled\n",
            "\n",
            "The English level of the texst is excelent\n",
            "\n",
            "          This are the spelling mistakes found in the text:\n",
            "\n",
            "In line 2, at index 10: the word kfhfhfh was mispelled\n",
            "In line 2, at index 11: the word jfhfy was mispelled\n",
            "\n",
            "~~~~~~~~~~~~~~~~~~~~~~~~~~~~~~~~~~~~~~~~~~~~~~~~~~~~~~~~~~~~~~~~~~~~~~~~~~~\n"
          ],
          "name": "stdout"
        }
      ]
    },
    {
      "cell_type": "code",
      "metadata": {
        "id": "mzKHr2y7Dvl-",
        "colab_type": "code",
        "colab": {
          "base_uri": "https://localhost:8080/",
          "height": 35
        },
        "outputId": "c5d7ccaa-00ba-4ed4-b67c-b2de58352d70"
      },
      "source": [
        "pref.english_level(len(text2),(mistakecounter1-mistakecounter2))\n",
        "print(pref.englisg_level_str)"
      ],
      "execution_count": 19,
      "outputs": [
        {
          "output_type": "stream",
          "text": [
            "is excelent\n"
          ],
          "name": "stdout"
        }
      ]
    },
    {
      "cell_type": "code",
      "metadata": {
        "id": "SqK46cb42wUR",
        "colab_type": "code",
        "colab": {}
      },
      "source": [
        ""
      ],
      "execution_count": 0,
      "outputs": []
    }
  ]
}