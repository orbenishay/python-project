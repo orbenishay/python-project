{
  "nbformat": 4,
  "nbformat_minor": 0,
  "metadata": {
    "colab": {
      "name": "task1.ipynb",
      "provenance": [],
      "include_colab_link": true
    },
    "kernelspec": {
      "name": "python3",
      "display_name": "Python 3"
    }
  },
  "cells": [
    {
      "cell_type": "markdown",
      "metadata": {
        "id": "view-in-github",
        "colab_type": "text"
      },
      "source": [
        "<a href=\"https://colab.research.google.com/github/orbenishay/python-project/blob/master/final_ver4_ori.ipynb\" target=\"_parent\"><img src=\"https://colab.research.google.com/assets/colab-badge.svg\" alt=\"Open In Colab\"/></a>"
      ]
    },
    {
      "cell_type": "markdown",
      "metadata": {
        "id": "yf7zZ1NjJW0X",
        "colab_type": "text"
      },
      "source": [
        "Task1- Input/open file\n"
      ]
    },
    {
      "cell_type": "code",
      "metadata": {
        "id": "JB1hpHNgCifb",
        "colab_type": "code",
        "outputId": "9500371b-0d7b-429e-a782-1b437fba1a7e",
        "colab": {
          "base_uri": "https://localhost:8080/",
          "height": 124
        }
      },
      "source": [
        "# imports and initializations\n",
        "import sys\n",
        "if 'google.colab' in sys.modules:\n",
        "  from google.colab import files\n",
        "import re\n",
        "from google.colab import drive\n",
        "drive.mount('/content/drive')\n"
      ],
      "execution_count": 1,
      "outputs": [
        {
          "output_type": "stream",
          "text": [
            "Go to this URL in a browser: https://accounts.google.com/o/oauth2/auth?client_id=947318989803-6bn6qk8qdgf4n4g3pfee6491hc0brc4i.apps.googleusercontent.com&redirect_uri=urn%3aietf%3awg%3aoauth%3a2.0%3aoob&response_type=code&scope=email%20https%3a%2f%2fwww.googleapis.com%2fauth%2fdocs.test%20https%3a%2f%2fwww.googleapis.com%2fauth%2fdrive%20https%3a%2f%2fwww.googleapis.com%2fauth%2fdrive.photos.readonly%20https%3a%2f%2fwww.googleapis.com%2fauth%2fpeopleapi.readonly\n",
            "\n",
            "Enter your authorization code:\n",
            "··········\n",
            "Mounted at /content/drive\n"
          ],
          "name": "stdout"
        }
      ]
    },
    {
      "cell_type": "code",
      "metadata": {
        "id": "v8eHVK7WyGn5",
        "colab_type": "code",
        "colab": {}
      },
      "source": [
        "class SpellChecker:\n",
        "  def __init__(self, input_type=\"file\", typo_count=20, name_ignore=True,check_english_level=True):\n",
        "      self.input_type = input_type\n",
        "      self.typo_count = typo_count\n",
        "      self.name_ignore = name_ignore\n",
        "      self.check_english_level = check_english_level\n",
        "\n",
        "  def english_level(self,number_word,number_difficoult_words):\n",
        "      if number_word>0:\n",
        "        precent_difficoult_words=number_difficoult_words/number_word\n",
        "        if precent_difficoult_word>0.1:\n",
        "          self.englisg_level=\"is excelent\"\n",
        "        elif precent_difficoult_word>0.01:\n",
        "          self.english_level=\"is fine\"\n",
        "        else:\n",
        "          self.english_level=\"can be better\"\n",
        "      else:\n",
        "        self.english_level=\"can not be evaluate\""
      ],
      "execution_count": 0,
      "outputs": []
    },
    {
      "cell_type": "code",
      "metadata": {
        "id": "FxE6SKc6ClyV",
        "colab_type": "code",
        "outputId": "68fdaaaf-3b43-404e-9f61-17726484f83f",
        "colab": {
          "base_uri": "https://localhost:8080/",
          "height": 104
        }
      },
      "source": [
        "input_type=\"\"\n",
        "while  input_type.lower() not in ['t','f']:\n",
        "  input_type = input(\"Hello. To enter text please enter \\'t\\'. To upload a text file please enter \\'f\\': \")\n",
        "\n",
        "typo_count = \"0\"\n",
        "typo_count = input(\"please enter the amount of errors you would like to find in your text:\")\n",
        "while typo_count.isdigit() == False and typo_count !=0:\n",
        "  typo_count = input(\"please enter the amount of errors you would like to find in your text:\")\n",
        "\n",
        "name_input = \"\"\n",
        "name_ignore = True\n",
        "while name_input.lower() not in ['y', 'n']:\n",
        "  name_input = input(\"would you like to ignore names in your text? (Y/N)\")\n",
        "  if name_input == 'Y':\n",
        "    name_ignore = True\n",
        "  elif name_input == 'N':\n",
        "    name_ignor = False\n",
        "\n",
        "print(f\"Your preferences are: Input Type: {input_type}, Number of errors: {typo_count}, Ignore names: {name_input}\")\n",
        "\n"
      ],
      "execution_count": 3,
      "outputs": [
        {
          "output_type": "stream",
          "text": [
            "Hello. To enter text please enter 't'. To upload a text file please enter 'f': t\n",
            "please enter the amount of errors you would like to find in your text:I wish to chrdhfh my spellling\n",
            "please enter the amount of errors you would like to find in your text:10\n",
            "would you like to ignore names in your text? (Y/N)n\n",
            "Your preferences are: Input Type: t, Number of errors: 10, Ignore names: n\n"
          ],
          "name": "stdout"
        }
      ]
    },
    {
      "cell_type": "code",
      "metadata": {
        "id": "kkhx7TQEjwdE",
        "colab_type": "code",
        "outputId": "7b007d61-2b4a-4fd8-db66-331c08c58475",
        "colab": {
          "base_uri": "https://localhost:8080/",
          "height": 35
        }
      },
      "source": [
        "if input_type.lower() == 't':\n",
        "  pref=SpellChecker(\"text\")\n",
        "  input2 = input(\"Please enter your text:\")\n",
        "  text1 = input2.split(\".\") #was by period\n",
        "  # print(text1)\n",
        "elif input_type.lower() == 'f':\n",
        "  pref=SpellChecker(\"file\")\n",
        "  uploaded = files.upload()\n",
        "  fname = list(uploaded.keys())[0]\n",
        "  with open(fname) as f1:\n",
        "    text1 = []\n",
        "    for line in f1:\n",
        "      text1.append(line)\n"
      ],
      "execution_count": 4,
      "outputs": [
        {
          "output_type": "stream",
          "text": [
            "Please enter your text:I wish to checgghk my dftgvgg\n"
          ],
          "name": "stdout"
        }
      ]
    },
    {
      "cell_type": "code",
      "metadata": {
        "id": "nrRiNpC4ihmP",
        "colab_type": "code",
        "outputId": "eeffd172-176e-4c70-8c73-16a9de151517",
        "colab": {
          "base_uri": "https://localhost:8080/",
          "height": 35
        }
      },
      "source": [
        "def rowparser(text):\n",
        "  \n",
        "  word_dict = {}\n",
        "  for row_num, sentence in enumerate(text):\n",
        "    words_list = sentence.split()\n",
        "    for word_num, word in enumerate(words_list):\n",
        "      dispo = True\n",
        "      match_word = re.search('^[a-z]+$', word)\n",
        "      match_cap = re.match('[A-Z]', word)\n",
        "      #  need to allow '.' at the end of word as exception\n",
        "      # need to ignore comma at the end of a word\n",
        "\n",
        "      if len(word)<=2: # can usae 'or' here for better performance\n",
        "        dispo = False\n",
        "      elif bool(match_word)==False:\n",
        "        dispo = False\n",
        "      elif name_ignore == True and word_num>0 and bool(match_cap)==True:\n",
        "          dispo = False\n",
        "          \n",
        "      word_and_dispo = (word, dispo)\n",
        "      word_dict[(row_num, word_num)] = word_and_dispo\n",
        "\n",
        "  return word_dict\n",
        "\n",
        "\n",
        "print(text1)"
      ],
      "execution_count": 6,
      "outputs": [
        {
          "output_type": "stream",
          "text": [
            "['I wish to checgghk my dftgvgg']\n"
          ],
          "name": "stdout"
        }
      ]
    },
    {
      "cell_type": "code",
      "metadata": {
        "id": "0JGvMAhlikFN",
        "colab_type": "code",
        "outputId": "fa810878-ccf6-4522-ab1a-7cb55643ab65",
        "colab": {
          "base_uri": "https://localhost:8080/",
          "height": 52
        }
      },
      "source": [
        "text2 = rowparser(text1)\n",
        "print(text2)\n",
        "print(text1)"
      ],
      "execution_count": 7,
      "outputs": [
        {
          "output_type": "stream",
          "text": [
            "{(0, 0): ('I', False), (0, 1): ('wish', True), (0, 2): ('to', False), (0, 3): ('checgghk', True), (0, 4): ('my', False), (0, 5): ('dftgvgg', True)}\n",
            "['I wish to checgghk my dftgvgg']\n"
          ],
          "name": "stdout"
        }
      ]
    },
    {
      "cell_type": "code",
      "metadata": {
        "id": "j_ch-uuOxKLZ",
        "colab_type": "code",
        "colab": {}
      },
      "source": [
        "fname = \"/content/drive/My Drive/5000words.txt\"\n",
        "dic={}\n",
        "with open(fname) as f2:\n",
        "    for line in f2:\n",
        "        word=line.split()\n",
        "        if not(word[0]==\"Rank\"): #remooving header from the words file\n",
        "               dic[word[1]]=[word[0],word[2],word[3]]\n",
        "\n",
        "\n",
        "# print(dic)\n",
        "\n",
        "fname = \"/content/drive/My Drive/allwords.txt\"\n",
        "dicall={}\n",
        "with open(fname) as f3:\n",
        "    for line in f3:\n",
        "        dicall[line.split()[0]]=\"\"\n",
        "#print(dicall)"
      ],
      "execution_count": 0,
      "outputs": []
    },
    {
      "cell_type": "code",
      "metadata": {
        "id": "9DIjCxWDxUbp",
        "colab_type": "code",
        "colab": {}
      },
      "source": [
        "def speller(allwordes,dic,dicall={}):\n",
        "  #~~~~~~~~~~~~~~~~~~~~~~~~~~~~~~~~~~~~~~~~~~~~~~~~~~~~~~~~~~~~~~~~~~~~~~~~~\n",
        "  #This function cheks spelling \n",
        "  #receives inputs:\n",
        "  #allwords - All the words to be check, format = {(line,index):[\"word\",True/Falls]} the bulian check or not check spelling for the word\n",
        "  #dic - primery dictionery, format {\"word\":[\"\"]} recomended to use friquent words in English to make an effishient allgoritem\n",
        "  #dicall - secondery dictionery, format {\"word\":[\"\"]} dictionery with more word in Eglish then dic, diffult value is emty and not be used\n",
        "  #returns outputs:\n",
        "  #mistakes - words checked and not at two dictionery, format {(line,index):[\"word\"]}\n",
        "  #~~~~~~~~~~~~~~~~~~~~~~~~~~~~~~~~~~~~~~~~~~~~~~~~~~~~~~~~~~~~~~~~~~~~~~~~~~~~~\n",
        "\n",
        "  lincounter=0\n",
        "  wordcounter=0\n",
        "  mistakecounter1=0\n",
        "  mistakecounter2=0\n",
        "  mistakes={}\n",
        "  allwordes= text2\n",
        "  # print(allwordes)\n",
        "  for (line,index) in allwordes.keys():\n",
        "    if mistakecounter2 >= int(typo_count):\n",
        "      break\n",
        "    word=allwordes[(line,index)]\n",
        "    if word[1]: # (if word[1]=True)\n",
        "        if not wordinenglish(word[0],dic):\n",
        "          mistakecounter1+=1\n",
        "        \n",
        "          if not wordinenglish(word[0],dicall):\n",
        "            mistakecounter2+=1\n",
        "            mistakes[(line,index)]=word[0]\n",
        "    \n",
        "\n",
        "      #wordinlinecounter+=1\n",
        "    #lincounter+=1\n",
        "  print(mistakecounter2)\n",
        "  print(mistakes)\n",
        "  print(\"There are \" + str(mistakecounter1-mistakecounter2) + \" difficult English words\")\n",
        "  #print(dicall)\n",
        "\n",
        "  return mistakes, mistakecounter1, mistakecounter2"
      ],
      "execution_count": 0,
      "outputs": []
    },
    {
      "cell_type": "code",
      "metadata": {
        "id": "66-QUgCy8Rtj",
        "colab_type": "code",
        "outputId": "979f48b1-17fd-4670-98da-a8b51a582d31",
        "colab": {
          "base_uri": "https://localhost:8080/",
          "height": 69
        }
      },
      "source": [
        "#def results(i):\n",
        "print(\"Your spelling check prefrence:\\n\")\n",
        "print(\"The words input as a {}\".format(pref.input_type))\n",
        "\n",
        "\n",
        " #   for (line,index) in mistakes.keys():\n",
        "#    print(f\"In line {str(line)}: the word {mistakes[(line,index)]} was mispelled\")\n",
        "\n",
        "\n",
        "#results(mistakes)"
      ],
      "execution_count": 11,
      "outputs": [
        {
          "output_type": "stream",
          "text": [
            "Your spelling check prefrence:\n",
            "\n",
            "The words input as a text\n"
          ],
          "name": "stdout"
        }
      ]
    }
  ]
}