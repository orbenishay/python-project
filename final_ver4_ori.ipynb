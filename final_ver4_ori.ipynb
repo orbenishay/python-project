{
  "nbformat": 4,
  "nbformat_minor": 0,
  "metadata": {
    "colab": {
      "name": "task1.ipynb",
      "provenance": [],
      "include_colab_link": true
    },
    "kernelspec": {
      "name": "python3",
      "display_name": "Python 3"
    }
  },
  "cells": [
    {
      "cell_type": "markdown",
      "metadata": {
        "id": "view-in-github",
        "colab_type": "text"
      },
      "source": [
        "<a href=\"https://colab.research.google.com/github/orbenishay/python-project/blob/master/final_ver4_ori.ipynb\" target=\"_parent\"><img src=\"https://colab.research.google.com/assets/colab-badge.svg\" alt=\"Open In Colab\"/></a>"
      ]
    },
    {
      "cell_type": "markdown",
      "metadata": {
        "id": "yf7zZ1NjJW0X",
        "colab_type": "text"
      },
      "source": [
        "Task1- Input/open file\n"
      ]
    },
    {
      "cell_type": "code",
      "metadata": {
        "id": "JB1hpHNgCifb",
        "colab_type": "code",
        "outputId": "f61176ca-5d52-42c9-c0fd-998fc959e791",
        "colab": {
          "base_uri": "https://localhost:8080/",
          "height": 124
        }
      },
      "source": [
        "# imports and initializations\n",
        "import sys\n",
        "if 'google.colab' in sys.modules:\n",
        "  from google.colab import files\n",
        "import re\n",
        "from google.colab import drive\n",
        "drive.mount('/content/drive')\n"
      ],
      "execution_count": 1,
      "outputs": [
        {
          "output_type": "stream",
          "text": [
            "Go to this URL in a browser: https://accounts.google.com/o/oauth2/auth?client_id=947318989803-6bn6qk8qdgf4n4g3pfee6491hc0brc4i.apps.googleusercontent.com&redirect_uri=urn%3aietf%3awg%3aoauth%3a2.0%3aoob&response_type=code&scope=email%20https%3a%2f%2fwww.googleapis.com%2fauth%2fdocs.test%20https%3a%2f%2fwww.googleapis.com%2fauth%2fdrive%20https%3a%2f%2fwww.googleapis.com%2fauth%2fdrive.photos.readonly%20https%3a%2f%2fwww.googleapis.com%2fauth%2fpeopleapi.readonly\n",
            "\n",
            "Enter your authorization code:\n",
            "··········\n",
            "Mounted at /content/drive\n"
          ],
          "name": "stdout"
        }
      ]
    },
    {
      "cell_type": "code",
      "metadata": {
        "id": "v8eHVK7WyGn5",
        "colab_type": "code",
        "colab": {}
      },
      "source": [
        "class SpellChecker:\n",
        "  def __init__(self, input_type=\"file\", typo_count=20, name_ignore=True,check_english_level=True):\n",
        "      self.input_type = input_type\n",
        "      self.typo_count = typo_count\n",
        "      self.name_ignore = name_ignore\n",
        "      self.check_english_level = check_english_level\n",
        "\n",
        "  def english_level(self,number_word,number_difficoult_words):\n",
        "      if number_word>0:\n",
        "        precent_difficoult_words=number_difficoult_words/number_word\n",
        "        if precent_difficoult_words>0.1:\n",
        "          self.englisg_level_str=\"is excelent\"\n",
        "        elif precent_difficoult_words>0.01:\n",
        "          self.english_level_str=\"is fine\"\n",
        "        else:\n",
        "          self.english_level_str=\"can be better\"\n",
        "      else:\n",
        "        self.english_level=\"can not be evaluate\"\n",
        "\n"
      ],
      "execution_count": 0,
      "outputs": []
    },
    {
      "cell_type": "code",
      "metadata": {
        "id": "FxE6SKc6ClyV",
        "colab_type": "code",
        "outputId": "87958a7c-3aa9-436e-fdc8-dd725d1b0d5c",
        "colab": {
          "base_uri": "https://localhost:8080/",
          "height": 208
        }
      },
      "source": [
        "input_type=\"\"\n",
        "while  input_type.lower() not in ['t','f']:\n",
        "  input_type = input(\"Hello. To enter text please enter \\'t\\'. To upload a text file please enter \\'f\\': \")\n",
        "if input_type.lower() == 't':\n",
        "  input_type=\"text\"\n",
        "else:\n",
        "  input_type=\"file\"\n",
        "\n",
        "\n",
        "typo_count = \"0\"\n",
        "typo_count = input(\"please enter the amount of errors you would like to find in your text:\")\n",
        "while typo_count.isdigit() == False and typo_count !=0:\n",
        "  typo_count = input(\"please enter the amount of errors you would like to find in your text:\")\n",
        "\n",
        "name_input = \"\"\n",
        "name_ignore = True\n",
        "while name_input.lower() not in ['y', 'n']:\n",
        "  name_input = input(\"would you like to ignore names in your text? (Y/N)\").upper()\n",
        "  if name_input == 'Y':\n",
        "    name_ignor = True\n",
        "  elif name_input == 'N':\n",
        "    name_ignor = False\n",
        "check_english_level_input = \"\"\n",
        "check_english_level = True\n",
        "while check_english_level_input.lower() not in ['y', 'n']:\n",
        "  check_english_level_input = input(\"would you like to evaluate text English level? (Y/N)\").upper()\n",
        "  if check_english_level_input == 'Y':\n",
        "    check_english_level = True\n",
        "  elif check_english_level_input == 'N':\n",
        "    check_english_level = False\n",
        "\n",
        "\n",
        "pref=SpellChecker(input_type=input_type,typo_count=typo_count,name_ignore=name_ignor,check_english_level=check_english_level)\n",
        "if pref.check_english_level:\n",
        "  english_level_w=\" will\"\n",
        "else:\n",
        "  english_level_w=\" will not\"\n",
        "\n",
        "if pref.name_ignore:\n",
        "  name_ignor_w=\" will not\"\n",
        "else:\n",
        "  name_ignor_w=\" will\"\n",
        "print(\"\\nYour preferences are:\\n\")\n",
        "print(f\"The input is a {pref.input_type}\")\n",
        "print(f\"The speller stopes spelling check after {pref.typo_count} speling errores\")\n",
        "print(f\"The speller{name_ignor_w} check names\")\n",
        "print(f\"The speller{english_level_w} evaluate the text English level\")\n",
        "\n"
      ],
      "execution_count": 3,
      "outputs": [
        {
          "output_type": "stream",
          "text": [
            "Hello. To enter text please enter 't'. To upload a text file please enter 'f': t\n",
            "please enter the amount of errors you would like to find in your text:20\n",
            "would you like to ignore names in your text? (Y/N)y\n",
            "would you like to evaluate text English level? (Y/N)y\n",
            "\n",
            "Your preferences are:\n",
            "\n",
            "The input is a text\n",
            "The speller stopes spelling check after 20 speling errores\n",
            "The speller will not check names\n",
            "The speller will evaluate the text English level\n"
          ],
          "name": "stdout"
        }
      ]
    },
    {
      "cell_type": "code",
      "metadata": {
        "id": "kkhx7TQEjwdE",
        "colab_type": "code",
        "outputId": "d418ce99-3e7c-4901-f633-c5431acd5b5c",
        "colab": {
          "base_uri": "https://localhost:8080/",
          "height": 35
        }
      },
      "source": [
        "if pref.input_type == 'text':\n",
        "  input2 = input(\"Please enter your text:\")\n",
        "  text1 = input2.split(\".\") #was by period\n",
        "  # print(text1)\n",
        "else:\n",
        "  uploaded = files.upload()\n",
        "  fname = list(uploaded.keys())[0]\n",
        "  with open(fname) as f1:\n",
        "    text1 = []\n",
        "    for line in f1:\n",
        "      text1.append(line)\n"
      ],
      "execution_count": 4,
      "outputs": [
        {
          "output_type": "stream",
          "text": [
            "Please enter your text:The fire was hard but fgfhfy xpressions inside string literals\n"
          ],
          "name": "stdout"
        }
      ]
    },
    {
      "cell_type": "code",
      "metadata": {
        "id": "nrRiNpC4ihmP",
        "colab_type": "code",
        "outputId": "aaacc27e-257b-4520-af05-6791e28e0cdf",
        "colab": {
          "base_uri": "https://localhost:8080/",
          "height": 35
        }
      },
      "source": [
        "def rowparser(text):\n",
        "  \n",
        "  word_dict = {}\n",
        "  for row_num, sentence in enumerate(text):\n",
        "    words_list = sentence.split()\n",
        "    for word_num, word in enumerate(words_list):\n",
        "      dispo = True\n",
        "      match_word = re.search('^[a-z]+$', word)\n",
        "      match_cap = re.match('[A-Z]', word)\n",
        "      #  need to allow '.' at the end of word as exception\n",
        "      # need to ignore comma at the end of a word\n",
        "\n",
        "      if len(word)<=2: # can usae 'or' here for better performance\n",
        "        dispo = False\n",
        "      elif bool(match_word)==False:\n",
        "        dispo = False\n",
        "      elif name_ignore == True and word_num>0 and bool(match_cap)==True:\n",
        "          dispo = False\n",
        "          \n",
        "      word_and_dispo = (word, dispo)\n",
        "      word_dict[(row_num, word_num)] = word_and_dispo\n",
        "\n",
        "  return word_dict\n",
        "\n",
        "\n",
        "print(text1)"
      ],
      "execution_count": 5,
      "outputs": [
        {
          "output_type": "stream",
          "text": [
            "['The fire was hard but fgfhfy xpressions inside string literals']\n"
          ],
          "name": "stdout"
        }
      ]
    },
    {
      "cell_type": "code",
      "metadata": {
        "id": "0JGvMAhlikFN",
        "colab_type": "code",
        "outputId": "57b57fd0-83d5-45dc-af24-885eba0ad58e",
        "colab": {
          "base_uri": "https://localhost:8080/",
          "height": 72
        }
      },
      "source": [
        "text2 = rowparser(text1)\n",
        "print(text2)\n",
        "print(text1)"
      ],
      "execution_count": 6,
      "outputs": [
        {
          "output_type": "stream",
          "text": [
            "{(0, 0): ('The', False), (0, 1): ('fire', True), (0, 2): ('was', True), (0, 3): ('hard', True), (0, 4): ('but', True), (0, 5): ('fgfhfy', True), (0, 6): ('xpressions', True), (0, 7): ('inside', True), (0, 8): ('string', True), (0, 9): ('literals', True)}\n",
            "['The fire was hard but fgfhfy xpressions inside string literals']\n"
          ],
          "name": "stdout"
        }
      ]
    },
    {
      "cell_type": "code",
      "metadata": {
        "id": "j_ch-uuOxKLZ",
        "colab_type": "code",
        "colab": {}
      },
      "source": [
        "fname = \"/content/drive/My Drive/5000words.txt\"\n",
        "dic={}\n",
        "with open(fname) as f2:\n",
        "    for line in f2:\n",
        "        word=line.split()\n",
        "        if not(word[0]==\"Rank\"): #remooving header from the words file\n",
        "               dic[word[1]]=[word[0],word[2],word[3]]\n",
        "\n",
        "\n",
        "# print(dic)\n",
        "\n",
        "fname = \"/content/drive/My Drive/allwords.txt\"\n",
        "dicall={}\n",
        "with open(fname) as f3:\n",
        "    for line in f3:\n",
        "        dicall[line.split()[0]]=\"\"\n",
        "#print(dicall)"
      ],
      "execution_count": 0,
      "outputs": []
    },
    {
      "cell_type": "code",
      "metadata": {
        "id": "6n8RnbT_ktgl",
        "colab_type": "code",
        "colab": {}
      },
      "source": [
        "#This function checkes if word is in dictionery \n",
        "def wordinenglish(word,dic):\n",
        "  #input: word - a string in English lowcase, dic - dictionery format {\"words\":[]}, \n",
        "  # return boolian if word in dic\n",
        "  if word in dic:\n",
        "    return True\n",
        "  else:\n",
        "    return False"
      ],
      "execution_count": 0,
      "outputs": []
    },
    {
      "cell_type": "code",
      "metadata": {
        "id": "9DIjCxWDxUbp",
        "colab_type": "code",
        "colab": {}
      },
      "source": [
        "def speller(allwordes,dic,dicall={}):\n",
        "  #~~~~~~~~~~~~~~~~~~~~~~~~~~~~~~~~~~~~~~~~~~~~~~~~~~~~~~~~~~~~~~~~~~~~~~~~~\n",
        "  #This function cheks spelling \n",
        "  #receives inputs:\n",
        "  #allwords - All the words to be check, format = {(line,index):[\"word\",True/Falls]} the bulian check or not check spelling for the word\n",
        "  #dic - primery dictionery, format {\"word\":[\"\"]} recomended to use friquent words in English to make an effishient allgoritem\n",
        "  #dicall - secondery dictionery, format {\"word\":[\"\"]} dictionery with more word in Eglish then dic, diffult value is emty and not be used\n",
        "  #returns outputs:\n",
        "  #mistakes - words checked and not at two dictionery, format {(line,index):[\"word\"]}\n",
        "  #~~~~~~~~~~~~~~~~~~~~~~~~~~~~~~~~~~~~~~~~~~~~~~~~~~~~~~~~~~~~~~~~~~~~~~~~~~~~~\n",
        "\n",
        "  lincounter=0\n",
        "  wordcounter=0\n",
        "  mistakecounter1=0\n",
        "  mistakecounter2=0\n",
        "  mistakes={}\n",
        "  # print(allwordes)\n",
        "  for (line,index) in allwordes.keys():\n",
        "    if mistakecounter2 >= int(typo_count):\n",
        "      break\n",
        "    word=allwordes[(line,index)]\n",
        "    if word[1]: # (if word[1]=True)\n",
        "        if not wordinenglish(word[0],dic):\n",
        "          mistakecounter1+=1\n",
        "        \n",
        "          if not wordinenglish(word[0],dicall):\n",
        "            mistakecounter2+=1\n",
        "            mistakes[(line,index)]=word[0]\n",
        "    \n",
        "\n",
        "      #wordinlinecounter+=1\n",
        "    #lincounter+=1\n",
        "  #print(mistakecounter2)\n",
        "  #print(mistakes)\n",
        "  #print(\"There are \" + str(mistakecounter1-mistakecounter2) + \" difficult English words\")\n",
        "  #print(dicall)\n",
        "\n",
        "  return mistakes, mistakecounter1, mistakecounter2"
      ],
      "execution_count": 0,
      "outputs": []
    },
    {
      "cell_type": "code",
      "metadata": {
        "id": "66-QUgCy8Rtj",
        "colab_type": "code",
        "outputId": "e9b3e865-1c3f-48f6-a055-f0670c57f47a",
        "colab": {
          "base_uri": "https://localhost:8080/",
          "height": 260
        }
      },
      "source": [
        "#def results(i):\n",
        "#print(\"Your spelling check prefrence:\\n\")\n",
        "#print(\"The words were insert as a {}\".format(pref.input_type))\n",
        "\n",
        "mistakes, mistakecounter1, mistakecounter2=speller(text2,dic,dicall)\n",
        "print(\"~~~~~~~~~~~~~~~~~~~~~~~~~~~~~~~~~~~~~~~~~~~~~~~~~~~~~~~~~~~~~~~~~~~~~~~~~~\\n\")\n",
        "print(\"                     Spelling Report\\n\")\n",
        "print(\"Speller found {} spelling mistakes, {:.1%} of the wordes were misspaled\".format(len(mistakes),len(mistakes)/len(text2)))\n",
        "print(\"\\nThe English level of the texst {}\".format(str(pref.english_level(len(text2),(mistakecounter1-mistakecounter2)))))\n",
        "print(\"\\n          This are the spelling mistakes found in the text:\\n\")\n",
        "\n",
        "#print(mistakes)\n",
        "\n",
        "for (line,index) in mistakes.keys():\n",
        "  print(f\"In line {str(line)}, at index {str(index)}: the word {mistakes[(line,index)]} was mispelled\")\n",
        "\n",
        "print(\"\\n~~~~~~~~~~~~~~~~~~~~~~~~~~~~~~~~~~~~~~~~~~~~~~~~~~~~~~~~~~~~~~~~~~~~~~~~~~~\")\n",
        "#results(mistakes)"
      ],
      "execution_count": 11,
      "outputs": [
        {
          "output_type": "stream",
          "text": [
            "~~~~~~~~~~~~~~~~~~~~~~~~~~~~~~~~~~~~~~~~~~~~~~~~~~~~~~~~~~~~~~~~~~~~~~~~~~\n",
            "\n",
            "                     Spelling Report\n",
            "\n",
            "Speller found 2 spelling mistakes, 20.0% of the wordes were misspaled\n",
            "\n",
            "The English level of the texst None\n",
            "\n",
            "          This are the spelling mistakes found in the text:\n",
            "\n",
            "In line 0, at index 5: the word fgfhfy was mispelled\n",
            "In line 0, at index 6: the word xpressions was mispelled\n",
            "\n",
            "~~~~~~~~~~~~~~~~~~~~~~~~~~~~~~~~~~~~~~~~~~~~~~~~~~~~~~~~~~~~~~~~~~~~~~~~~~~\n"
          ],
          "name": "stdout"
        }
      ]
    },
    {
      "cell_type": "code",
      "metadata": {
        "id": "mzKHr2y7Dvl-",
        "colab_type": "code",
        "colab": {
          "base_uri": "https://localhost:8080/",
          "height": 183
        },
        "outputId": "fdf569a5-eda1-4466-ff11-4dc956df2105"
      },
      "source": [
        "pref.english_level(len(text2),(mistakecounter1-mistakecounter2))\n",
        "type(pref.english_level_str)"
      ],
      "execution_count": 17,
      "outputs": [
        {
          "output_type": "error",
          "ename": "AttributeError",
          "evalue": "ignored",
          "traceback": [
            "\u001b[0;31m---------------------------------------------------------------------------\u001b[0m",
            "\u001b[0;31mAttributeError\u001b[0m                            Traceback (most recent call last)",
            "\u001b[0;32m<ipython-input-17-c53191b29810>\u001b[0m in \u001b[0;36m<module>\u001b[0;34m()\u001b[0m\n\u001b[1;32m      1\u001b[0m \u001b[0mpref\u001b[0m\u001b[0;34m.\u001b[0m\u001b[0menglish_level\u001b[0m\u001b[0;34m(\u001b[0m\u001b[0mlen\u001b[0m\u001b[0;34m(\u001b[0m\u001b[0mtext2\u001b[0m\u001b[0;34m)\u001b[0m\u001b[0;34m,\u001b[0m\u001b[0;34m(\u001b[0m\u001b[0mmistakecounter1\u001b[0m\u001b[0;34m-\u001b[0m\u001b[0mmistakecounter2\u001b[0m\u001b[0;34m)\u001b[0m\u001b[0;34m)\u001b[0m\u001b[0;34m\u001b[0m\u001b[0;34m\u001b[0m\u001b[0m\n\u001b[0;32m----> 2\u001b[0;31m \u001b[0mtype\u001b[0m\u001b[0;34m(\u001b[0m\u001b[0mpref\u001b[0m\u001b[0;34m.\u001b[0m\u001b[0menglish_level_str\u001b[0m\u001b[0;34m)\u001b[0m\u001b[0;34m\u001b[0m\u001b[0;34m\u001b[0m\u001b[0m\n\u001b[0m",
            "\u001b[0;31mAttributeError\u001b[0m: 'SpellChecker' object has no attribute 'english_level_str'"
          ]
        }
      ]
    },
    {
      "cell_type": "code",
      "metadata": {
        "id": "SqK46cb42wUR",
        "colab_type": "code",
        "colab": {}
      },
      "source": [
        ""
      ],
      "execution_count": 0,
      "outputs": []
    }
  ]
}