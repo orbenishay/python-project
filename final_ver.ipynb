{
  "nbformat": 4,
  "nbformat_minor": 0,
  "metadata": {
    "colab": {
      "name": "task1.ipynb",
      "provenance": [],
      "include_colab_link": true
    },
    "kernelspec": {
      "name": "python3",
      "display_name": "Python 3"
    }
  },
  "cells": [
    {
      "cell_type": "markdown",
      "metadata": {
        "id": "view-in-github",
        "colab_type": "text"
      },
      "source": [
        "<a href=\"https://colab.research.google.com/github/orbenishay/python-project/blob/master/final_ver.ipynb\" target=\"_parent\"><img src=\"https://colab.research.google.com/assets/colab-badge.svg\" alt=\"Open In Colab\"/></a>"
      ]
    },
    {
      "cell_type": "markdown",
      "metadata": {
        "id": "yf7zZ1NjJW0X",
        "colab_type": "text"
      },
      "source": [
        "Task1- Input/open file\n"
      ]
    },
    {
      "cell_type": "code",
      "metadata": {
        "id": "yrqTQtbqJfrG",
        "colab_type": "code",
        "outputId": "2cddefa2-a5de-4c38-8255-d3b2681f371a",
        "colab": {
          "base_uri": "https://localhost:8080/",
          "height": 34
        }
      },
      "source": [
        "input1 = input(\"hello. To enter a text please enter \\'t'. To upload a file please enter \\'f': \")\n"
      ],
      "execution_count": 11,
      "outputs": [
        {
          "output_type": "stream",
          "text": [
            "hello. To enter a text please enter 't'. To upload a file please enter 'f': f\n"
          ],
          "name": "stdout"
        }
      ]
    },
    {
      "cell_type": "code",
      "metadata": {
        "id": "kkhx7TQEjwdE",
        "colab_type": "code",
        "outputId": "ec9f45b9-1aac-4ad2-b9b1-f0a62a496e4c",
        "colab": {
          "resources": {
            "http://localhost:8080/nbextensions/google.colab/files.js": {
              "data": "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",
              "ok": true,
              "headers": [
                [
                  "content-type",
                  "application/javascript"
                ]
              ],
              "status": 200,
              "status_text": ""
            }
          },
          "base_uri": "https://localhost:8080/",
          "height": 128
        }
      },
      "source": [
        "if input1 == 't' or input1 == 'T':\n",
        "  input2 = input(\"please enter your text\")\n",
        "  line = input2.split(\".\")\n",
        "  print(line)\n",
        "  text1 = {}\n",
        "  counter1 = 0\n",
        "  for words in line:\n",
        "    text1[counter1] = words\n",
        "    counter1 += 1\n",
        "  print(text1)\n",
        "elif input1 == 'f' or input1 == 'F':\n",
        "  import sys\n",
        "  if 'google.colab' in sys.modules:\n",
        "      from google.colab import files\n",
        "      uploaded = files.upload()\n",
        "  fname = \"task1.txt\"\n",
        "  with open(fname) as f1:\n",
        "    text1 = []\n",
        "    for line in f1:\n",
        "      text1.append(line)\n",
        "    # print(text1)\n",
        "    # print(type(text1))\n",
        "else:\n",
        "  print(\"please enter \\'t' or '\\f'\")"
      ],
      "execution_count": 12,
      "outputs": [
        {
          "output_type": "display_data",
          "data": {
            "text/html": [
              "\n",
              "     <input type=\"file\" id=\"files-ec03de6b-9d19-4624-8bbb-544dd3796dce\" name=\"files[]\" multiple disabled />\n",
              "     <output id=\"result-ec03de6b-9d19-4624-8bbb-544dd3796dce\">\n",
              "      Upload widget is only available when the cell has been executed in the\n",
              "      current browser session. Please rerun this cell to enable.\n",
              "      </output>\n",
              "      <script src=\"/nbextensions/google.colab/files.js\"></script> "
            ],
            "text/plain": [
              "<IPython.core.display.HTML object>"
            ]
          },
          "metadata": {
            "tags": []
          }
        },
        {
          "output_type": "stream",
          "text": [
            "Saving task1.txt to task1 (1).txt\n",
            "['The following are the graphdfgical (non-control) charadfgdfcters defined by\\n', \"ISO 8859-1 (1987).  Descriptions in words aren't all that helpful,\\n\", \"but they're the best we can do in text.  A graphdfgdfics file illustrdfgating\\n\", 'the charadfgcter set should be availadfgble from the same archivdge as this\\n', 'file.\\n', '\\n', 'Hex Description                 Hex Description\\n', '\\n', '20  SPACE\\n', '21  EXCLAMATION MARK            A1  INVERTED EXCLAMATION MARK\\n', '22  QUOTATION MARK              A2  CENT SIGN\\n', '23  NUMBER SIGN                 A3  POUND SIGN\\n', '24  DOLLAR SIGN                 A4  CURRENCY SIGN\\n', '25  PERCENT SIGN                A5  YEN SIGN\\n', '26  AMPERSAND                   A6  BROKEN BAR\\n', '27  APOSTROPHE                  A7  SECTION SIGN\\n', '28  LEFT PARENTHESIS            A8  DIAERESIS\\n', '29  RIGHT PARENTHESIS           A9  COPYRIGHT SIGN\\n', '2A  ASTERISK                    AA  FEMININE ORDINAL INDICATOR\\n', '2B  PLUS SIGN                   AB  LEFT-POINTING DOUBLE ANGLE QUOTATION MARK\\n', '2C  COMMA                       AC  NOT SIGN\\n', '2D  HYPHEN-MINUS                AD  SOFT HYPHEN\\n', '2E  FULL STOP                   AE  REGISTERED SIGN\\n', '2F  SOLIDUS                     AF  OVERLINE\\n', '30  DIGIT ZERO                  B0  DEGREE SIGN\\n', '31  DIGIT ONE                   B1  PLUS-MINUS SIGN\\n', '32  DIGIT TWO                   B2  SUPERSCRIPT TWO\\n', '33  DIGIT THREE                 B3  SUPERSCRIPT THREE\\n', '34  DIGIT FOUR                  B4  ACUTE ACCENT\\n', '35  DIGIT FIVE                  B5  MICRO SIGN\\n', '36  DIGIT SIX                   B6  PILCROW SIGN\\n', '37  DIGIT SEVEN                 B7  MIDDLE DOT\\n', '38  DIGIT EIGHT                 B8  CEDILLA\\n', '39  DIGIT NINE                  B9  SUPERSCRIPT ONE\\n', '3A  COLON                       BA  MASCULINE ORDINAL INDICATOR\\n', '3B  SEMICOLON                   BB  RIGHT-POINTING DOUBLE ANGLE QUOTATION MARK\\n', '3C  LESS-THAN SIGN              BC  VULGAR FRACTION ONE QUARTER\\n', '3D  EQUALS SIGN                 BD  VULGAR FRACTION ONE HALF\\n', '3E  GREATER-THAN SIGN           BE  VULGAR FRACTION THREE QUARTERS\\n', '3F  QUESTION MARK               BF  INVERTED QUESTION MARK\\n', '40  COMMERCIAL AT               C0  CAPITAL LETTER A WITH GRAVE\\n', '41  CAPITAL LETTER A            C1  CAPITAL LETTER A WITH ACUTE\\n', '42  CAPITAL LETTER B            C2  CAPITAL LETTER A WITH CIRCUMFLEX\\n', '43  CAPITAL LETTER C            C3  CAPITAL LETTER A WITH TILDE\\n', '44  CAPITAL LETTER D            C4  CAPITAL LETTER A WITH DIAERESIS\\n', '45  CAPITAL LETTER E            C5  CAPITAL LETTER A WITH RING ABOVE\\n', '46  CAPITAL LETTER F            C6  CAPITAL LETTER AE\\n', '47  CAPITAL LETTER G            C7  CAPITAL LETTER C WITH CEDILLA\\n', '48  CAPITAL LETTER H            C8  CAPITAL LETTER E WITH GRAVE\\n', '49  CAPITAL LETTER I            C9  CAPITAL LETTER E WITH ACUTE\\n', '4A  CAPITAL LETTER J            CA  CAPITAL LETTER E WITH CIRCUMFLEX\\n', '4B  CAPITAL LETTER K            CB  CAPITAL LETTER E WITH DIAERESIS\\n', '4C  CAPITAL LETTER L            CC  CAPITAL LETTER I WITH GRAVE\\n', '4D  CAPITAL LETTER M            CD  CAPITAL LETTER I WITH ACUTE\\n', '4E  CAPITAL LETTER N            CE  CAPITAL LETTER I WITH CIRCUMFLEX\\n', '4F  CAPITAL LETTER O            CF  CAPITAL LETTER I WITH DIAERESIS\\n', '50  CAPITAL LETTER P            D0  CAPITAL LETTER ETH (Icelandic)\\n', '51  CAPITAL LETTER Q            D1  CAPITAL LETTER N WITH TILDE\\n', '52  CAPITAL LETTER R            D2  CAPITAL LETTER O WITH GRAVE\\n', '53  CAPITAL LETTER S            D3  CAPITAL LETTER O WITH ACUTE\\n', '54  CAPITAL LETTER T            D4  CAPITAL LETTER O WITH CIRCUMFLEX\\n', '55  CAPITAL LETTER U            D5  CAPITAL LETTER O WITH TILDE\\n', '56  CAPITAL LETTER V            D6  CAPITAL LETTER O WITH DIAERESIS\\n', '57  CAPITAL LETTER W            D7  MULTIPLICATION SIGN\\n', '58  CAPITAL LETTER X            D8  CAPITAL LETTER O WITH STROKE\\n', '59  CAPITAL LETTER Y            D9  CAPITAL LETTER U WITH GRAVE\\n', '5A  CAPITAL LETTER Z            DA  CAPITAL LETTER U WITH ACUTE\\n', '5B  LEFT SQUARE BRACKET         DB  CAPITAL LETTER U WITH CIRCUMFLEX\\n', '5C  REVERSE SOLIDUS             DC  CAPITAL LETTER U WITH DIAERESIS\\n', '5D  RIGHT SQUARE BRACKET        DD  CAPITAL LETTER Y WITH ACUTE\\n', '5E  CIRCUMFLEX ACCENT           DE  CAPITAL LETTER THORN (Icelandic)\\n', '5F  LOW LINE                    DF  SMALL LETTER SHARP S (German)\\n', '60  GRAVE ACCENT                E0  SMALL LETTER A WITH GRAVE\\n', '61  SMALL LETTER A              E1  SMALL LETTER A WITH ACUTE\\n', '62  SMALL LETTER B              E2  SMALL LETTER A WITH CIRCUMFLEX\\n', '63  SMALL LETTER C              E3  SMALL LETTER A WITH TILDE\\n', '64  SMALL LETTER D              E4  SMALL LETTER A WITH DIAERESIS\\n', '65  SMALL LETTER E              E5  SMALL LETTER A WITH RING ABOVE\\n', '66  SMALL LETTER F              E6  SMALL LETTER AE\\n', '67  SMALL LETTER G              E7  SMALL LETTER C WITH CEDILLA\\n', '68  SMALL LETTER H              E8  SMALL LETTER E WITH GRAVE\\n', '69  SMALL LETTER I              E9  SMALL LETTER E WITH ACUTE\\n', '6A  SMALL LETTER J              EA  SMALL LETTER E WITH CIRCUMFLEX\\n', '6B  SMALL LETTER K              EB  SMALL LETTER E WITH DIAERESIS\\n', '6C  SMALL LETTER L              EC  SMALL LETTER I WITH GRAVE\\n', '6D  SMALL LETTER M              ED  SMALL LETTER I WITH ACUTE\\n', '6E  SMALL LETTER N              EE  SMALL LETTER I WITH CIRCUMFLEX\\n', '6F  SMALL LETTER O              EF  SMALL LETTER I WITH DIAERESIS\\n', '70  SMALL LETTER P              F0  SMALL LETTER ETH (Icelandic)\\n', '71  SMALL LETTER Q              F1  SMALL LETTER N WITH TILDE\\n', '72  SMALL LETTER R              F2  SMALL LETTER O WITH GRAVE\\n', '73  SMALL LETTER S              F3  SMALL LETTER O WITH ACUTE\\n', '74  SMALL LETTER T              F4  SMALL LETTER O WITH CIRCUMFLEX\\n', '75  SMALL LETTER U              F5  SMALL LETTER O WITH TILDE\\n', '76  SMALL LETTER V              F6  SMALL LETTER O WITH DIAERESIS\\n', '77  SMALL LETTER W              F7  DIVISION SIGN\\n', '78  SMALL LETTER X              F8  SMALL LETTER O WITH STROKE\\n', '79  SMALL LETTER Y              F9  SMALL LETTER U WITH GRAVE\\n', '7A  SMALL LETTER Z              FA  SMALL LETTER U WITH ACUTE\\n', '7B  LEFT CURLY BRACKET          FB  SMALL LETTER U WITH CIRCUMFLEX\\n', '7C  VERTICAL LINE               FC  SMALL LETTER U WITH DIAERESIS\\n', '7D  RIGHT CURLY BRACKET         FD  SMALL LETTER Y WITH ACUTE\\n', '7E  TILDE                       FE  SMALL LETTER THORN (Icelandic)\\n', '                                FF  SMALL LETTER Y WITH DIAERESIS\\n']\n",
            "<class 'list'>\n"
          ],
          "name": "stdout"
        }
      ]
    },
    {
      "cell_type": "code",
      "metadata": {
        "id": "nrRiNpC4ihmP",
        "colab_type": "code",
        "colab": {}
      },
      "source": [
        "import re\n",
        "class SpellChecker:\n",
        "  def __init__(self, input_type=\"file\", typo_count=20, name_ignore=True):\n",
        "      self.input_type = input_type\n",
        "      self.typo_count = typo_count\n",
        "      self.name_ignore = name_ignore\n",
        "\n",
        "  def rowparser(self, text):\n",
        "    word_dict = {} # create an empty dictionary \n",
        "\n",
        "    for row_num, sentence in enumerate(text): #enumerate(text) creates a list of tuples of the form [(1, <string in row1>),(2, <string in row2>)]\n",
        "      words_list = sentence.split()\n",
        "      for word_num, word in enumerate(words_list):\n",
        "        dispo = True\n",
        "        match_word = re.search('^[a-z]+$', word)\n",
        "        match_cap = re.match('[A-Z]', word)\n",
        "        #  need to allow '.' at the end of word as exception\n",
        "\n",
        "        if len(word)<=2: # can usae 'or' here for better performance\n",
        "          dispo = False\n",
        "        elif bool(match_word)==False:\n",
        "          dispo = False\n",
        "        elif self.name_ignore == True and word_num>0 and bool(match_cap)==True:\n",
        "            dispo = False\n",
        "        \n",
        "      \n",
        "        word_and_dispo = (word, dispo)\n",
        "        word_dict[(row_num, word_num)] = word_and_dispo\n",
        "\n",
        "    return word_dict"
      ],
      "execution_count": 0,
      "outputs": []
    },
    {
      "cell_type": "code",
      "metadata": {
        "id": "0JGvMAhlikFN",
        "colab_type": "code",
        "outputId": "6ac82e09-887a-436e-abdf-96c007030bac",
        "colab": {
          "base_uri": "https://localhost:8080/",
          "height": 54
        }
      },
      "source": [
        "a = SpellChecker()\n",
        "text2 = a.rowparser(text1)\n",
        "# print(text2)"
      ],
      "execution_count": 14,
      "outputs": [
        {
          "output_type": "stream",
          "text": [
            "{(0, 0): ('The', False), (0, 1): ('following', True), (0, 2): ('are', True), (0, 3): ('the', True), (0, 4): ('graphdfgical', True), (0, 5): ('(non-control)', False), (0, 6): ('charadfgdfcters', True), (0, 7): ('defined', True), (0, 8): ('by', False), (1, 0): ('ISO', False), (1, 1): ('8859-1', False), (1, 2): ('(1987).', False), (1, 3): ('Descriptions', False), (1, 4): ('in', False), (1, 5): ('words', True), (1, 6): (\"aren't\", False), (1, 7): ('all', True), (1, 8): ('that', True), (1, 9): ('helpful,', False), (2, 0): ('but', True), (2, 1): (\"they're\", False), (2, 2): ('the', True), (2, 3): ('best', True), (2, 4): ('we', False), (2, 5): ('can', True), (2, 6): ('do', False), (2, 7): ('in', False), (2, 8): ('text.', False), (2, 9): ('A', False), (2, 10): ('graphdfgdfics', True), (2, 11): ('file', True), (2, 12): ('illustrdfgating', True), (3, 0): ('the', True), (3, 1): ('charadfgcter', True), (3, 2): ('set', True), (3, 3): ('should', True), (3, 4): ('be', False), (3, 5): ('availadfgble', True), (3, 6): ('from', True), (3, 7): ('the', True), (3, 8): ('same', True), (3, 9): ('archivdge', True), (3, 10): ('as', False), (3, 11): ('this', True), (4, 0): ('file.', False), (6, 0): ('Hex', False), (6, 1): ('Description', False), (6, 2): ('Hex', False), (6, 3): ('Description', False), (8, 0): ('20', False), (8, 1): ('SPACE', False), (9, 0): ('21', False), (9, 1): ('EXCLAMATION', False), (9, 2): ('MARK', False), (9, 3): ('A1', False), (9, 4): ('INVERTED', False), (9, 5): ('EXCLAMATION', False), (9, 6): ('MARK', False), (10, 0): ('22', False), (10, 1): ('QUOTATION', False), (10, 2): ('MARK', False), (10, 3): ('A2', False), (10, 4): ('CENT', False), (10, 5): ('SIGN', False), (11, 0): ('23', False), (11, 1): ('NUMBER', False), (11, 2): ('SIGN', False), (11, 3): ('A3', False), (11, 4): ('POUND', False), (11, 5): ('SIGN', False), (12, 0): ('24', False), (12, 1): ('DOLLAR', False), (12, 2): ('SIGN', False), (12, 3): ('A4', False), (12, 4): ('CURRENCY', False), (12, 5): ('SIGN', False), (13, 0): ('25', False), (13, 1): ('PERCENT', False), (13, 2): ('SIGN', False), (13, 3): ('A5', False), (13, 4): ('YEN', False), (13, 5): ('SIGN', False), (14, 0): ('26', False), (14, 1): ('AMPERSAND', False), (14, 2): ('A6', False), (14, 3): ('BROKEN', False), (14, 4): ('BAR', False), (15, 0): ('27', False), (15, 1): ('APOSTROPHE', False), (15, 2): ('A7', False), (15, 3): ('SECTION', False), (15, 4): ('SIGN', False), (16, 0): ('28', False), (16, 1): ('LEFT', False), (16, 2): ('PARENTHESIS', False), (16, 3): ('A8', False), (16, 4): ('DIAERESIS', False), (17, 0): ('29', False), (17, 1): ('RIGHT', False), (17, 2): ('PARENTHESIS', False), (17, 3): ('A9', False), (17, 4): ('COPYRIGHT', False), (17, 5): ('SIGN', False), (18, 0): ('2A', False), (18, 1): ('ASTERISK', False), (18, 2): ('AA', False), (18, 3): ('FEMININE', False), (18, 4): ('ORDINAL', False), (18, 5): ('INDICATOR', False), (19, 0): ('2B', False), (19, 1): ('PLUS', False), (19, 2): ('SIGN', False), (19, 3): ('AB', False), (19, 4): ('LEFT-POINTING', False), (19, 5): ('DOUBLE', False), (19, 6): ('ANGLE', False), (19, 7): ('QUOTATION', False), (19, 8): ('MARK', False), (20, 0): ('2C', False), (20, 1): ('COMMA', False), (20, 2): ('AC', False), (20, 3): ('NOT', False), (20, 4): ('SIGN', False), (21, 0): ('2D', False), (21, 1): ('HYPHEN-MINUS', False), (21, 2): ('AD', False), (21, 3): ('SOFT', False), (21, 4): ('HYPHEN', False), (22, 0): ('2E', False), (22, 1): ('FULL', False), (22, 2): ('STOP', False), (22, 3): ('AE', False), (22, 4): ('REGISTERED', False), (22, 5): ('SIGN', False), (23, 0): ('2F', False), (23, 1): ('SOLIDUS', False), (23, 2): ('AF', False), (23, 3): ('OVERLINE', False), (24, 0): ('30', False), (24, 1): ('DIGIT', False), (24, 2): ('ZERO', False), (24, 3): ('B0', False), (24, 4): ('DEGREE', False), (24, 5): ('SIGN', False), (25, 0): ('31', False), (25, 1): ('DIGIT', False), (25, 2): ('ONE', False), (25, 3): ('B1', False), (25, 4): ('PLUS-MINUS', False), (25, 5): ('SIGN', False), (26, 0): ('32', False), (26, 1): ('DIGIT', False), (26, 2): ('TWO', False), (26, 3): ('B2', False), (26, 4): ('SUPERSCRIPT', False), (26, 5): ('TWO', False), (27, 0): ('33', False), (27, 1): ('DIGIT', False), (27, 2): ('THREE', False), (27, 3): ('B3', False), (27, 4): ('SUPERSCRIPT', False), (27, 5): ('THREE', False), (28, 0): ('34', False), (28, 1): ('DIGIT', False), (28, 2): ('FOUR', False), (28, 3): ('B4', False), (28, 4): ('ACUTE', False), (28, 5): ('ACCENT', False), (29, 0): ('35', False), (29, 1): ('DIGIT', False), (29, 2): ('FIVE', False), (29, 3): ('B5', False), (29, 4): ('MICRO', False), (29, 5): ('SIGN', False), (30, 0): ('36', False), (30, 1): ('DIGIT', False), (30, 2): ('SIX', False), (30, 3): ('B6', False), (30, 4): ('PILCROW', False), (30, 5): ('SIGN', False), (31, 0): ('37', False), (31, 1): ('DIGIT', False), (31, 2): ('SEVEN', False), (31, 3): ('B7', False), (31, 4): ('MIDDLE', False), (31, 5): ('DOT', False), (32, 0): ('38', False), (32, 1): ('DIGIT', False), (32, 2): ('EIGHT', False), (32, 3): ('B8', False), (32, 4): ('CEDILLA', False), (33, 0): ('39', False), (33, 1): ('DIGIT', False), (33, 2): ('NINE', False), (33, 3): ('B9', False), (33, 4): ('SUPERSCRIPT', False), (33, 5): ('ONE', False), (34, 0): ('3A', False), (34, 1): ('COLON', False), (34, 2): ('BA', False), (34, 3): ('MASCULINE', False), (34, 4): ('ORDINAL', False), (34, 5): ('INDICATOR', False), (35, 0): ('3B', False), (35, 1): ('SEMICOLON', False), (35, 2): ('BB', False), (35, 3): ('RIGHT-POINTING', False), (35, 4): ('DOUBLE', False), (35, 5): ('ANGLE', False), (35, 6): ('QUOTATION', False), (35, 7): ('MARK', False), (36, 0): ('3C', False), (36, 1): ('LESS-THAN', False), (36, 2): ('SIGN', False), (36, 3): ('BC', False), (36, 4): ('VULGAR', False), (36, 5): ('FRACTION', False), (36, 6): ('ONE', False), (36, 7): ('QUARTER', False), (37, 0): ('3D', False), (37, 1): ('EQUALS', False), (37, 2): ('SIGN', False), (37, 3): ('BD', False), (37, 4): ('VULGAR', False), (37, 5): ('FRACTION', False), (37, 6): ('ONE', False), (37, 7): ('HALF', False), (38, 0): ('3E', False), (38, 1): ('GREATER-THAN', False), (38, 2): ('SIGN', False), (38, 3): ('BE', False), (38, 4): ('VULGAR', False), (38, 5): ('FRACTION', False), (38, 6): ('THREE', False), (38, 7): ('QUARTERS', False), (39, 0): ('3F', False), (39, 1): ('QUESTION', False), (39, 2): ('MARK', False), (39, 3): ('BF', False), (39, 4): ('INVERTED', False), (39, 5): ('QUESTION', False), (39, 6): ('MARK', False), (40, 0): ('40', False), (40, 1): ('COMMERCIAL', False), (40, 2): ('AT', False), (40, 3): ('C0', False), (40, 4): ('CAPITAL', False), (40, 5): ('LETTER', False), (40, 6): ('A', False), (40, 7): ('WITH', False), (40, 8): ('GRAVE', False), (41, 0): ('41', False), (41, 1): ('CAPITAL', False), (41, 2): ('LETTER', False), (41, 3): ('A', False), (41, 4): ('C1', False), (41, 5): ('CAPITAL', False), (41, 6): ('LETTER', False), (41, 7): ('A', False), (41, 8): ('WITH', False), (41, 9): ('ACUTE', False), (42, 0): ('42', False), (42, 1): ('CAPITAL', False), (42, 2): ('LETTER', False), (42, 3): ('B', False), (42, 4): ('C2', False), (42, 5): ('CAPITAL', False), (42, 6): ('LETTER', False), (42, 7): ('A', False), (42, 8): ('WITH', False), (42, 9): ('CIRCUMFLEX', False), (43, 0): ('43', False), (43, 1): ('CAPITAL', False), (43, 2): ('LETTER', False), (43, 3): ('C', False), (43, 4): ('C3', False), (43, 5): ('CAPITAL', False), (43, 6): ('LETTER', False), (43, 7): ('A', False), (43, 8): ('WITH', False), (43, 9): ('TILDE', False), (44, 0): ('44', False), (44, 1): ('CAPITAL', False), (44, 2): ('LETTER', False), (44, 3): ('D', False), (44, 4): ('C4', False), (44, 5): ('CAPITAL', False), (44, 6): ('LETTER', False), (44, 7): ('A', False), (44, 8): ('WITH', False), (44, 9): ('DIAERESIS', False), (45, 0): ('45', False), (45, 1): ('CAPITAL', False), (45, 2): ('LETTER', False), (45, 3): ('E', False), (45, 4): ('C5', False), (45, 5): ('CAPITAL', False), (45, 6): ('LETTER', False), (45, 7): ('A', False), (45, 8): ('WITH', False), (45, 9): ('RING', False), (45, 10): ('ABOVE', False), (46, 0): ('46', False), (46, 1): ('CAPITAL', False), (46, 2): ('LETTER', False), (46, 3): ('F', False), (46, 4): ('C6', False), (46, 5): ('CAPITAL', False), (46, 6): ('LETTER', False), (46, 7): ('AE', False), (47, 0): ('47', False), (47, 1): ('CAPITAL', False), (47, 2): ('LETTER', False), (47, 3): ('G', False), (47, 4): ('C7', False), (47, 5): ('CAPITAL', False), (47, 6): ('LETTER', False), (47, 7): ('C', False), (47, 8): ('WITH', False), (47, 9): ('CEDILLA', False), (48, 0): ('48', False), (48, 1): ('CAPITAL', False), (48, 2): ('LETTER', False), (48, 3): ('H', False), (48, 4): ('C8', False), (48, 5): ('CAPITAL', False), (48, 6): ('LETTER', False), (48, 7): ('E', False), (48, 8): ('WITH', False), (48, 9): ('GRAVE', False), (49, 0): ('49', False), (49, 1): ('CAPITAL', False), (49, 2): ('LETTER', False), (49, 3): ('I', False), (49, 4): ('C9', False), (49, 5): ('CAPITAL', False), (49, 6): ('LETTER', False), (49, 7): ('E', False), (49, 8): ('WITH', False), (49, 9): ('ACUTE', False), (50, 0): ('4A', False), (50, 1): ('CAPITAL', False), (50, 2): ('LETTER', False), (50, 3): ('J', False), (50, 4): ('CA', False), (50, 5): ('CAPITAL', False), (50, 6): ('LETTER', False), (50, 7): ('E', False), (50, 8): ('WITH', False), (50, 9): ('CIRCUMFLEX', False), (51, 0): ('4B', False), (51, 1): ('CAPITAL', False), (51, 2): ('LETTER', False), (51, 3): ('K', False), (51, 4): ('CB', False), (51, 5): ('CAPITAL', False), (51, 6): ('LETTER', False), (51, 7): ('E', False), (51, 8): ('WITH', False), (51, 9): ('DIAERESIS', False), (52, 0): ('4C', False), (52, 1): ('CAPITAL', False), (52, 2): ('LETTER', False), (52, 3): ('L', False), (52, 4): ('CC', False), (52, 5): ('CAPITAL', False), (52, 6): ('LETTER', False), (52, 7): ('I', False), (52, 8): ('WITH', False), (52, 9): ('GRAVE', False), (53, 0): ('4D', False), (53, 1): ('CAPITAL', False), (53, 2): ('LETTER', False), (53, 3): ('M', False), (53, 4): ('CD', False), (53, 5): ('CAPITAL', False), (53, 6): ('LETTER', False), (53, 7): ('I', False), (53, 8): ('WITH', False), (53, 9): ('ACUTE', False), (54, 0): ('4E', False), (54, 1): ('CAPITAL', False), (54, 2): ('LETTER', False), (54, 3): ('N', False), (54, 4): ('CE', False), (54, 5): ('CAPITAL', False), (54, 6): ('LETTER', False), (54, 7): ('I', False), (54, 8): ('WITH', False), (54, 9): ('CIRCUMFLEX', False), (55, 0): ('4F', False), (55, 1): ('CAPITAL', False), (55, 2): ('LETTER', False), (55, 3): ('O', False), (55, 4): ('CF', False), (55, 5): ('CAPITAL', False), (55, 6): ('LETTER', False), (55, 7): ('I', False), (55, 8): ('WITH', False), (55, 9): ('DIAERESIS', False), (56, 0): ('50', False), (56, 1): ('CAPITAL', False), (56, 2): ('LETTER', False), (56, 3): ('P', False), (56, 4): ('D0', False), (56, 5): ('CAPITAL', False), (56, 6): ('LETTER', False), (56, 7): ('ETH', False), (56, 8): ('(Icelandic)', False), (57, 0): ('51', False), (57, 1): ('CAPITAL', False), (57, 2): ('LETTER', False), (57, 3): ('Q', False), (57, 4): ('D1', False), (57, 5): ('CAPITAL', False), (57, 6): ('LETTER', False), (57, 7): ('N', False), (57, 8): ('WITH', False), (57, 9): ('TILDE', False), (58, 0): ('52', False), (58, 1): ('CAPITAL', False), (58, 2): ('LETTER', False), (58, 3): ('R', False), (58, 4): ('D2', False), (58, 5): ('CAPITAL', False), (58, 6): ('LETTER', False), (58, 7): ('O', False), (58, 8): ('WITH', False), (58, 9): ('GRAVE', False), (59, 0): ('53', False), (59, 1): ('CAPITAL', False), (59, 2): ('LETTER', False), (59, 3): ('S', False), (59, 4): ('D3', False), (59, 5): ('CAPITAL', False), (59, 6): ('LETTER', False), (59, 7): ('O', False), (59, 8): ('WITH', False), (59, 9): ('ACUTE', False), (60, 0): ('54', False), (60, 1): ('CAPITAL', False), (60, 2): ('LETTER', False), (60, 3): ('T', False), (60, 4): ('D4', False), (60, 5): ('CAPITAL', False), (60, 6): ('LETTER', False), (60, 7): ('O', False), (60, 8): ('WITH', False), (60, 9): ('CIRCUMFLEX', False), (61, 0): ('55', False), (61, 1): ('CAPITAL', False), (61, 2): ('LETTER', False), (61, 3): ('U', False), (61, 4): ('D5', False), (61, 5): ('CAPITAL', False), (61, 6): ('LETTER', False), (61, 7): ('O', False), (61, 8): ('WITH', False), (61, 9): ('TILDE', False), (62, 0): ('56', False), (62, 1): ('CAPITAL', False), (62, 2): ('LETTER', False), (62, 3): ('V', False), (62, 4): ('D6', False), (62, 5): ('CAPITAL', False), (62, 6): ('LETTER', False), (62, 7): ('O', False), (62, 8): ('WITH', False), (62, 9): ('DIAERESIS', False), (63, 0): ('57', False), (63, 1): ('CAPITAL', False), (63, 2): ('LETTER', False), (63, 3): ('W', False), (63, 4): ('D7', False), (63, 5): ('MULTIPLICATION', False), (63, 6): ('SIGN', False), (64, 0): ('58', False), (64, 1): ('CAPITAL', False), (64, 2): ('LETTER', False), (64, 3): ('X', False), (64, 4): ('D8', False), (64, 5): ('CAPITAL', False), (64, 6): ('LETTER', False), (64, 7): ('O', False), (64, 8): ('WITH', False), (64, 9): ('STROKE', False), (65, 0): ('59', False), (65, 1): ('CAPITAL', False), (65, 2): ('LETTER', False), (65, 3): ('Y', False), (65, 4): ('D9', False), (65, 5): ('CAPITAL', False), (65, 6): ('LETTER', False), (65, 7): ('U', False), (65, 8): ('WITH', False), (65, 9): ('GRAVE', False), (66, 0): ('5A', False), (66, 1): ('CAPITAL', False), (66, 2): ('LETTER', False), (66, 3): ('Z', False), (66, 4): ('DA', False), (66, 5): ('CAPITAL', False), (66, 6): ('LETTER', False), (66, 7): ('U', False), (66, 8): ('WITH', False), (66, 9): ('ACUTE', False), (67, 0): ('5B', False), (67, 1): ('LEFT', False), (67, 2): ('SQUARE', False), (67, 3): ('BRACKET', False), (67, 4): ('DB', False), (67, 5): ('CAPITAL', False), (67, 6): ('LETTER', False), (67, 7): ('U', False), (67, 8): ('WITH', False), (67, 9): ('CIRCUMFLEX', False), (68, 0): ('5C', False), (68, 1): ('REVERSE', False), (68, 2): ('SOLIDUS', False), (68, 3): ('DC', False), (68, 4): ('CAPITAL', False), (68, 5): ('LETTER', False), (68, 6): ('U', False), (68, 7): ('WITH', False), (68, 8): ('DIAERESIS', False), (69, 0): ('5D', False), (69, 1): ('RIGHT', False), (69, 2): ('SQUARE', False), (69, 3): ('BRACKET', False), (69, 4): ('DD', False), (69, 5): ('CAPITAL', False), (69, 6): ('LETTER', False), (69, 7): ('Y', False), (69, 8): ('WITH', False), (69, 9): ('ACUTE', False), (70, 0): ('5E', False), (70, 1): ('CIRCUMFLEX', False), (70, 2): ('ACCENT', False), (70, 3): ('DE', False), (70, 4): ('CAPITAL', False), (70, 5): ('LETTER', False), (70, 6): ('THORN', False), (70, 7): ('(Icelandic)', False), (71, 0): ('5F', False), (71, 1): ('LOW', False), (71, 2): ('LINE', False), (71, 3): ('DF', False), (71, 4): ('SMALL', False), (71, 5): ('LETTER', False), (71, 6): ('SHARP', False), (71, 7): ('S', False), (71, 8): ('(German)', False), (72, 0): ('60', False), (72, 1): ('GRAVE', False), (72, 2): ('ACCENT', False), (72, 3): ('E0', False), (72, 4): ('SMALL', False), (72, 5): ('LETTER', False), (72, 6): ('A', False), (72, 7): ('WITH', False), (72, 8): ('GRAVE', False), (73, 0): ('61', False), (73, 1): ('SMALL', False), (73, 2): ('LETTER', False), (73, 3): ('A', False), (73, 4): ('E1', False), (73, 5): ('SMALL', False), (73, 6): ('LETTER', False), (73, 7): ('A', False), (73, 8): ('WITH', False), (73, 9): ('ACUTE', False), (74, 0): ('62', False), (74, 1): ('SMALL', False), (74, 2): ('LETTER', False), (74, 3): ('B', False), (74, 4): ('E2', False), (74, 5): ('SMALL', False), (74, 6): ('LETTER', False), (74, 7): ('A', False), (74, 8): ('WITH', False), (74, 9): ('CIRCUMFLEX', False), (75, 0): ('63', False), (75, 1): ('SMALL', False), (75, 2): ('LETTER', False), (75, 3): ('C', False), (75, 4): ('E3', False), (75, 5): ('SMALL', False), (75, 6): ('LETTER', False), (75, 7): ('A', False), (75, 8): ('WITH', False), (75, 9): ('TILDE', False), (76, 0): ('64', False), (76, 1): ('SMALL', False), (76, 2): ('LETTER', False), (76, 3): ('D', False), (76, 4): ('E4', False), (76, 5): ('SMALL', False), (76, 6): ('LETTER', False), (76, 7): ('A', False), (76, 8): ('WITH', False), (76, 9): ('DIAERESIS', False), (77, 0): ('65', False), (77, 1): ('SMALL', False), (77, 2): ('LETTER', False), (77, 3): ('E', False), (77, 4): ('E5', False), (77, 5): ('SMALL', False), (77, 6): ('LETTER', False), (77, 7): ('A', False), (77, 8): ('WITH', False), (77, 9): ('RING', False), (77, 10): ('ABOVE', False), (78, 0): ('66', False), (78, 1): ('SMALL', False), (78, 2): ('LETTER', False), (78, 3): ('F', False), (78, 4): ('E6', False), (78, 5): ('SMALL', False), (78, 6): ('LETTER', False), (78, 7): ('AE', False), (79, 0): ('67', False), (79, 1): ('SMALL', False), (79, 2): ('LETTER', False), (79, 3): ('G', False), (79, 4): ('E7', False), (79, 5): ('SMALL', False), (79, 6): ('LETTER', False), (79, 7): ('C', False), (79, 8): ('WITH', False), (79, 9): ('CEDILLA', False), (80, 0): ('68', False), (80, 1): ('SMALL', False), (80, 2): ('LETTER', False), (80, 3): ('H', False), (80, 4): ('E8', False), (80, 5): ('SMALL', False), (80, 6): ('LETTER', False), (80, 7): ('E', False), (80, 8): ('WITH', False), (80, 9): ('GRAVE', False), (81, 0): ('69', False), (81, 1): ('SMALL', False), (81, 2): ('LETTER', False), (81, 3): ('I', False), (81, 4): ('E9', False), (81, 5): ('SMALL', False), (81, 6): ('LETTER', False), (81, 7): ('E', False), (81, 8): ('WITH', False), (81, 9): ('ACUTE', False), (82, 0): ('6A', False), (82, 1): ('SMALL', False), (82, 2): ('LETTER', False), (82, 3): ('J', False), (82, 4): ('EA', False), (82, 5): ('SMALL', False), (82, 6): ('LETTER', False), (82, 7): ('E', False), (82, 8): ('WITH', False), (82, 9): ('CIRCUMFLEX', False), (83, 0): ('6B', False), (83, 1): ('SMALL', False), (83, 2): ('LETTER', False), (83, 3): ('K', False), (83, 4): ('EB', False), (83, 5): ('SMALL', False), (83, 6): ('LETTER', False), (83, 7): ('E', False), (83, 8): ('WITH', False), (83, 9): ('DIAERESIS', False), (84, 0): ('6C', False), (84, 1): ('SMALL', False), (84, 2): ('LETTER', False), (84, 3): ('L', False), (84, 4): ('EC', False), (84, 5): ('SMALL', False), (84, 6): ('LETTER', False), (84, 7): ('I', False), (84, 8): ('WITH', False), (84, 9): ('GRAVE', False), (85, 0): ('6D', False), (85, 1): ('SMALL', False), (85, 2): ('LETTER', False), (85, 3): ('M', False), (85, 4): ('ED', False), (85, 5): ('SMALL', False), (85, 6): ('LETTER', False), (85, 7): ('I', False), (85, 8): ('WITH', False), (85, 9): ('ACUTE', False), (86, 0): ('6E', False), (86, 1): ('SMALL', False), (86, 2): ('LETTER', False), (86, 3): ('N', False), (86, 4): ('EE', False), (86, 5): ('SMALL', False), (86, 6): ('LETTER', False), (86, 7): ('I', False), (86, 8): ('WITH', False), (86, 9): ('CIRCUMFLEX', False), (87, 0): ('6F', False), (87, 1): ('SMALL', False), (87, 2): ('LETTER', False), (87, 3): ('O', False), (87, 4): ('EF', False), (87, 5): ('SMALL', False), (87, 6): ('LETTER', False), (87, 7): ('I', False), (87, 8): ('WITH', False), (87, 9): ('DIAERESIS', False), (88, 0): ('70', False), (88, 1): ('SMALL', False), (88, 2): ('LETTER', False), (88, 3): ('P', False), (88, 4): ('F0', False), (88, 5): ('SMALL', False), (88, 6): ('LETTER', False), (88, 7): ('ETH', False), (88, 8): ('(Icelandic)', False), (89, 0): ('71', False), (89, 1): ('SMALL', False), (89, 2): ('LETTER', False), (89, 3): ('Q', False), (89, 4): ('F1', False), (89, 5): ('SMALL', False), (89, 6): ('LETTER', False), (89, 7): ('N', False), (89, 8): ('WITH', False), (89, 9): ('TILDE', False), (90, 0): ('72', False), (90, 1): ('SMALL', False), (90, 2): ('LETTER', False), (90, 3): ('R', False), (90, 4): ('F2', False), (90, 5): ('SMALL', False), (90, 6): ('LETTER', False), (90, 7): ('O', False), (90, 8): ('WITH', False), (90, 9): ('GRAVE', False), (91, 0): ('73', False), (91, 1): ('SMALL', False), (91, 2): ('LETTER', False), (91, 3): ('S', False), (91, 4): ('F3', False), (91, 5): ('SMALL', False), (91, 6): ('LETTER', False), (91, 7): ('O', False), (91, 8): ('WITH', False), (91, 9): ('ACUTE', False), (92, 0): ('74', False), (92, 1): ('SMALL', False), (92, 2): ('LETTER', False), (92, 3): ('T', False), (92, 4): ('F4', False), (92, 5): ('SMALL', False), (92, 6): ('LETTER', False), (92, 7): ('O', False), (92, 8): ('WITH', False), (92, 9): ('CIRCUMFLEX', False), (93, 0): ('75', False), (93, 1): ('SMALL', False), (93, 2): ('LETTER', False), (93, 3): ('U', False), (93, 4): ('F5', False), (93, 5): ('SMALL', False), (93, 6): ('LETTER', False), (93, 7): ('O', False), (93, 8): ('WITH', False), (93, 9): ('TILDE', False), (94, 0): ('76', False), (94, 1): ('SMALL', False), (94, 2): ('LETTER', False), (94, 3): ('V', False), (94, 4): ('F6', False), (94, 5): ('SMALL', False), (94, 6): ('LETTER', False), (94, 7): ('O', False), (94, 8): ('WITH', False), (94, 9): ('DIAERESIS', False), (95, 0): ('77', False), (95, 1): ('SMALL', False), (95, 2): ('LETTER', False), (95, 3): ('W', False), (95, 4): ('F7', False), (95, 5): ('DIVISION', False), (95, 6): ('SIGN', False), (96, 0): ('78', False), (96, 1): ('SMALL', False), (96, 2): ('LETTER', False), (96, 3): ('X', False), (96, 4): ('F8', False), (96, 5): ('SMALL', False), (96, 6): ('LETTER', False), (96, 7): ('O', False), (96, 8): ('WITH', False), (96, 9): ('STROKE', False), (97, 0): ('79', False), (97, 1): ('SMALL', False), (97, 2): ('LETTER', False), (97, 3): ('Y', False), (97, 4): ('F9', False), (97, 5): ('SMALL', False), (97, 6): ('LETTER', False), (97, 7): ('U', False), (97, 8): ('WITH', False), (97, 9): ('GRAVE', False), (98, 0): ('7A', False), (98, 1): ('SMALL', False), (98, 2): ('LETTER', False), (98, 3): ('Z', False), (98, 4): ('FA', False), (98, 5): ('SMALL', False), (98, 6): ('LETTER', False), (98, 7): ('U', False), (98, 8): ('WITH', False), (98, 9): ('ACUTE', False), (99, 0): ('7B', False), (99, 1): ('LEFT', False), (99, 2): ('CURLY', False), (99, 3): ('BRACKET', False), (99, 4): ('FB', False), (99, 5): ('SMALL', False), (99, 6): ('LETTER', False), (99, 7): ('U', False), (99, 8): ('WITH', False), (99, 9): ('CIRCUMFLEX', False), (100, 0): ('7C', False), (100, 1): ('VERTICAL', False), (100, 2): ('LINE', False), (100, 3): ('FC', False), (100, 4): ('SMALL', False), (100, 5): ('LETTER', False), (100, 6): ('U', False), (100, 7): ('WITH', False), (100, 8): ('DIAERESIS', False), (101, 0): ('7D', False), (101, 1): ('RIGHT', False), (101, 2): ('CURLY', False), (101, 3): ('BRACKET', False), (101, 4): ('FD', False), (101, 5): ('SMALL', False), (101, 6): ('LETTER', False), (101, 7): ('Y', False), (101, 8): ('WITH', False), (101, 9): ('ACUTE', False), (102, 0): ('7E', False), (102, 1): ('TILDE', False), (102, 2): ('FE', False), (102, 3): ('SMALL', False), (102, 4): ('LETTER', False), (102, 5): ('THORN', False), (102, 6): ('(Icelandic)', False), (103, 0): ('FF', False), (103, 1): ('SMALL', False), (103, 2): ('LETTER', False), (103, 3): ('Y', False), (103, 4): ('WITH', False), (103, 5): ('DIAERESIS', False)}\n"
          ],
          "name": "stdout"
        }
      ]
    },
    {
      "cell_type": "code",
      "metadata": {
        "id": "j_ch-uuOxKLZ",
        "colab_type": "code",
        "colab": {}
      },
      "source": [
        "fname = \"/content/drive/My Drive/5000words.txt\"\n",
        "dic={}\n",
        "with open(fname) as f2:\n",
        "    for line in f2:\n",
        "        word=line.split()\n",
        "        if not(word[0]==\"Rank\"): #remooving header from the words file\n",
        "               dic[word[1]]=[word[0],word[2],word[3]]\n",
        "\n",
        "\n",
        "#print(dic)"
      ],
      "execution_count": 0,
      "outputs": []
    },
    {
      "cell_type": "code",
      "metadata": {
        "id": "S6sqMl7RxO45",
        "colab_type": "code",
        "colab": {}
      },
      "source": [
        "fname = \"/content/drive/My Drive/5000words.txt\"\n",
        "dicall={}\n",
        "with open(fname) as f3:\n",
        "    for line in f3:\n",
        "        dicall[line.split()[0]]=\"\"\n",
        "#print(dicall)"
      ],
      "execution_count": 0,
      "outputs": []
    },
    {
      "cell_type": "code",
      "metadata": {
        "id": "1UkSlPXUxS2J",
        "colab_type": "code",
        "colab": {}
      },
      "source": [
        "#This function checkes if word is in dictionery \n",
        "def wordinenglish(word,dic):\n",
        "  if word in dic:\n",
        "    return True\n",
        "  else:\n",
        "    return False"
      ],
      "execution_count": 0,
      "outputs": []
    },
    {
      "cell_type": "code",
      "metadata": {
        "id": "9DIjCxWDxUbp",
        "colab_type": "code",
        "colab": {
          "base_uri": "https://localhost:8080/",
          "height": 67
        },
        "outputId": "de1d253a-4e4b-477b-84b8-6059042e8b77"
      },
      "source": [
        "lincounter=0\n",
        "wordcounter=0\n",
        "mistakecounter1=0\n",
        "mistakecounter2=0\n",
        "mistakes={}\n",
        "allwordes= text2\n",
        "print(allwordes)\n",
        "for (line,index) in allwordes.keys():\n",
        "  word=allwordes[(line,index)]\n",
        "  #print(word[0])\n",
        "  #print(word[1])\n",
        "  #wordinlinecounter=0\n",
        "  #wordcounter+=1\n",
        "\n",
        "  if word[1]:\n",
        "    if not wordinenglish(word[0],dic):\n",
        "        mistakecounter1+=1\n",
        "        \n",
        "        if not wordinenglish(word[0],dicall):\n",
        "          mistakecounter2+=1\n",
        "          mistakes[(line,index)]=word[0]\n",
        "\n",
        "    #wordinlinecounter+=1\n",
        "  #lincounter+=1\n",
        "\n",
        "\n",
        "\n",
        "print(mistakes)\n",
        "print(\"There \"+str(mistakecounter1-mistakecounter2)+\" difficoult English word\")\n",
        "#print(dicall)"
      ],
      "execution_count": 11,
      "outputs": [
        {
          "output_type": "stream",
          "text": [
            "{(1, 1): ('What', True), (1, 2): ('is', True), (1, 3): ('Banana', False), (2, 1): ('Yes', True)}\n",
            "{(1, 1): 'What', (2, 1): 'Yes'}\n",
            "Thire 1 difficoult English word\n"
          ],
          "name": "stdout"
        }
      ]
    }
  ]
}