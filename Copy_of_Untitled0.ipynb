{
  "nbformat": 4,
  "nbformat_minor": 0,
  "metadata": {
    "colab": {
      "name": "Copy of Untitled0.ipynb",
      "provenance": [],
      "collapsed_sections": []
    },
    "kernelspec": {
      "name": "python3",
      "display_name": "Python 3"
    }
  },
  "cells": [
    {
      "cell_type": "markdown",
      "metadata": {
        "id": "3vaV_PjU-OK_",
        "colab_type": "text"
      },
      "source": [
        "https://norvig.com/spell-correct.html\n",
        "\n",
        "Programming project:\n",
        "Characterize (from pasted data in txt file)\n",
        "Includes:\n",
        "Create a class\n",
        "Open file\n",
        "Datetime\n",
        "Functions\n",
        "Single line (lambda function etc.)\n",
        "Use comments \n",
        "Correct names for variables to make code readable\n",
        "Use all the tools that we learnt\n",
        "What would we do if we had more tools (like visualization)\n",
        "\n",
        "\n",
        "\n",
        "\n"
      ]
    },
    {
      "cell_type": "markdown",
      "metadata": {
        "id": "Lwe0G3CG-ZYG",
        "colab_type": "text"
      },
      "source": [
        "italicized tProgram concept:\n",
        "\n",
        "1.       Upload a file or input a text\n",
        "\n",
        "2.       The program will look for words in dictionary\n",
        "\n",
        "3.       Use lower() and split() functions in order to insert the words into list and separate\n",
        "\n",
        "4.       Don’t forget to organize the data with remove white-spaces, functuation\n",
        "\n",
        "5.       Separate to lines and to words in each lines with double-loop\n",
        "\n",
        "6.       The program will return: “in line 3: the word ‘banana’ was misspelled.\n",
        "\n",
        " \n",
        "\n",
        "Structure:\n",
        "\n",
        "1.       Input/open file\n",
        "\n",
        "2.       Parse text\n",
        "\n",
        "3.       Open dictionary file\n",
        "\n",
        "4.       Using while loop to limit the number of errors (counter)\n",
        "\n",
        "5.       For line loop- using def\n",
        "\n",
        "6.       Nested for word loop\n",
        "\n",
        "7.       Add all the correction suggestion into a dictionary as a key (tuple) , and the value will be the location using indexes.\n",
        "\n",
        "8.       Print “in line 3: the word ‘banana’ was misspelled” with formatting and the dictionary\n",
        "\n",
        "9.       % of errors\n",
        "\n",
        "10.   re\n",
        "ext"
      ]
    },
    {
      "cell_type": "markdown",
      "metadata": {
        "id": "kXwjvfO_99b6",
        "colab_type": "text"
      },
      "source": [
        "Python items to be used:\n",
        "Nested loop\n",
        "Data exploration\n",
        "String literals (/n)\n",
        "Index from list\n",
        "append(), insert() & extend()\n",
        "pop() & remove()\n",
        "join() and split()\n",
        "s.split([sep]) \n",
        "String: sep.join(lst) \n",
        "Tuple\n",
        "Tuple unpacking\n",
        "Dictionaries\n",
        "keys(), values() & items()\n",
        "If, elif, else, nested if, \n",
        "While\n",
        "list comprehension\n",
        "input()\n",
        "String formatting\n",
        "F formatting\n",
        "Formatting specifications\n",
        "Functions (def)\n",
        "Return\n",
        "Arguments\n",
        "Lambda functions\n",
        "Built in functions:\n",
        "General utility: map(), zip(), sorted(), all(), any(), enumerate(), filter(), etc.\n",
        "Conversion: int(), str(), list(), dict(), unicode(), etc.\n",
        "Math: abs(), min(), max(), sum(), etc.\n",
        "Object-Oriented: isinstance(), hasattr(), delattr(), classmethod(), etc.\n",
        "Class\n",
        "Instantiation, methods\n",
        "Files\n",
        "Open\n",
        "With block\n",
        "For loop\n",
        "datetime\n",
        "import\n",
        "Regex\n"
      ]
    },
    {
      "cell_type": "markdown",
      "metadata": {
        "id": "-4P_fSkm-C_v",
        "colab_type": "text"
      },
      "source": [
        ""
      ]
    }
  ]
}