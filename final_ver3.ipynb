{
  "nbformat": 4,
  "nbformat_minor": 0,
  "metadata": {
    "colab": {
      "name": "task1.ipynb",
      "provenance": [],
      "include_colab_link": true
    },
    "kernelspec": {
      "name": "python3",
      "display_name": "Python 3"
    }
  },
  "cells": [
    {
      "cell_type": "markdown",
      "metadata": {
        "id": "view-in-github",
        "colab_type": "text"
      },
      "source": [
        "<a href=\"https://colab.research.google.com/github/orbenishay/python-project/blob/master/final_ver3.ipynb\" target=\"_parent\"><img src=\"https://colab.research.google.com/assets/colab-badge.svg\" alt=\"Open In Colab\"/></a>"
      ]
    },
    {
      "cell_type": "markdown",
      "metadata": {
        "id": "yf7zZ1NjJW0X",
        "colab_type": "text"
      },
      "source": [
        "Task1- Input/open file\n"
      ]
    },
    {
      "cell_type": "code",
      "metadata": {
        "id": "JB1hpHNgCifb",
        "colab_type": "code",
        "outputId": "72239531-009c-4f66-88f8-1fd68ed0a553",
        "colab": {
          "base_uri": "https://localhost:8080/",
          "height": 122
        }
      },
      "source": [
        "# imports and initializations\n",
        "import sys\n",
        "if 'google.colab' in sys.modules:\n",
        "  from google.colab import files\n",
        "import re\n",
        "from google.colab import drive\n",
        "drive.mount('/content/drive')\n"
      ],
      "execution_count": 1,
      "outputs": [
        {
          "output_type": "stream",
          "text": [
            "Go to this URL in a browser: https://accounts.google.com/o/oauth2/auth?client_id=947318989803-6bn6qk8qdgf4n4g3pfee6491hc0brc4i.apps.googleusercontent.com&redirect_uri=urn%3aietf%3awg%3aoauth%3a2.0%3aoob&response_type=code&scope=email%20https%3a%2f%2fwww.googleapis.com%2fauth%2fdocs.test%20https%3a%2f%2fwww.googleapis.com%2fauth%2fdrive%20https%3a%2f%2fwww.googleapis.com%2fauth%2fdrive.photos.readonly%20https%3a%2f%2fwww.googleapis.com%2fauth%2fpeopleapi.readonly\n",
            "\n",
            "Enter your authorization code:\n",
            "··········\n",
            "Mounted at /content/drive\n"
          ],
          "name": "stdout"
        }
      ]
    },
    {
      "cell_type": "code",
      "metadata": {
        "id": "v8eHVK7WyGn5",
        "colab_type": "code",
        "colab": {}
      },
      "source": [
        "class SpellChecker:\n",
        "  def __init__(self, input_type=\"file\", typo_count=20, name_ignore=True,check_english_level=True):\n",
        "      self.input_type = input_type\n",
        "      self.typo_count = typo_count\n",
        "      self.name_ignore = name_ignore\n",
        "      self.check_english_level = check_english_level\n",
        "\n",
        "  def english_level(self,number_word,number_difficoult_words):\n",
        "      if number_word>0:\n",
        "        precent_difficoult_words=number_difficoult_words/number_word\n",
        "        if precent_difficoult_word>0.1:\n",
        "          self.englisg_level=\"is excelent\"\n",
        "        elif precent_difficoult_word>0.01:\n",
        "          self.english_level=\"is fine\"\n",
        "        else:\n",
        "          self.english_level=\"can be better\"\n",
        "      else:\n",
        "        self.english_level=\"can not be evaluate\""
      ],
      "execution_count": 0,
      "outputs": []
    },
    {
      "cell_type": "code",
      "metadata": {
        "id": "FxE6SKc6ClyV",
        "colab_type": "code",
        "outputId": "c75bd4ff-d1dd-4da0-da24-ca3073c11b5c",
        "colab": {
          "base_uri": "https://localhost:8080/",
          "height": 85
        }
      },
      "source": [
        "input_type=\"\"\n",
        "while  input_type.lower() not in ['t','f']:\n",
        "  input_type = input(\"Hello. To enter text please enter \\'t\\'. To upload a text file please enter \\'f\\': \")\n",
        "\n",
        "typo_count = \"0\"\n",
        "typo_count = input(\"please enter the amount of errors you would like to find in your text:\")\n",
        "while typo_count.isdigit() == False and typo_count !=0:\n",
        "  typo_count = input(\"please enter the amount of errors you would like to find in your text:\")\n",
        "\n",
        "name_input = \"\"\n",
        "name_ignore = True\n",
        "while name_input.lower() not in ['y', 'n']:\n",
        "  name_input = input(\"would you like to ignore names in your text? (Y/N)\")\n",
        "  if name_input == 'Y':\n",
        "    name_ignore = True\n",
        "  elif name_input == 'N':\n",
        "    name_ignor = False\n",
        "\n",
        "print(f\"Your preferences are: Input Type: {input_type}, Number of errors: {typo_count}, Ignore names: {name_input}\")\n",
        "\n"
      ],
      "execution_count": 6,
      "outputs": [
        {
          "output_type": "stream",
          "text": [
            "Hello. To enter text please enter 't'. To upload a text file please enter 'f': t\n",
            "please enter the amount of errors you would like to find in your text:2\n",
            "would you like to ignore names in your text? (Y/N)y\n",
            "Your preferences are: Input Type: t, Number of errors: 2, Ignore names: y\n"
          ],
          "name": "stdout"
        }
      ]
    },
    {
      "cell_type": "code",
      "metadata": {
        "id": "kkhx7TQEjwdE",
        "colab_type": "code",
        "outputId": "3e702968-c527-4ca0-9b6e-bb2162c1dd4d",
        "colab": {
          "base_uri": "https://localhost:8080/",
          "height": 54
        }
      },
      "source": [
        "if input_type.lower() == 't':\n",
        "  pref=SpellChecker(\"text\")\n",
        "  input2 = input(\"Please enter your text:\")\n",
        "  text1 = input2.split(\".\") #was by period\n",
        "  # print(text1)\n",
        "elif input_type.lower() == 'f':\n",
        "  pref=SpellChecker(\"file\")\n",
        "  uploaded = files.upload()\n",
        "  fname = list(uploaded.keys())[0]\n",
        "  with open(fname) as f1:\n",
        "    text1 = []\n",
        "    for line in f1:\n",
        "      text1.append(line)\n"
      ],
      "execution_count": 7,
      "outputs": [
        {
          "output_type": "stream",
          "text": [
            "Please enter your text:The followwaaaaing are the graphical (non-control) characters defined by ISO 8859-1 (1987).  Descripptions in wordes aren't all vjhjkkj illustrating the character set should be available from the same archive as this file.\n"
          ],
          "name": "stdout"
        }
      ]
    },
    {
      "cell_type": "code",
      "metadata": {
        "id": "nrRiNpC4ihmP",
        "colab_type": "code",
        "colab": {
          "base_uri": "https://localhost:8080/",
          "height": 54
        },
        "outputId": "ced40dc9-ad19-4e06-a8fe-e25abb4e28e7"
      },
      "source": [
        "def rowparser(text):\n",
        "  \n",
        "  word_dict = {}\n",
        "  for row_num, sentence in enumerate(text):\n",
        "    words_list = sentence.split()\n",
        "    for word_num, word in enumerate(words_list):\n",
        "      dispo = True\n",
        "      match_word = re.search('^[a-z]+$', word)\n",
        "      match_cap = re.match('[A-Z]', word)\n",
        "      #  need to allow '.' at the end of word as exception\n",
        "      # need to ignore comma at the end of a word\n",
        "\n",
        "      if len(word)<=2: # can usae 'or' here for better performance\n",
        "        dispo = False\n",
        "      elif bool(match_word)==False:\n",
        "        dispo = False\n",
        "      elif name_ignore == True and word_num>0 and bool(match_cap)==True:\n",
        "          dispo = False\n",
        "          \n",
        "      word_and_dispo = (word, dispo)\n",
        "      word_dict[(row_num, word_num)] = word_and_dispo\n",
        "\n",
        "  return word_dict\n",
        "\n",
        "\n",
        "print(text1)"
      ],
      "execution_count": 8,
      "outputs": [
        {
          "output_type": "stream",
          "text": [
            "['The followwaaaaing are the graphical (non-control) characters defined by ISO 8859-1 (1987)', \"  Descripptions in wordes aren't all vjhjkkj illustrating the character set should be available from the same archive as this file\", '']\n"
          ],
          "name": "stdout"
        }
      ]
    },
    {
      "cell_type": "code",
      "metadata": {
        "id": "0JGvMAhlikFN",
        "colab_type": "code",
        "colab": {
          "base_uri": "https://localhost:8080/",
          "height": 71
        },
        "outputId": "e58489bd-d0c5-46cf-f979-26bceb756a03"
      },
      "source": [
        "text2 = rowparser(text1)\n",
        "print(text2)\n",
        "print(text1)"
      ],
      "execution_count": 9,
      "outputs": [
        {
          "output_type": "stream",
          "text": [
            "{(0, 0): ('The', False), (0, 1): ('followwaaaaing', True), (0, 2): ('are', True), (0, 3): ('the', True), (0, 4): ('graphical', True), (0, 5): ('(non-control)', False), (0, 6): ('characters', True), (0, 7): ('defined', True), (0, 8): ('by', False), (0, 9): ('ISO', False), (0, 10): ('8859-1', False), (0, 11): ('(1987)', False), (1, 0): ('Descripptions', False), (1, 1): ('in', False), (1, 2): ('wordes', True), (1, 3): (\"aren't\", False), (1, 4): ('all', True), (1, 5): ('vjhjkkj', True), (1, 6): ('illustrating', True), (1, 7): ('the', True), (1, 8): ('character', True), (1, 9): ('set', True), (1, 10): ('should', True), (1, 11): ('be', False), (1, 12): ('available', True), (1, 13): ('from', True), (1, 14): ('the', True), (1, 15): ('same', True), (1, 16): ('archive', True), (1, 17): ('as', False), (1, 18): ('this', True), (1, 19): ('file', True)}\n",
            "['The followwaaaaing are the graphical (non-control) characters defined by ISO 8859-1 (1987)', \"  Descripptions in wordes aren't all vjhjkkj illustrating the character set should be available from the same archive as this file\", '']\n"
          ],
          "name": "stdout"
        }
      ]
    },
    {
      "cell_type": "code",
      "metadata": {
        "id": "j_ch-uuOxKLZ",
        "colab_type": "code",
        "colab": {}
      },
      "source": [
        "fname = \"/content/drive/My Drive/5000words.txt\"\n",
        "dic={}\n",
        "with open(fname) as f2:\n",
        "    for line in f2:\n",
        "        word=line.split()\n",
        "        if not(word[0]==\"Rank\"): #remooving header from the words file\n",
        "               dic[word[1]]=[word[0],word[2],word[3]]\n",
        "\n",
        "\n",
        "# print(dic)\n",
        "\n",
        "fname = \"/content/drive/My Drive/allwords.txt\"\n",
        "dicall={}\n",
        "with open(fname) as f3:\n",
        "    for line in f3:\n",
        "        dicall[line.split()[0]]=\"\"\n",
        "#print(dicall)"
      ],
      "execution_count": 0,
      "outputs": []
    },
    {
      "cell_type": "code",
      "metadata": {
        "id": "9DIjCxWDxUbp",
        "colab_type": "code",
        "colab": {}
      },
      "source": [
        "def speller(allwordes,dic,dicall={}):\n",
        "  #~~~~~~~~~~~~~~~~~~~~~~~~~~~~~~~~~~~~~~~~~~~~~~~~~~~~~~~~~~~~~~~~~~~~~~~~~\n",
        "  #This function cheks spelling \n",
        "  #receives inputs:\n",
        "  #allwords - All the words to be check, format = {(line,index):[\"word\",True/Falls]} the bulian check or not check spelling for the word\n",
        "  #dic - primery dictionery, format {\"word\":[\"\"]} recomended to use friquent words in English to make an effishient allgoritem\n",
        "  #dicall - secondery dictionery, format {\"word\":[\"\"]} dictionery with more word in Eglish then dic, diffult value is emty and not be used\n",
        "  #returns outputs:\n",
        "  #mistakes - words checked and not at two dictionery, format {(line,index):[\"word\"]}\n",
        "  #~~~~~~~~~~~~~~~~~~~~~~~~~~~~~~~~~~~~~~~~~~~~~~~~~~~~~~~~~~~~~~~~~~~~~~~~~~~~~\n",
        "\n",
        "  lincounter=0\n",
        "  wordcounter=0\n",
        "  mistakecounter1=0\n",
        "  mistakecounter2=0\n",
        "  mistakes={}\n",
        "  allwordes= text2\n",
        "  # print(allwordes)\n",
        "  for (line,index) in allwordes.keys():\n",
        "    if mistakecounter2 >= int(typo_count):\n",
        "      break\n",
        "    word=allwordes[(line,index)]\n",
        "    if word[1]: # (if word[1]=True)\n",
        "        if not wordinenglish(word[0],dic):\n",
        "          mistakecounter1+=1\n",
        "        \n",
        "          if not wordinenglish(word[0],dicall):\n",
        "            mistakecounter2+=1\n",
        "            mistakes[(line,index)]=word[0]\n",
        "    \n",
        "\n",
        "      #wordinlinecounter+=1\n",
        "    #lincounter+=1\n",
        "  print(mistakecounter2)\n",
        "  print(mistakes)\n",
        "  print(\"There are \" + str(mistakecounter1-mistakecounter2) + \" difficult English words\")\n",
        "  #print(dicall)\n",
        "\n",
        "  return mistakes, mistakecounter1, mistakecounter2"
      ],
      "execution_count": 0,
      "outputs": []
    },
    {
      "cell_type": "code",
      "metadata": {
        "id": "66-QUgCy8Rtj",
        "colab_type": "code",
        "outputId": "1040e447-04f5-4031-c00d-48f997f0e50d",
        "colab": {
          "base_uri": "https://localhost:8080/",
          "height": 51
        }
      },
      "source": [
        "def results(i):\n",
        "    for (line,index) in mistakes.keys():\n",
        "      print(f\"In line {str(line)}: the word {mistakes[(line,index)]} was mispelled\")\n",
        "\n",
        "\n",
        "results(mistakes)"
      ],
      "execution_count": 35,
      "outputs": [
        {
          "output_type": "stream",
          "text": [
            "In line 0: the word followwwwwwing was mispelled\n",
            "In line 1: the word wordes was mispelled\n"
          ],
          "name": "stdout"
        }
      ]
    }
  ]
}