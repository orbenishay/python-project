{
  "nbformat": 4,
  "nbformat_minor": 0,
  "metadata": {
    "colab": {
      "name": "task1.ipynb",
      "provenance": [],
      "include_colab_link": true
    },
    "kernelspec": {
      "name": "python3",
      "display_name": "Python 3"
    }
  },
  "cells": [
    {
      "cell_type": "markdown",
      "metadata": {
        "id": "view-in-github",
        "colab_type": "text"
      },
      "source": [
        "<a href=\"https://colab.research.google.com/github/orbenishay/python-project/blob/master/final_ver3.ipynb\" target=\"_parent\"><img src=\"https://colab.research.google.com/assets/colab-badge.svg\" alt=\"Open In Colab\"/></a>"
      ]
    },
    {
      "cell_type": "markdown",
      "metadata": {
        "id": "yf7zZ1NjJW0X",
        "colab_type": "text"
      },
      "source": [
        "Task1- Input/open file\n"
      ]
    },
    {
      "cell_type": "code",
      "metadata": {
        "id": "JB1hpHNgCifb",
        "colab_type": "code",
        "outputId": "67d07eb4-23eb-425b-f1d0-b951eeca3b59",
        "colab": {
          "base_uri": "https://localhost:8080/",
          "height": 122
        }
      },
      "source": [
        "# imports and initializations\n",
        "import sys\n",
        "if 'google.colab' in sys.modules:\n",
        "  from google.colab import files\n",
        "import re\n",
        "from google.colab import drive\n",
        "drive.mount('/content/drive')\n"
      ],
      "execution_count": 1,
      "outputs": [
        {
          "output_type": "stream",
          "text": [
            "Go to this URL in a browser: https://accounts.google.com/o/oauth2/auth?client_id=947318989803-6bn6qk8qdgf4n4g3pfee6491hc0brc4i.apps.googleusercontent.com&redirect_uri=urn%3aietf%3awg%3aoauth%3a2.0%3aoob&response_type=code&scope=email%20https%3a%2f%2fwww.googleapis.com%2fauth%2fdocs.test%20https%3a%2f%2fwww.googleapis.com%2fauth%2fdrive%20https%3a%2f%2fwww.googleapis.com%2fauth%2fdrive.photos.readonly%20https%3a%2f%2fwww.googleapis.com%2fauth%2fpeopleapi.readonly\n",
            "\n",
            "Enter your authorization code:\n",
            "··········\n",
            "Mounted at /content/drive\n"
          ],
          "name": "stdout"
        }
      ]
    },
    {
      "cell_type": "code",
      "metadata": {
        "id": "v8eHVK7WyGn5",
        "colab_type": "code",
        "colab": {}
      },
      "source": [
        "class SpellChecker:\n",
        "  def __init__(self, input_type=\"file\", typo_count=20, name_ignore=True):\n",
        "      self.input_type = input_type\n",
        "      self.typo_count = typo_count\n",
        "      self.name_ignore = name_ignore"
      ],
      "execution_count": 0,
      "outputs": []
    },
    {
      "cell_type": "code",
      "metadata": {
        "id": "FxE6SKc6ClyV",
        "colab_type": "code",
        "outputId": "a51e45c0-7a88-474a-abfe-0c95f1f7bd72",
        "colab": {
          "base_uri": "https://localhost:8080/",
          "height": 85
        }
      },
      "source": [
        "input_type=\"\"\n",
        "while  input_type.lower() not in ['t','f']:\n",
        "  input_type = input(\"Hello. To enter text please enter \\'t\\'. To upload a text file please enter \\'f\\': \")\n",
        "\n",
        "typo_count = \"0\"\n",
        "typo_count = input(\"please enter the amount of errors you would like to find in your text:\")\n",
        "while typo_count.isdigit() == False and typo_count !=0:\n",
        "  typo_count = input(\"please enter the amount of errors you would like to find in your text:\")\n",
        "\n",
        "name_input = \"\"\n",
        "name_ignore = True\n",
        "while name_input.lower() not in ['y', 'n']:\n",
        "  name_input = input(\"would you like to ignore names in your text? (Y/N)\")\n",
        "  if name_input == 'Y':\n",
        "    name_ignore = True\n",
        "  elif name_input == 'N':\n",
        "    name_ignor = False\n",
        "\n",
        "print(f\"Your preferences are: Input Type: {input_type}, Number of errors: {typo_count}, Ignore names: {name_input}\")\n",
        "\n"
      ],
      "execution_count": 22,
      "outputs": [
        {
          "output_type": "stream",
          "text": [
            "Hello. To enter text please enter 't'. To upload a text file please enter 'f': f\n",
            "please enter the amount of errors you would like to find in your text:12\n",
            "would you like to ignore names in your text? (Y/N)y\n",
            "Your preferences are: Input Type: f, Number of errors: 12, Ignore names: y\n"
          ],
          "name": "stdout"
        }
      ]
    },
    {
      "cell_type": "code",
      "metadata": {
        "id": "kkhx7TQEjwdE",
        "colab_type": "code",
        "outputId": "5531ab99-0d0a-4058-c3ae-e8ca290480d4",
        "colab": {
          "resources": {
            "http://localhost:8080/nbextensions/google.colab/files.js": {
              "data": "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",
              "ok": true,
              "headers": [
                [
                  "content-type",
                  "application/javascript"
                ]
              ],
              "status": 200,
              "status_text": ""
            }
          },
          "base_uri": "https://localhost:8080/",
          "height": 74
        }
      },
      "source": [
        "if input_type.lower() == 't':\n",
        "  pref=SpellChecker(\"text\")\n",
        "  input2 = input(\"Please enter your text:\")\n",
        "  text1 = input2.split(\".\") #was by period\n",
        "  # print(text1)\n",
        "elif input_type.lower() == 'f':\n",
        "  pref=SpellChecker(\"file\")\n",
        "  uploaded = files.upload()\n",
        "  fname = list(uploaded.keys())[0]\n",
        "  with open(fname) as f1:\n",
        "    text1 = []\n",
        "    for line in f1:\n",
        "      text1.append(line)\n"
      ],
      "execution_count": 23,
      "outputs": [
        {
          "output_type": "display_data",
          "data": {
            "text/html": [
              "\n",
              "     <input type=\"file\" id=\"files-cb8f06fc-f933-4f89-a9b2-c1d021ca3f95\" name=\"files[]\" multiple disabled />\n",
              "     <output id=\"result-cb8f06fc-f933-4f89-a9b2-c1d021ca3f95\">\n",
              "      Upload widget is only available when the cell has been executed in the\n",
              "      current browser session. Please rerun this cell to enable.\n",
              "      </output>\n",
              "      <script src=\"/nbextensions/google.colab/files.js\"></script> "
            ],
            "text/plain": [
              "<IPython.core.display.HTML object>"
            ]
          },
          "metadata": {
            "tags": []
          }
        },
        {
          "output_type": "stream",
          "text": [
            "Saving text1.txt to text1 (2).txt\n"
          ],
          "name": "stdout"
        }
      ]
    },
    {
      "cell_type": "code",
      "metadata": {
        "id": "nrRiNpC4ihmP",
        "colab_type": "code",
        "colab": {
          "base_uri": "https://localhost:8080/",
          "height": 54
        },
        "outputId": "2af17053-3975-45c6-c2cc-bce2c7159cef"
      },
      "source": [
        "def rowparser(text):\n",
        "  \n",
        "  word_dict = {}\n",
        "  for row_num, sentence in enumerate(text):\n",
        "    words_list = sentence.split()\n",
        "    for word_num, word in enumerate(words_list):\n",
        "      dispo = True\n",
        "      match_word = re.search('^[a-z]+$', word)\n",
        "      match_cap = re.match('[A-Z]', word)\n",
        "      #  need to allow '.' at the end of word as exception\n",
        "      # need to ignore comma at the end of a word\n",
        "\n",
        "      if len(word)<=2: # can usae 'or' here for better performance\n",
        "        dispo = False\n",
        "      elif bool(match_word)==False:\n",
        "        dispo = False\n",
        "      elif name_ignore == True and word_num>0 and bool(match_cap)==True:\n",
        "          dispo = False\n",
        "          \n",
        "      word_and_dispo = (word, dispo)\n",
        "      word_dict[(row_num, word_num)] = word_and_dispo\n",
        "\n",
        "  return word_dict\n",
        "\n",
        "\n",
        "print(text1)"
      ],
      "execution_count": 30,
      "outputs": [
        {
          "output_type": "stream",
          "text": [
            "['The followwing are the graphical (non-control) characters defined by\\n', \"ISO 8859-1 (1987).  Descripptions in words aren't all thagt helpful,\\n\", \"but they're the best we can do in text.  A graphics file illustrating\\n\", 'the character set should be available from the same archive as this\\n', 'file.']\n"
          ],
          "name": "stdout"
        }
      ]
    },
    {
      "cell_type": "code",
      "metadata": {
        "id": "0JGvMAhlikFN",
        "colab_type": "code",
        "colab": {
          "base_uri": "https://localhost:8080/",
          "height": 54
        },
        "outputId": "99740c75-f525-47c1-feb1-1ad6d1190507"
      },
      "source": [
        "text2 = rowparser(text1)\n",
        "print(text2)"
      ],
      "execution_count": 31,
      "outputs": [
        {
          "output_type": "stream",
          "text": [
            "{(0, 0): ('The', False), (0, 1): ('followwing', True), (0, 2): ('are', True), (0, 3): ('the', True), (0, 4): ('graphical', True), (0, 5): ('(non-control)', False), (0, 6): ('characters', True), (0, 7): ('defined', True), (0, 8): ('by', False), (1, 0): ('ISO', False), (1, 1): ('8859-1', False), (1, 2): ('(1987).', False), (1, 3): ('Descripptions', False), (1, 4): ('in', False), (1, 5): ('words', True), (1, 6): (\"aren't\", False), (1, 7): ('all', True), (1, 8): ('thagt', True), (1, 9): ('helpful,', False), (2, 0): ('but', True), (2, 1): (\"they're\", False), (2, 2): ('the', True), (2, 3): ('best', True), (2, 4): ('we', False), (2, 5): ('can', True), (2, 6): ('do', False), (2, 7): ('in', False), (2, 8): ('text.', False), (2, 9): ('A', False), (2, 10): ('graphics', True), (2, 11): ('file', True), (2, 12): ('illustrating', True), (3, 0): ('the', True), (3, 1): ('character', True), (3, 2): ('set', True), (3, 3): ('should', True), (3, 4): ('be', False), (3, 5): ('available', True), (3, 6): ('from', True), (3, 7): ('the', True), (3, 8): ('same', True), (3, 9): ('archive', True), (3, 10): ('as', False), (3, 11): ('this', True), (4, 0): ('file.', False)}\n"
          ],
          "name": "stdout"
        }
      ]
    },
    {
      "cell_type": "code",
      "metadata": {
        "id": "j_ch-uuOxKLZ",
        "colab_type": "code",
        "colab": {}
      },
      "source": [
        "fname = \"/content/drive/My Drive/5000words.txt\"\n",
        "dic={}\n",
        "with open(fname) as f2:\n",
        "    for line in f2:\n",
        "        word=line.split()\n",
        "        if not(word[0]==\"Rank\"): #remooving header from the words file\n",
        "               dic[word[1]]=[word[0],word[2],word[3]]\n",
        "\n",
        "\n",
        "# print(dic)"
      ],
      "execution_count": 0,
      "outputs": []
    },
    {
      "cell_type": "code",
      "metadata": {
        "id": "S6sqMl7RxO45",
        "colab_type": "code",
        "colab": {}
      },
      "source": [
        "fname = \"/content/drive/My Drive/allwords.txt\"\n",
        "dicall={}\n",
        "with open(fname) as f3:\n",
        "    for line in f3:\n",
        "        dicall[line.split()[0]]=\"\"\n",
        "#print(dicall)"
      ],
      "execution_count": 0,
      "outputs": []
    },
    {
      "cell_type": "code",
      "metadata": {
        "id": "1UkSlPXUxS2J",
        "colab_type": "code",
        "colab": {}
      },
      "source": [
        "#This function checkes if word is in dictionery \n",
        "def wordinenglish(word,dic):\n",
        "  # return word in dic\n",
        "  if word in dic:\n",
        "    return True\n",
        "  else:\n",
        "    return False"
      ],
      "execution_count": 0,
      "outputs": []
    },
    {
      "cell_type": "code",
      "metadata": {
        "id": "9DIjCxWDxUbp",
        "colab_type": "code",
        "outputId": "34599a5e-97cb-4059-9f3c-09cb685f7647",
        "colab": {
          "base_uri": "https://localhost:8080/",
          "height": 105
        }
      },
      "source": [
        "lincounter=0\n",
        "wordcounter=0\n",
        "mistakecounter1=0\n",
        "mistakecounter2=0\n",
        "mistakes={}\n",
        "allwordes= text2\n",
        "print(allwordes)\n",
        "for (line,index) in allwordes.keys():\n",
        "  word=allwordes[(line,index)]\n",
        "  #print(word[0])\n",
        "  #print(word[1])\n",
        "  #wordinlinecounter=0\n",
        "  #wordcounter+=1\n",
        "  if mistakecounter2 > int(typo_count):\n",
        "    pass\n",
        "    if word[1]:\n",
        "     if not wordinenglish(word[0],dic):\n",
        "        mistakecounter1+=1\n",
        "      \n",
        "        if not wordinenglish(word[0],dicall):\n",
        "          mistakecounter2+=1\n",
        "          mistakes[(line,index)]=word[0]\n",
        "\n",
        "    #wordinlinecounter+=1\n",
        "  #lincounter+=1\n",
        "print(mistakecounter2)\n",
        "print(mistakes)\n",
        "print(\"There are \" + str(mistakecounter1-mistakecounter2) + \" difficult English words\")\n",
        "#print(dicall)"
      ],
      "execution_count": 17,
      "outputs": [
        {
          "output_type": "stream",
          "text": [
            "{(0, 8): ('by', False), (1, 9): ('helpful,', False), (2, 12): ('illustrating', True), (3, 11): ('this', True), (4, 0): ('file.', False)}\n",
            "0\n",
            "{}\n",
            "There are 0 difficult English words\n"
          ],
          "name": "stdout"
        }
      ]
    },
    {
      "cell_type": "code",
      "metadata": {
        "id": "66-QUgCy8Rtj",
        "colab_type": "code",
        "outputId": "e85736c1-1941-4fc0-bf92-7f7dc82f5ef6",
        "colab": {
          "base_uri": "https://localhost:8080/",
          "height": 134
        }
      },
      "source": [
        "def results(i):\n",
        "    for (line,index) in mistakes.keys():\n",
        "      print(f\"In line {str(line)}: the word {mistakes[(line,index)]} was mispelled\")\n",
        "\n",
        "\n",
        "results(mistakes)"
      ],
      "execution_count": 0,
      "outputs": [
        {
          "output_type": "stream",
          "text": [
            "in line 0: the word graphdfgical was mispelled\n",
            "in line 0: the word charadfgdfcters was mispelled\n",
            "in line 2: the word graphdfgdfics was mispelled\n",
            "in line 2: the word illustrdfgating was mispelled\n",
            "in line 3: the word charadfgcter was mispelled\n",
            "in line 3: the word availadfgble was mispelled\n",
            "in line 3: the word archivdge was mispelled\n"
          ],
          "name": "stdout"
        }
      ]
    },
    {
      "cell_type": "code",
      "metadata": {
        "id": "LB33blbz8-OB",
        "colab_type": "code",
        "colab": {}
      },
      "source": [
        "dict1 = {1:[2,4,'rington'], 2: [4,5,'rainboo'], 3: [1,0,'babun'], 4: [0,2,'philosofie']}\n",
        "def num_of_errors(x):\n",
        "  return len(key(x))\n",
        "\n",
        "example = num_of_errors(dict1)\n",
        "print(example)"
      ],
      "execution_count": 0,
      "outputs": []
    },
    {
      "cell_type": "code",
      "metadata": {
        "id": "Hm6CJ_kO8-rJ",
        "colab_type": "code",
        "colab": {}
      },
      "source": [
        "list1 = [[0, 'rington'], [2, 'rainboo'], [2, 'babun'], [7, 'philosofie']]\n",
        "def resaults(i):\n",
        "    print1 = print(\"in line {}: the word {} was mispelled\".format(list1*)\n",
        "    return print1\n",
        "\n",
        "print(results(list1))"
      ],
      "execution_count": 0,
      "outputs": []
    },
    {
      "cell_type": "code",
      "metadata": {
        "id": "_-rU-T7M9CRA",
        "colab_type": "code",
        "colab": {}
      },
      "source": [
        "dict1 = {1:[2,4,'rington'], 2: [4,5,'rainboo'], 3: [1,0,'babun'], 4: [0,2,'philosofie']}\n",
        "def num_of_errors(x):"
      ],
      "execution_count": 0,
      "outputs": []
    }
  ]
}